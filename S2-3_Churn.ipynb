{
  "cells": [
    {
      "cell_type": "markdown",
      "metadata": {
        "id": "8oBjdZaFcvh_"
      },
      "source": [
        "In marketing, churn refers to the behavior of the customer intent on\n",
        "terminating his or her relationship with the company. There are different types of churn, in which it is clearly identifiable or in the non-subscription business in which the churn is not recognizable. Furthermore, the churn can be driven or not by a marketing campaign, it can be voluntary or non-voluntary. It is not easy to identify the churn."
      ]
    },
    {
      "cell_type": "markdown",
      "metadata": {
        "id": "mrPkBAROeiop"
      },
      "source": [
        "Initially I import the libraries and the data I need."
      ]
    },
    {
      "cell_type": "code",
      "execution_count": null,
      "metadata": {
        "colab": {
          "base_uri": "https://localhost:8080/"
        },
        "id": "kHi-NjyfoUFq",
        "outputId": "946a4b53-7896-4ae7-9ddc-f796960a4940"
      },
      "outputs": [
        {
          "name": "stdout",
          "output_type": "stream",
          "text": [
            "Mounted at /content/gdrive\n"
          ]
        }
      ],
      "source": [
        "import pandas as pd\n",
        "from datetime import datetime\n",
        "import pandas as pd\n",
        "import numpy as np\n",
        "import csv\n",
        "from google.colab import drive\n",
        "from sklearn.model_selection import train_test_split\n",
        "from sklearn.ensemble import RandomForestClassifier\n",
        "from sklearn.linear_model import LogisticRegression\n",
        "from sklearn.tree import DecisionTreeClassifier\n",
        "from sklearn.neural_network import MLPClassifier\n",
        "from sklearn.metrics import accuracy_score, precision_score, recall_score, f1_score\n",
        "drive.mount('/content/gdrive')\n",
        "data=pd.read_csv(\"/content/gdrive/MyDrive/customer_orders.csv\")\n",
        "\n",
        "\n",
        "\n"
      ]
    },
    {
      "cell_type": "markdown",
      "metadata": {
        "id": "u6olP9Acends"
      },
      "source": [
        "These are the columns in the dataset:"
      ]
    },
    {
      "cell_type": "code",
      "execution_count": null,
      "metadata": {
        "colab": {
          "base_uri": "https://localhost:8080/"
        },
        "id": "gn0vPLOgMbfm",
        "outputId": "3b26b137-77fe-4ea8-8128-12e45d356ddd"
      },
      "outputs": [
        {
          "data": {
            "text/plain": [
              "Index(['order_id', 'customer_id', 'store_id', 'product_id', 'direction',\n",
              "       'gross_price', 'price_reduction', 'purchase_datetime', 'product_class',\n",
              "       'address_id', 'birthdate', 'gender', 'job_type', 'email_provider',\n",
              "       'flag_phone_provided', 'flag_privacy', 'postal_code', 'district',\n",
              "       'region', 'account_id', 'favorite_store', 'loyalty_type',\n",
              "       'loyatlty_status', 'activation_date', 'loyalty_status'],\n",
              "      dtype='object')"
            ]
          },
          "execution_count": 3,
          "metadata": {},
          "output_type": "execute_result"
        }
      ],
      "source": [
        "data.columns"
      ]
    },
    {
      "cell_type": "markdown",
      "metadata": {
        "id": "iVnd3D79fhTV"
      },
      "source": [
        "I determine the first and the last purchase date for each customer"
      ]
    },
    {
      "cell_type": "code",
      "execution_count": null,
      "metadata": {
        "id": "XV0ls0QhfZPq"
      },
      "outputs": [],
      "source": [
        "# date first purchase\n",
        "final=data\n",
        "data_min = final.groupby('customer_id')['purchase_datetime'].min().reset_index()\n",
        "data_min.columns = ['customer_id', 'PRIMA_DATA']\n",
        "\n",
        "# date last purchase\n",
        "data_max = final.groupby('customer_id')['purchase_datetime'].max().reset_index()\n",
        "data_max.columns = ['customer_id', 'ULTIMA_DATA']"
      ]
    },
    {
      "cell_type": "markdown",
      "metadata": {
        "id": "RdUaRfTnf-Y8"
      },
      "source": [
        "Once I have computed this calculation for each customer, I evaluate the difference between these two dates, I delete the customers that have made purchase only in a single day."
      ]
    },
    {
      "cell_type": "code",
      "execution_count": null,
      "metadata": {
        "id": "NsddsByUfe-K"
      },
      "outputs": [],
      "source": [
        "# I join the previous tables in order to determine the difference between the two dates\n",
        "diff_date_acquisto = pd.merge(data_min, data_max, on='customer_id')\n",
        "diff_date_acquisto['ULTIMA_DATA']=pd.to_datetime(diff_date_acquisto['ULTIMA_DATA'])\n",
        "diff_date_acquisto['PRIMA_DATA']=pd.to_datetime(diff_date_acquisto['PRIMA_DATA'])\n",
        "diff_date_acquisto['DIFF_IN_DAYS'] = (diff_date_acquisto['ULTIMA_DATA'] - diff_date_acquisto['PRIMA_DATA']).dt.days\n",
        "\n",
        "#I delete the differences equal to 0\n",
        "diff_date_acquisto = diff_date_acquisto[diff_date_acquisto['DIFF_IN_DAYS'] != 0]\n"
      ]
    },
    {
      "cell_type": "markdown",
      "metadata": {
        "id": "-pkU-XPFhGXm"
      },
      "source": [
        "As explained before, it is not easy to identify the churners.\n",
        "To determine after how many days from the last purchase a customer can be define churner I use the repurchase curve determined in  the RFM analysis.\n",
        "In fact, from the previous model, I discover that above the 90% of the customer repurchase after 82 days. I choose as reference date :2023-02-07. The customers that did not purchase in the 82 days before this date are classified as churners.\n"
      ]
    },
    {
      "cell_type": "code",
      "execution_count": null,
      "metadata": {
        "id": "VKCrnNXif6qx"
      },
      "outputs": [],
      "source": [
        "from datetime import datetime, timedelta\n",
        "# I assign the value 0[NON CHURNERS] for the ones that have made a purchase at the most 82 days before 2023-02-07(reference date), 1(CHURNERS) otherwise.\n",
        "last_82 = diff_date_acquisto[diff_date_acquisto['ULTIMA_DATA'] <= datetime.strptime('2023-02-07', '%Y-%m-%d')-timedelta(days=82)].copy()\n",
        "last_82['CHURN'] = 1\n",
        "\n",
        "# I join last_82 and diff_date_acquisto and after I assign the value 1 for churners\n",
        "diff_date_acquisto = pd.merge(diff_date_acquisto, last_82, how='outer')\n",
        "diff_date_acquisto['CHURN'] = diff_date_acquisto['CHURN'].fillna(0)\n",
        "\n",
        "diff_date_acquisto = diff_date_acquisto[['customer_id', 'CHURN']]\n"
      ]
    },
    {
      "cell_type": "code",
      "execution_count": null,
      "metadata": {
        "colab": {
          "base_uri": "https://localhost:8080/",
          "height": 423
        },
        "id": "B1haEvnxVA2I",
        "outputId": "41396a3a-6ac1-4b71-f659-1c33ac3daa2a"
      },
      "outputs": [
        {
          "data": {
            "text/html": [
              "\n",
              "\n",
              "  <div id=\"df-eccd83dd-ee55-4fe1-b455-0e99967d0452\">\n",
              "    <div class=\"colab-df-container\">\n",
              "      <div>\n",
              "<style scoped>\n",
              "    .dataframe tbody tr th:only-of-type {\n",
              "        vertical-align: middle;\n",
              "    }\n",
              "\n",
              "    .dataframe tbody tr th {\n",
              "        vertical-align: top;\n",
              "    }\n",
              "\n",
              "    .dataframe thead th {\n",
              "        text-align: right;\n",
              "    }\n",
              "</style>\n",
              "<table border=\"1\" class=\"dataframe\">\n",
              "  <thead>\n",
              "    <tr style=\"text-align: right;\">\n",
              "      <th></th>\n",
              "      <th>customer_id</th>\n",
              "      <th>CHURN</th>\n",
              "    </tr>\n",
              "  </thead>\n",
              "  <tbody>\n",
              "    <tr>\n",
              "      <th>0</th>\n",
              "      <td>23</td>\n",
              "      <td>0.0</td>\n",
              "    </tr>\n",
              "    <tr>\n",
              "      <th>1</th>\n",
              "      <td>30</td>\n",
              "      <td>1.0</td>\n",
              "    </tr>\n",
              "    <tr>\n",
              "      <th>2</th>\n",
              "      <td>32</td>\n",
              "      <td>0.0</td>\n",
              "    </tr>\n",
              "    <tr>\n",
              "      <th>3</th>\n",
              "      <td>48</td>\n",
              "      <td>0.0</td>\n",
              "    </tr>\n",
              "    <tr>\n",
              "      <th>4</th>\n",
              "      <td>50</td>\n",
              "      <td>0.0</td>\n",
              "    </tr>\n",
              "    <tr>\n",
              "      <th>...</th>\n",
              "      <td>...</td>\n",
              "      <td>...</td>\n",
              "    </tr>\n",
              "    <tr>\n",
              "      <th>68959</th>\n",
              "      <td>928567</td>\n",
              "      <td>0.0</td>\n",
              "    </tr>\n",
              "    <tr>\n",
              "      <th>68960</th>\n",
              "      <td>928707</td>\n",
              "      <td>0.0</td>\n",
              "    </tr>\n",
              "    <tr>\n",
              "      <th>68961</th>\n",
              "      <td>928777</td>\n",
              "      <td>0.0</td>\n",
              "    </tr>\n",
              "    <tr>\n",
              "      <th>68962</th>\n",
              "      <td>929438</td>\n",
              "      <td>0.0</td>\n",
              "    </tr>\n",
              "    <tr>\n",
              "      <th>68963</th>\n",
              "      <td>929899</td>\n",
              "      <td>0.0</td>\n",
              "    </tr>\n",
              "  </tbody>\n",
              "</table>\n",
              "<p>68964 rows × 2 columns</p>\n",
              "</div>\n",
              "      <button class=\"colab-df-convert\" onclick=\"convertToInteractive('df-eccd83dd-ee55-4fe1-b455-0e99967d0452')\"\n",
              "              title=\"Convert this dataframe to an interactive table.\"\n",
              "              style=\"display:none;\">\n",
              "\n",
              "  <svg xmlns=\"http://www.w3.org/2000/svg\" height=\"24px\"viewBox=\"0 0 24 24\"\n",
              "       width=\"24px\">\n",
              "    <path d=\"M0 0h24v24H0V0z\" fill=\"none\"/>\n",
              "    <path d=\"M18.56 5.44l.94 2.06.94-2.06 2.06-.94-2.06-.94-.94-2.06-.94 2.06-2.06.94zm-11 1L8.5 8.5l.94-2.06 2.06-.94-2.06-.94L8.5 2.5l-.94 2.06-2.06.94zm10 10l.94 2.06.94-2.06 2.06-.94-2.06-.94-.94-2.06-.94 2.06-2.06.94z\"/><path d=\"M17.41 7.96l-1.37-1.37c-.4-.4-.92-.59-1.43-.59-.52 0-1.04.2-1.43.59L10.3 9.45l-7.72 7.72c-.78.78-.78 2.05 0 2.83L4 21.41c.39.39.9.59 1.41.59.51 0 1.02-.2 1.41-.59l7.78-7.78 2.81-2.81c.8-.78.8-2.07 0-2.86zM5.41 20L4 18.59l7.72-7.72 1.47 1.35L5.41 20z\"/>\n",
              "  </svg>\n",
              "      </button>\n",
              "\n",
              "\n",
              "\n",
              "    <div id=\"df-8604df78-b834-4b4b-a24f-501ae1c19371\">\n",
              "      <button class=\"colab-df-quickchart\" onclick=\"quickchart('df-8604df78-b834-4b4b-a24f-501ae1c19371')\"\n",
              "              title=\"Suggest charts.\"\n",
              "              style=\"display:none;\">\n",
              "\n",
              "<svg xmlns=\"http://www.w3.org/2000/svg\" height=\"24px\"viewBox=\"0 0 24 24\"\n",
              "     width=\"24px\">\n",
              "    <g>\n",
              "        <path d=\"M19 3H5c-1.1 0-2 .9-2 2v14c0 1.1.9 2 2 2h14c1.1 0 2-.9 2-2V5c0-1.1-.9-2-2-2zM9 17H7v-7h2v7zm4 0h-2V7h2v10zm4 0h-2v-4h2v4z\"/>\n",
              "    </g>\n",
              "</svg>\n",
              "      </button>\n",
              "    </div>\n",
              "\n",
              "<style>\n",
              "  .colab-df-quickchart {\n",
              "    background-color: #E8F0FE;\n",
              "    border: none;\n",
              "    border-radius: 50%;\n",
              "    cursor: pointer;\n",
              "    display: none;\n",
              "    fill: #1967D2;\n",
              "    height: 32px;\n",
              "    padding: 0 0 0 0;\n",
              "    width: 32px;\n",
              "  }\n",
              "\n",
              "  .colab-df-quickchart:hover {\n",
              "    background-color: #E2EBFA;\n",
              "    box-shadow: 0px 1px 2px rgba(60, 64, 67, 0.3), 0px 1px 3px 1px rgba(60, 64, 67, 0.15);\n",
              "    fill: #174EA6;\n",
              "  }\n",
              "\n",
              "  [theme=dark] .colab-df-quickchart {\n",
              "    background-color: #3B4455;\n",
              "    fill: #D2E3FC;\n",
              "  }\n",
              "\n",
              "  [theme=dark] .colab-df-quickchart:hover {\n",
              "    background-color: #434B5C;\n",
              "    box-shadow: 0px 1px 3px 1px rgba(0, 0, 0, 0.15);\n",
              "    filter: drop-shadow(0px 1px 2px rgba(0, 0, 0, 0.3));\n",
              "    fill: #FFFFFF;\n",
              "  }\n",
              "</style>\n",
              "\n",
              "    <script>\n",
              "      async function quickchart(key) {\n",
              "        const containerElement = document.querySelector('#' + key);\n",
              "        const charts = await google.colab.kernel.invokeFunction(\n",
              "            'suggestCharts', [key], {});\n",
              "      }\n",
              "    </script>\n",
              "\n",
              "      <script>\n",
              "\n",
              "function displayQuickchartButton(domScope) {\n",
              "  let quickchartButtonEl =\n",
              "    domScope.querySelector('#df-8604df78-b834-4b4b-a24f-501ae1c19371 button.colab-df-quickchart');\n",
              "  quickchartButtonEl.style.display =\n",
              "    google.colab.kernel.accessAllowed ? 'block' : 'none';\n",
              "}\n",
              "\n",
              "        displayQuickchartButton(document);\n",
              "      </script>\n",
              "      <style>\n",
              "    .colab-df-container {\n",
              "      display:flex;\n",
              "      flex-wrap:wrap;\n",
              "      gap: 12px;\n",
              "    }\n",
              "\n",
              "    .colab-df-convert {\n",
              "      background-color: #E8F0FE;\n",
              "      border: none;\n",
              "      border-radius: 50%;\n",
              "      cursor: pointer;\n",
              "      display: none;\n",
              "      fill: #1967D2;\n",
              "      height: 32px;\n",
              "      padding: 0 0 0 0;\n",
              "      width: 32px;\n",
              "    }\n",
              "\n",
              "    .colab-df-convert:hover {\n",
              "      background-color: #E2EBFA;\n",
              "      box-shadow: 0px 1px 2px rgba(60, 64, 67, 0.3), 0px 1px 3px 1px rgba(60, 64, 67, 0.15);\n",
              "      fill: #174EA6;\n",
              "    }\n",
              "\n",
              "    [theme=dark] .colab-df-convert {\n",
              "      background-color: #3B4455;\n",
              "      fill: #D2E3FC;\n",
              "    }\n",
              "\n",
              "    [theme=dark] .colab-df-convert:hover {\n",
              "      background-color: #434B5C;\n",
              "      box-shadow: 0px 1px 3px 1px rgba(0, 0, 0, 0.15);\n",
              "      filter: drop-shadow(0px 1px 2px rgba(0, 0, 0, 0.3));\n",
              "      fill: #FFFFFF;\n",
              "    }\n",
              "  </style>\n",
              "\n",
              "      <script>\n",
              "        const buttonEl =\n",
              "          document.querySelector('#df-eccd83dd-ee55-4fe1-b455-0e99967d0452 button.colab-df-convert');\n",
              "        buttonEl.style.display =\n",
              "          google.colab.kernel.accessAllowed ? 'block' : 'none';\n",
              "\n",
              "        async function convertToInteractive(key) {\n",
              "          const element = document.querySelector('#df-eccd83dd-ee55-4fe1-b455-0e99967d0452');\n",
              "          const dataTable =\n",
              "            await google.colab.kernel.invokeFunction('convertToInteractive',\n",
              "                                                     [key], {});\n",
              "          if (!dataTable) return;\n",
              "\n",
              "          const docLinkHtml = 'Like what you see? Visit the ' +\n",
              "            '<a target=\"_blank\" href=https://colab.research.google.com/notebooks/data_table.ipynb>data table notebook</a>'\n",
              "            + ' to learn more about interactive tables.';\n",
              "          element.innerHTML = '';\n",
              "          dataTable['output_type'] = 'display_data';\n",
              "          await google.colab.output.renderOutput(dataTable, element);\n",
              "          const docLink = document.createElement('div');\n",
              "          docLink.innerHTML = docLinkHtml;\n",
              "          element.appendChild(docLink);\n",
              "        }\n",
              "      </script>\n",
              "    </div>\n",
              "  </div>\n"
            ],
            "text/plain": [
              "       customer_id  CHURN\n",
              "0               23    0.0\n",
              "1               30    1.0\n",
              "2               32    0.0\n",
              "3               48    0.0\n",
              "4               50    0.0\n",
              "...            ...    ...\n",
              "68959       928567    0.0\n",
              "68960       928707    0.0\n",
              "68961       928777    0.0\n",
              "68962       929438    0.0\n",
              "68963       929899    0.0\n",
              "\n",
              "[68964 rows x 2 columns]"
            ]
          },
          "execution_count": 8,
          "metadata": {},
          "output_type": "execute_result"
        }
      ],
      "source": [
        "diff_date_acquisto"
      ]
    },
    {
      "cell_type": "code",
      "execution_count": null,
      "metadata": {
        "id": "KmoeHw7gOhSO"
      },
      "outputs": [],
      "source": [
        "# Trasformation columns for the models\n",
        "\n",
        "# net price for each order\n",
        "total_acquired_product = data.copy()\n",
        "total_acquired_product['gross_price'] = pd.to_numeric(total_acquired_product['gross_price'])\n",
        "total_acquired_product['price_reduction'] = pd.to_numeric(total_acquired_product['price_reduction'])\n",
        "total_acquired_product['net_price'] = total_acquired_product['gross_price'] - total_acquired_product['price_reduction']\n",
        "\n",
        "# convert direction to numeric\n",
        "total_acquired_product['direction'] = pd.to_numeric(total_acquired_product['direction'])\n",
        "\n",
        "# I sum the total expenditure per costumers and I count the number of products he/she purchases\n",
        "exp_tot_cust= total_acquired_product.groupby('customer_id').agg({'net_price': 'sum', 'direction': 'sum'}).reset_index()\n",
        "exp_tot_cust.columns = ['customer_id', 'total_expenditure', 'number of articles']\n",
        "\n",
        "# I add these columns to the informations about the client\n",
        "\n",
        "total_info_clients= data[['customer_id','address_id','birthdate','gender','job_type',\n",
        "       'email_provider','flag_phone_provided','flag_privacy','postal_code',\n",
        "       'region','account_id','favorite_store','loyalty_type',\n",
        "       'loyatlty_status','activation_date']]\n",
        "total_info_clients=total_info_clients.drop_duplicates(subset=\"customer_id\",keep=\"first\")\n",
        "total_info_clients = pd.merge(total_info_clients, exp_tot_cust,on=[\"customer_id\"])\n",
        "total_info_clients = pd.merge(total_info_clients, diff_date_acquisto,on=['customer_id'])\n",
        "\n",
        "# I drop the costumers that have an expenditure equals to Nan\n",
        "total_info_clients = total_info_clients.dropna(subset=['total_expenditure'])\n"
      ]
    },
    {
      "cell_type": "code",
      "execution_count": null,
      "metadata": {
        "colab": {
          "base_uri": "https://localhost:8080/"
        },
        "id": "kX8KAivfafYD",
        "outputId": "53cf7e4d-fd98-4f91-b791-3eb06c0ae1a8"
      },
      "outputs": [
        {
          "data": {
            "text/plain": [
              "0.0    0.739226\n",
              "1.0    0.260774\n",
              "Name: CHURN, dtype: float64"
            ]
          },
          "execution_count": 11,
          "metadata": {},
          "output_type": "execute_result"
        }
      ],
      "source": [
        "total_info_clients.CHURN.value_counts(normalize=True)"
      ]
    },
    {
      "cell_type": "markdown",
      "metadata": {
        "id": "vIHuIMzv8oXF"
      },
      "source": [
        "The classes are not  balanced between churners and non-churners. The churners are the minority(26%). This means that there is the need of actions to rebalance the dataset in order to make a correct  classification procedure"
      ]
    },
    {
      "cell_type": "markdown",
      "metadata": {
        "id": "k_Ow-geM_x_G"
      },
      "source": [
        "I convert some variables in factor, and after I apply the one-hot encoding technique. This is necessary in order to use the classification models."
      ]
    },
    {
      "cell_type": "code",
      "execution_count": null,
      "metadata": {
        "id": "ZjMzJBMJ8_Zs"
      },
      "outputs": [],
      "source": [
        "# I select the variables of interest for the churn model\n",
        "churn = total_info_clients[['job_type', 'flag_phone_provided', 'email_provider', 'favorite_store','loyalty_type',\n",
        "                            'loyatlty_status', 'region', 'flag_privacy', 'total_expenditure',\n",
        "                            'number of articles', 'CHURN']]\n",
        "\n",
        "#Conversione delle variabili in fattori\n",
        "churn['flag_phone_provided'] = churn['flag_phone_provided'].astype('category')\n",
        "churn['favorite_store'] = churn['favorite_store'].astype('category')\n",
        "churn['loyalty_type'] = churn['loyalty_type'].astype('category')\n",
        "churn['loyatlty_status'] = churn['loyatlty_status'].astype('category')\n",
        "churn['region'] = churn['region'].astype('category')\n",
        "churn['flag_privacy'] = churn['flag_privacy'].astype('category')\n",
        "churn['CHURN'] = churn['CHURN'].astype('category')\n",
        "# one-hot encoding\n",
        "df_encoded = pd.get_dummies(churn, columns=['job_type', 'email_provider', 'region','loyalty_type'], prefix=['job_type', 'email_provider','region','loyalty_type'])"
      ]
    },
    {
      "cell_type": "markdown",
      "metadata": {
        "id": "Yd4nD9wyMQVk"
      },
      "source": [
        "I choose the most releveant features in order to make the classification.\n",
        "The provided code performs feature importance analysis using the ExtraTreesClassifier algorithm from the scikit-learn library."
      ]
    },
    {
      "cell_type": "code",
      "execution_count": null,
      "metadata": {
        "colab": {
          "base_uri": "https://localhost:8080/",
          "height": 430
        },
        "id": "AzfSo0NHLqDJ",
        "outputId": "8979f383-2beb-4422-9ad3-9677da8f7534"
      },
      "outputs": [
        {
          "data": {
            "image/png": "[encoded data removed]",
            "text/plain": [
              "<Figure size 640x480 with 1 Axes>"
            ]
          },
          "metadata": {},
          "output_type": "display_data"
        }
      ],
      "source": [
        "import matplotlib.pyplot as plt\n",
        "X = df_encoded.drop('CHURN',axis=1)  #independent columns\n",
        "y = df_encoded['CHURN']   #target column i.e price range\n",
        "from sklearn.ensemble import ExtraTreesClassifier\n",
        "model = ExtraTreesClassifier()\n",
        "model.fit(X,y)\n",
        "#plot graph of feature importances for better visualization\n",
        "feat_importances = pd.Series(model.feature_importances_, index=X.columns)\n",
        "feat_importances.nlargest(10).plot(kind='barh')\n",
        "plt.show()"
      ]
    },
    {
      "cell_type": "markdown",
      "metadata": {
        "id": "5gMbI9WnQWv3"
      },
      "source": [
        "From the results we can see that the most relevant variables are:total expenditure,number of articles, favorite_store and flag_privacy. I select only these for the classification task."
      ]
    },
    {
      "cell_type": "markdown",
      "metadata": {
        "id": "JWTbO-fDQZtk"
      },
      "source": [
        "As previously show the dataset presents unabalanced classes. They are required some actions:"
      ]
    },
    {
      "cell_type": "code",
      "execution_count": null,
      "metadata": {
        "id": "LYHp8nKIp3XL"
      },
      "outputs": [],
      "source": [
        "new=df_encoded[['CHURN','total_expenditure','favorite_store','number of articles']]\n",
        "\n",
        "class_0 = new[new['CHURN'] == 0]\n",
        "class_1 = new[new['CHURN'] == 1]\n",
        "count_class_0 = len(class_0)\n",
        "count_class_1 = len(class_1)\n",
        "class_1_oversampled = class_1.sample(n=count_class_0, replace=True, random_state=123)\n",
        "df_balanced = pd.concat([class_0, class_1_oversampled])"
      ]
    },
    {
      "cell_type": "markdown",
      "metadata": {
        "id": "XXYyRCvYANZz"
      },
      "source": [
        "I divide the dataset into train and test set after an oversampling procedure in order to rebalance the classes. In this way, I can train and  test the models performance's on two different sets.I fix the seed for the reproducibility. The goal is to predict in an efficient way the class(CHURN/NOT-CHURN) of the customers."
      ]
    },
    {
      "cell_type": "code",
      "execution_count": null,
      "metadata": {
        "id": "ZnHTZypMAq6_"
      },
      "outputs": [],
      "source": [
        "# Missing values control\n",
        "df_balanced.dropna(inplace=True)\n",
        "\n"
      ]
    },
    {
      "cell_type": "code",
      "execution_count": null,
      "metadata": {
        "colab": {
          "base_uri": "https://localhost:8080/"
        },
        "id": "JdXM2o36KLOz",
        "outputId": "cc0ab11e-0517-4a8e-a880-742e22906c49"
      },
      "outputs": [
        {
          "data": {
            "text/plain": [
              "0.0    0.5\n",
              "1.0    0.5\n",
              "Name: CHURN, dtype: float64"
            ]
          },
          "execution_count": 19,
          "metadata": {},
          "output_type": "execute_result"
        }
      ],
      "source": [
        "df_balanced.CHURN.value_counts(normalize=True)\n"
      ]
    },
    {
      "cell_type": "markdown",
      "metadata": {
        "id": "KKeJMuT0Qwkk"
      },
      "source": [
        "As we can see after the oversampling procedure the dataset is balanced. Both the classes are equally represented."
      ]
    },
    {
      "cell_type": "markdown",
      "metadata": {
        "id": "phH48QNZQ9zI"
      },
      "source": [
        "In the following code I divide the data into train and  test set. I fix the seed for reproducibility."
      ]
    },
    {
      "cell_type": "code",
      "execution_count": null,
      "metadata": {
        "id": "OeiBpOw70Srb"
      },
      "outputs": [],
      "source": [
        "# Train-test\n",
        "X = df_balanced.drop('CHURN', axis=1)\n",
        "y = df_balanced['CHURN']\n",
        "X_train, X_test, y_train, y_test = train_test_split(X, y, test_size=0.2, random_state=123)\n"
      ]
    },
    {
      "cell_type": "markdown",
      "metadata": {
        "id": "x-YVleliBNB9"
      },
      "source": [
        "In order to have a complete view concerning the model's performance I consider different metrics in the evaluation of the models activity. In fact, in addition to the accuracy I take into account also precision, recall,f-score, and the AUC. The metrics are calculated as follows:\n",
        "* Accuracy={TP+TN}/{TP+TN+FP+FN}\n",
        "* Precision={TP}/{TP+FP}\n",
        "* Recall={TP}/{TP+FN}\n",
        "* F-score={2 x precision x recall}/{precision+recall}\n",
        "where in this specific case the class Positive represents the churners while the class Negative indicates the non-churners.\n"
      ]
    },
    {
      "cell_type": "markdown",
      "metadata": {
        "id": "ZTRwctAAAw4e"
      },
      "source": [
        "The first algorithm that I use is the Random Forest. It is based on a combination of randomly generated and independently trained decision trees with the use of bootstraping techniques.\n"
      ]
    },
    {
      "cell_type": "code",
      "execution_count": null,
      "metadata": {
        "colab": {
          "base_uri": "https://localhost:8080/"
        },
        "id": "N2m3k3wcokIy",
        "outputId": "1305726c-6571-4c98-ff01-1ad5462a74db"
      },
      "outputs": [
        {
          "name": "stdout",
          "output_type": "stream",
          "text": [
            "Random Forest Accuracy: 0.833709297763829\n",
            "Random Forest Precision: 0.7791819088792816\n",
            "Random Forest Recall: 0.927278124072425\n",
            "Random Forest F1-score: 0.8468037045403208\n"
          ]
        }
      ],
      "source": [
        "# Random Forest\n",
        "rfModel = RandomForestClassifier(n_estimators=250, random_state=123)\n",
        "rfModel.fit(X_train, y_train)\n",
        "y_pred_rf = rfModel.predict(X_test)\n",
        "\n",
        "accuracy_rf = accuracy_score(y_test, y_pred_rf)\n",
        "precision_rf = precision_score(y_test, y_pred_rf)\n",
        "recall_rf = recall_score(y_test, y_pred_rf)\n",
        "f1_rf = f1_score(y_test, y_pred_rf)\n",
        "\n",
        "print('Random Forest Accuracy:', accuracy_rf)\n",
        "print('Random Forest Precision:', precision_rf)\n",
        "print('Random Forest Recall:', recall_rf)\n",
        "print('Random Forest F1-score:', f1_rf)\n",
        "\n"
      ]
    },
    {
      "cell_type": "markdown",
      "metadata": {
        "id": "I0qc3Ru9RSdi"
      },
      "source": [
        "The Random Forest model identifies the 92% of the churners. In 83% of the cases the model correctly assign a customer to one of the two classes."
      ]
    },
    {
      "cell_type": "code",
      "execution_count": null,
      "metadata": {
        "id": "5wQOJP-A9wtz"
      },
      "outputs": [],
      "source": [
        "dat=X_test.copy()"
      ]
    },
    {
      "cell_type": "markdown",
      "metadata": {
        "id": "Ir4Nl3jsRgEm"
      },
      "source": [
        "I create a version of the dataset that contains the informations about the churners as the number of articles he purchased, his favorite store and the total_expenditure."
      ]
    },
    {
      "cell_type": "code",
      "execution_count": null,
      "metadata": {
        "id": "JQ_5OIe45502"
      },
      "outputs": [],
      "source": [
        "dat['CHURN']=y_pred_rf"
      ]
    },
    {
      "cell_type": "code",
      "execution_count": null,
      "metadata": {
        "colab": {
          "base_uri": "https://localhost:8080/",
          "height": 423
        },
        "id": "k73NJKiG-2hm",
        "outputId": "295ebe00-edcc-4f63-c6e5-be9ec8cb6680"
      },
      "outputs": [
        {
          "data": {
            "text/html": [
              "\n",
              "\n",
              "  <div id=\"df-486b7b8b-cdf0-4cff-ae7f-2f7e1b0b2bdc\">\n",
              "    <div class=\"colab-df-container\">\n",
              "      <div>\n",
              "<style scoped>\n",
              "    .dataframe tbody tr th:only-of-type {\n",
              "        vertical-align: middle;\n",
              "    }\n",
              "\n",
              "    .dataframe tbody tr th {\n",
              "        vertical-align: top;\n",
              "    }\n",
              "\n",
              "    .dataframe thead th {\n",
              "        text-align: right;\n",
              "    }\n",
              "</style>\n",
              "<table border=\"1\" class=\"dataframe\">\n",
              "  <thead>\n",
              "    <tr style=\"text-align: right;\">\n",
              "      <th></th>\n",
              "      <th>total_expenditure</th>\n",
              "      <th>favorite_store</th>\n",
              "      <th>number of articles</th>\n",
              "      <th>CHURN</th>\n",
              "    </tr>\n",
              "  </thead>\n",
              "  <tbody>\n",
              "    <tr>\n",
              "      <th>29144</th>\n",
              "      <td>688.39</td>\n",
              "      <td>49</td>\n",
              "      <td>5</td>\n",
              "      <td>1.0</td>\n",
              "    </tr>\n",
              "    <tr>\n",
              "      <th>11030</th>\n",
              "      <td>109.01</td>\n",
              "      <td>4</td>\n",
              "      <td>18</td>\n",
              "      <td>1.0</td>\n",
              "    </tr>\n",
              "    <tr>\n",
              "      <th>27053</th>\n",
              "      <td>57.00</td>\n",
              "      <td>10</td>\n",
              "      <td>4</td>\n",
              "      <td>0.0</td>\n",
              "    </tr>\n",
              "    <tr>\n",
              "      <th>26309</th>\n",
              "      <td>638.70</td>\n",
              "      <td>1</td>\n",
              "      <td>7</td>\n",
              "      <td>1.0</td>\n",
              "    </tr>\n",
              "    <tr>\n",
              "      <th>28709</th>\n",
              "      <td>94.28</td>\n",
              "      <td>38</td>\n",
              "      <td>3</td>\n",
              "      <td>1.0</td>\n",
              "    </tr>\n",
              "    <tr>\n",
              "      <th>...</th>\n",
              "      <td>...</td>\n",
              "      <td>...</td>\n",
              "      <td>...</td>\n",
              "      <td>...</td>\n",
              "    </tr>\n",
              "    <tr>\n",
              "      <th>35240</th>\n",
              "      <td>92.50</td>\n",
              "      <td>45</td>\n",
              "      <td>6</td>\n",
              "      <td>1.0</td>\n",
              "    </tr>\n",
              "    <tr>\n",
              "      <th>37794</th>\n",
              "      <td>77.85</td>\n",
              "      <td>37</td>\n",
              "      <td>5</td>\n",
              "      <td>0.0</td>\n",
              "    </tr>\n",
              "    <tr>\n",
              "      <th>53397</th>\n",
              "      <td>19.95</td>\n",
              "      <td>25</td>\n",
              "      <td>4</td>\n",
              "      <td>1.0</td>\n",
              "    </tr>\n",
              "    <tr>\n",
              "      <th>7606</th>\n",
              "      <td>23.89</td>\n",
              "      <td>28</td>\n",
              "      <td>3</td>\n",
              "      <td>1.0</td>\n",
              "    </tr>\n",
              "    <tr>\n",
              "      <th>39410</th>\n",
              "      <td>142.84</td>\n",
              "      <td>32</td>\n",
              "      <td>14</td>\n",
              "      <td>1.0</td>\n",
              "    </tr>\n",
              "  </tbody>\n",
              "</table>\n",
              "<p>20392 rows × 4 columns</p>\n",
              "</div>\n",
              "      <button class=\"colab-df-convert\" onclick=\"convertToInteractive('df-486b7b8b-cdf0-4cff-ae7f-2f7e1b0b2bdc')\"\n",
              "              title=\"Convert this dataframe to an interactive table.\"\n",
              "              style=\"display:none;\">\n",
              "\n",
              "  <svg xmlns=\"http://www.w3.org/2000/svg\" height=\"24px\"viewBox=\"0 0 24 24\"\n",
              "       width=\"24px\">\n",
              "    <path d=\"M0 0h24v24H0V0z\" fill=\"none\"/>\n",
              "    <path d=\"M18.56 5.44l.94 2.06.94-2.06 2.06-.94-2.06-.94-.94-2.06-.94 2.06-2.06.94zm-11 1L8.5 8.5l.94-2.06 2.06-.94-2.06-.94L8.5 2.5l-.94 2.06-2.06.94zm10 10l.94 2.06.94-2.06 2.06-.94-2.06-.94-.94-2.06-.94 2.06-2.06.94z\"/><path d=\"M17.41 7.96l-1.37-1.37c-.4-.4-.92-.59-1.43-.59-.52 0-1.04.2-1.43.59L10.3 9.45l-7.72 7.72c-.78.78-.78 2.05 0 2.83L4 21.41c.39.39.9.59 1.41.59.51 0 1.02-.2 1.41-.59l7.78-7.78 2.81-2.81c.8-.78.8-2.07 0-2.86zM5.41 20L4 18.59l7.72-7.72 1.47 1.35L5.41 20z\"/>\n",
              "  </svg>\n",
              "      </button>\n",
              "\n",
              "\n",
              "\n",
              "    <div id=\"df-ee63df36-aebe-420b-b317-664e85adcfae\">\n",
              "      <button class=\"colab-df-quickchart\" onclick=\"quickchart('df-ee63df36-aebe-420b-b317-664e85adcfae')\"\n",
              "              title=\"Suggest charts.\"\n",
              "              style=\"display:none;\">\n",
              "\n",
              "<svg xmlns=\"http://www.w3.org/2000/svg\" height=\"24px\"viewBox=\"0 0 24 24\"\n",
              "     width=\"24px\">\n",
              "    <g>\n",
              "        <path d=\"M19 3H5c-1.1 0-2 .9-2 2v14c0 1.1.9 2 2 2h14c1.1 0 2-.9 2-2V5c0-1.1-.9-2-2-2zM9 17H7v-7h2v7zm4 0h-2V7h2v10zm4 0h-2v-4h2v4z\"/>\n",
              "    </g>\n",
              "</svg>\n",
              "      </button>\n",
              "    </div>\n",
              "\n",
              "<style>\n",
              "  .colab-df-quickchart {\n",
              "    background-color: #E8F0FE;\n",
              "    border: none;\n",
              "    border-radius: 50%;\n",
              "    cursor: pointer;\n",
              "    display: none;\n",
              "    fill: #1967D2;\n",
              "    height: 32px;\n",
              "    padding: 0 0 0 0;\n",
              "    width: 32px;\n",
              "  }\n",
              "\n",
              "  .colab-df-quickchart:hover {\n",
              "    background-color: #E2EBFA;\n",
              "    box-shadow: 0px 1px 2px rgba(60, 64, 67, 0.3), 0px 1px 3px 1px rgba(60, 64, 67, 0.15);\n",
              "    fill: #174EA6;\n",
              "  }\n",
              "\n",
              "  [theme=dark] .colab-df-quickchart {\n",
              "    background-color: #3B4455;\n",
              "    fill: #D2E3FC;\n",
              "  }\n",
              "\n",
              "  [theme=dark] .colab-df-quickchart:hover {\n",
              "    background-color: #434B5C;\n",
              "    box-shadow: 0px 1px 3px 1px rgba(0, 0, 0, 0.15);\n",
              "    filter: drop-shadow(0px 1px 2px rgba(0, 0, 0, 0.3));\n",
              "    fill: #FFFFFF;\n",
              "  }\n",
              "</style>\n",
              "\n",
              "    <script>\n",
              "      async function quickchart(key) {\n",
              "        const containerElement = document.querySelector('#' + key);\n",
              "        const charts = await google.colab.kernel.invokeFunction(\n",
              "            'suggestCharts', [key], {});\n",
              "      }\n",
              "    </script>\n",
              "\n",
              "      <script>\n",
              "\n",
              "function displayQuickchartButton(domScope) {\n",
              "  let quickchartButtonEl =\n",
              "    domScope.querySelector('#df-ee63df36-aebe-420b-b317-664e85adcfae button.colab-df-quickchart');\n",
              "  quickchartButtonEl.style.display =\n",
              "    google.colab.kernel.accessAllowed ? 'block' : 'none';\n",
              "}\n",
              "\n",
              "        displayQuickchartButton(document);\n",
              "      </script>\n",
              "      <style>\n",
              "    .colab-df-container {\n",
              "      display:flex;\n",
              "      flex-wrap:wrap;\n",
              "      gap: 12px;\n",
              "    }\n",
              "\n",
              "    .colab-df-convert {\n",
              "      background-color: #E8F0FE;\n",
              "      border: none;\n",
              "      border-radius: 50%;\n",
              "      cursor: pointer;\n",
              "      display: none;\n",
              "      fill: #1967D2;\n",
              "      height: 32px;\n",
              "      padding: 0 0 0 0;\n",
              "      width: 32px;\n",
              "    }\n",
              "\n",
              "    .colab-df-convert:hover {\n",
              "      background-color: #E2EBFA;\n",
              "      box-shadow: 0px 1px 2px rgba(60, 64, 67, 0.3), 0px 1px 3px 1px rgba(60, 64, 67, 0.15);\n",
              "      fill: #174EA6;\n",
              "    }\n",
              "\n",
              "    [theme=dark] .colab-df-convert {\n",
              "      background-color: #3B4455;\n",
              "      fill: #D2E3FC;\n",
              "    }\n",
              "\n",
              "    [theme=dark] .colab-df-convert:hover {\n",
              "      background-color: #434B5C;\n",
              "      box-shadow: 0px 1px 3px 1px rgba(0, 0, 0, 0.15);\n",
              "      filter: drop-shadow(0px 1px 2px rgba(0, 0, 0, 0.3));\n",
              "      fill: #FFFFFF;\n",
              "    }\n",
              "  </style>\n",
              "\n",
              "      <script>\n",
              "        const buttonEl =\n",
              "          document.querySelector('#df-486b7b8b-cdf0-4cff-ae7f-2f7e1b0b2bdc button.colab-df-convert');\n",
              "        buttonEl.style.display =\n",
              "          google.colab.kernel.accessAllowed ? 'block' : 'none';\n",
              "\n",
              "        async function convertToInteractive(key) {\n",
              "          const element = document.querySelector('#df-486b7b8b-cdf0-4cff-ae7f-2f7e1b0b2bdc');\n",
              "          const dataTable =\n",
              "            await google.colab.kernel.invokeFunction('convertToInteractive',\n",
              "                                                     [key], {});\n",
              "          if (!dataTable) return;\n",
              "\n",
              "          const docLinkHtml = 'Like what you see? Visit the ' +\n",
              "            '<a target=\"_blank\" href=https://colab.research.google.com/notebooks/data_table.ipynb>data table notebook</a>'\n",
              "            + ' to learn more about interactive tables.';\n",
              "          element.innerHTML = '';\n",
              "          dataTable['output_type'] = 'display_data';\n",
              "          await google.colab.output.renderOutput(dataTable, element);\n",
              "          const docLink = document.createElement('div');\n",
              "          docLink.innerHTML = docLinkHtml;\n",
              "          element.appendChild(docLink);\n",
              "        }\n",
              "      </script>\n",
              "    </div>\n",
              "  </div>\n"
            ],
            "text/plain": [
              "       total_expenditure favorite_store  number of articles  CHURN\n",
              "29144             688.39             49                   5    1.0\n",
              "11030             109.01              4                  18    1.0\n",
              "27053              57.00             10                   4    0.0\n",
              "26309             638.70              1                   7    1.0\n",
              "28709              94.28             38                   3    1.0\n",
              "...                  ...            ...                 ...    ...\n",
              "35240              92.50             45                   6    1.0\n",
              "37794              77.85             37                   5    0.0\n",
              "53397              19.95             25                   4    1.0\n",
              "7606               23.89             28                   3    1.0\n",
              "39410             142.84             32                  14    1.0\n",
              "\n",
              "[20392 rows x 4 columns]"
            ]
          },
          "execution_count": 24,
          "metadata": {},
          "output_type": "execute_result"
        }
      ],
      "source": [
        "dat"
      ]
    },
    {
      "cell_type": "markdown",
      "metadata": {
        "id": "O_0mXnCRRx0z"
      },
      "source": [
        "I compute the average expenditure value for churners and non-churners."
      ]
    },
    {
      "cell_type": "code",
      "execution_count": null,
      "metadata": {
        "colab": {
          "base_uri": "https://localhost:8080/",
          "height": 112
        },
        "id": "Mqd99bWp7VvO",
        "outputId": "cf2ea5e9-beb4-418d-d750-9bcfa6e1d2b2"
      },
      "outputs": [
        {
          "data": {
            "text/html": [
              "\n",
              "\n",
              "  <div id=\"df-7910967b-d1ef-4d8c-a995-0ee0eb08ea9b\">\n",
              "    <div class=\"colab-df-container\">\n",
              "      <div>\n",
              "<style scoped>\n",
              "    .dataframe tbody tr th:only-of-type {\n",
              "        vertical-align: middle;\n",
              "    }\n",
              "\n",
              "    .dataframe tbody tr th {\n",
              "        vertical-align: top;\n",
              "    }\n",
              "\n",
              "    .dataframe thead th {\n",
              "        text-align: right;\n",
              "    }\n",
              "</style>\n",
              "<table border=\"1\" class=\"dataframe\">\n",
              "  <thead>\n",
              "    <tr style=\"text-align: right;\">\n",
              "      <th></th>\n",
              "      <th>CHURN</th>\n",
              "      <th>total_expenditure</th>\n",
              "    </tr>\n",
              "  </thead>\n",
              "  <tbody>\n",
              "    <tr>\n",
              "      <th>0</th>\n",
              "      <td>0.0</td>\n",
              "      <td>239.698266</td>\n",
              "    </tr>\n",
              "    <tr>\n",
              "      <th>1</th>\n",
              "      <td>1.0</td>\n",
              "      <td>184.540270</td>\n",
              "    </tr>\n",
              "  </tbody>\n",
              "</table>\n",
              "</div>\n",
              "      <button class=\"colab-df-convert\" onclick=\"convertToInteractive('df-7910967b-d1ef-4d8c-a995-0ee0eb08ea9b')\"\n",
              "              title=\"Convert this dataframe to an interactive table.\"\n",
              "              style=\"display:none;\">\n",
              "\n",
              "  <svg xmlns=\"http://www.w3.org/2000/svg\" height=\"24px\"viewBox=\"0 0 24 24\"\n",
              "       width=\"24px\">\n",
              "    <path d=\"M0 0h24v24H0V0z\" fill=\"none\"/>\n",
              "    <path d=\"M18.56 5.44l.94 2.06.94-2.06 2.06-.94-2.06-.94-.94-2.06-.94 2.06-2.06.94zm-11 1L8.5 8.5l.94-2.06 2.06-.94-2.06-.94L8.5 2.5l-.94 2.06-2.06.94zm10 10l.94 2.06.94-2.06 2.06-.94-2.06-.94-.94-2.06-.94 2.06-2.06.94z\"/><path d=\"M17.41 7.96l-1.37-1.37c-.4-.4-.92-.59-1.43-.59-.52 0-1.04.2-1.43.59L10.3 9.45l-7.72 7.72c-.78.78-.78 2.05 0 2.83L4 21.41c.39.39.9.59 1.41.59.51 0 1.02-.2 1.41-.59l7.78-7.78 2.81-2.81c.8-.78.8-2.07 0-2.86zM5.41 20L4 18.59l7.72-7.72 1.47 1.35L5.41 20z\"/>\n",
              "  </svg>\n",
              "      </button>\n",
              "\n",
              "\n",
              "\n",
              "    <div id=\"df-49695535-878b-42d0-a885-c3c90f69899d\">\n",
              "      <button class=\"colab-df-quickchart\" onclick=\"quickchart('df-49695535-878b-42d0-a885-c3c90f69899d')\"\n",
              "              title=\"Suggest charts.\"\n",
              "              style=\"display:none;\">\n",
              "\n",
              "<svg xmlns=\"http://www.w3.org/2000/svg\" height=\"24px\"viewBox=\"0 0 24 24\"\n",
              "     width=\"24px\">\n",
              "    <g>\n",
              "        <path d=\"M19 3H5c-1.1 0-2 .9-2 2v14c0 1.1.9 2 2 2h14c1.1 0 2-.9 2-2V5c0-1.1-.9-2-2-2zM9 17H7v-7h2v7zm4 0h-2V7h2v10zm4 0h-2v-4h2v4z\"/>\n",
              "    </g>\n",
              "</svg>\n",
              "      </button>\n",
              "    </div>\n",
              "\n",
              "<style>\n",
              "  .colab-df-quickchart {\n",
              "    background-color: #E8F0FE;\n",
              "    border: none;\n",
              "    border-radius: 50%;\n",
              "    cursor: pointer;\n",
              "    display: none;\n",
              "    fill: #1967D2;\n",
              "    height: 32px;\n",
              "    padding: 0 0 0 0;\n",
              "    width: 32px;\n",
              "  }\n",
              "\n",
              "  .colab-df-quickchart:hover {\n",
              "    background-color: #E2EBFA;\n",
              "    box-shadow: 0px 1px 2px rgba(60, 64, 67, 0.3), 0px 1px 3px 1px rgba(60, 64, 67, 0.15);\n",
              "    fill: #174EA6;\n",
              "  }\n",
              "\n",
              "  [theme=dark] .colab-df-quickchart {\n",
              "    background-color: #3B4455;\n",
              "    fill: #D2E3FC;\n",
              "  }\n",
              "\n",
              "  [theme=dark] .colab-df-quickchart:hover {\n",
              "    background-color: #434B5C;\n",
              "    box-shadow: 0px 1px 3px 1px rgba(0, 0, 0, 0.15);\n",
              "    filter: drop-shadow(0px 1px 2px rgba(0, 0, 0, 0.3));\n",
              "    fill: #FFFFFF;\n",
              "  }\n",
              "</style>\n",
              "\n",
              "    <script>\n",
              "      async function quickchart(key) {\n",
              "        const containerElement = document.querySelector('#' + key);\n",
              "        const charts = await google.colab.kernel.invokeFunction(\n",
              "            'suggestCharts', [key], {});\n",
              "      }\n",
              "    </script>\n",
              "\n",
              "      <script>\n",
              "\n",
              "function displayQuickchartButton(domScope) {\n",
              "  let quickchartButtonEl =\n",
              "    domScope.querySelector('#df-49695535-878b-42d0-a885-c3c90f69899d button.colab-df-quickchart');\n",
              "  quickchartButtonEl.style.display =\n",
              "    google.colab.kernel.accessAllowed ? 'block' : 'none';\n",
              "}\n",
              "\n",
              "        displayQuickchartButton(document);\n",
              "      </script>\n",
              "      <style>\n",
              "    .colab-df-container {\n",
              "      display:flex;\n",
              "      flex-wrap:wrap;\n",
              "      gap: 12px;\n",
              "    }\n",
              "\n",
              "    .colab-df-convert {\n",
              "      background-color: #E8F0FE;\n",
              "      border: none;\n",
              "      border-radius: 50%;\n",
              "      cursor: pointer;\n",
              "      display: none;\n",
              "      fill: #1967D2;\n",
              "      height: 32px;\n",
              "      padding: 0 0 0 0;\n",
              "      width: 32px;\n",
              "    }\n",
              "\n",
              "    .colab-df-convert:hover {\n",
              "      background-color: #E2EBFA;\n",
              "      box-shadow: 0px 1px 2px rgba(60, 64, 67, 0.3), 0px 1px 3px 1px rgba(60, 64, 67, 0.15);\n",
              "      fill: #174EA6;\n",
              "    }\n",
              "\n",
              "    [theme=dark] .colab-df-convert {\n",
              "      background-color: #3B4455;\n",
              "      fill: #D2E3FC;\n",
              "    }\n",
              "\n",
              "    [theme=dark] .colab-df-convert:hover {\n",
              "      background-color: #434B5C;\n",
              "      box-shadow: 0px 1px 3px 1px rgba(0, 0, 0, 0.15);\n",
              "      filter: drop-shadow(0px 1px 2px rgba(0, 0, 0, 0.3));\n",
              "      fill: #FFFFFF;\n",
              "    }\n",
              "  </style>\n",
              "\n",
              "      <script>\n",
              "        const buttonEl =\n",
              "          document.querySelector('#df-7910967b-d1ef-4d8c-a995-0ee0eb08ea9b button.colab-df-convert');\n",
              "        buttonEl.style.display =\n",
              "          google.colab.kernel.accessAllowed ? 'block' : 'none';\n",
              "\n",
              "        async function convertToInteractive(key) {\n",
              "          const element = document.querySelector('#df-7910967b-d1ef-4d8c-a995-0ee0eb08ea9b');\n",
              "          const dataTable =\n",
              "            await google.colab.kernel.invokeFunction('convertToInteractive',\n",
              "                                                     [key], {});\n",
              "          if (!dataTable) return;\n",
              "\n",
              "          const docLinkHtml = 'Like what you see? Visit the ' +\n",
              "            '<a target=\"_blank\" href=https://colab.research.google.com/notebooks/data_table.ipynb>data table notebook</a>'\n",
              "            + ' to learn more about interactive tables.';\n",
              "          element.innerHTML = '';\n",
              "          dataTable['output_type'] = 'display_data';\n",
              "          await google.colab.output.renderOutput(dataTable, element);\n",
              "          const docLink = document.createElement('div');\n",
              "          docLink.innerHTML = docLinkHtml;\n",
              "          element.appendChild(docLink);\n",
              "        }\n",
              "      </script>\n",
              "    </div>\n",
              "  </div>\n"
            ],
            "text/plain": [
              "   CHURN  total_expenditure\n",
              "0    0.0         239.698266\n",
              "1    1.0         184.540270"
            ]
          },
          "execution_count": 25,
          "metadata": {},
          "output_type": "execute_result"
        }
      ],
      "source": [
        "dat.groupby('CHURN').agg({'total_expenditure': 'mean'}).reset_index()\n"
      ]
    },
    {
      "cell_type": "markdown",
      "metadata": {
        "id": "dRUB3nf4R4RW"
      },
      "source": [
        "As we can see the churners have, on average, a total expenditure that is 185 euro, lower than the average expense of the non-churners that is equal to 239 euro."
      ]
    },
    {
      "cell_type": "code",
      "execution_count": null,
      "metadata": {
        "colab": {
          "base_uri": "https://localhost:8080/",
          "height": 112
        },
        "id": "bTYY3UevAYJ-",
        "outputId": "032a9273-013b-49f1-83f7-0fbf7c69dd48"
      },
      "outputs": [
        {
          "data": {
            "text/html": [
              "\n",
              "\n",
              "  <div id=\"df-d84edab0-7798-4f93-b859-7d15d49b9dca\">\n",
              "    <div class=\"colab-df-container\">\n",
              "      <div>\n",
              "<style scoped>\n",
              "    .dataframe tbody tr th:only-of-type {\n",
              "        vertical-align: middle;\n",
              "    }\n",
              "\n",
              "    .dataframe tbody tr th {\n",
              "        vertical-align: top;\n",
              "    }\n",
              "\n",
              "    .dataframe thead th {\n",
              "        text-align: right;\n",
              "    }\n",
              "</style>\n",
              "<table border=\"1\" class=\"dataframe\">\n",
              "  <thead>\n",
              "    <tr style=\"text-align: right;\">\n",
              "      <th></th>\n",
              "      <th>CHURN</th>\n",
              "      <th>number of articles</th>\n",
              "    </tr>\n",
              "  </thead>\n",
              "  <tbody>\n",
              "    <tr>\n",
              "      <th>0</th>\n",
              "      <td>0.0</td>\n",
              "      <td>13.303085</td>\n",
              "    </tr>\n",
              "    <tr>\n",
              "      <th>1</th>\n",
              "      <td>1.0</td>\n",
              "      <td>7.944879</td>\n",
              "    </tr>\n",
              "  </tbody>\n",
              "</table>\n",
              "</div>\n",
              "      <button class=\"colab-df-convert\" onclick=\"convertToInteractive('df-d84edab0-7798-4f93-b859-7d15d49b9dca')\"\n",
              "              title=\"Convert this dataframe to an interactive table.\"\n",
              "              style=\"display:none;\">\n",
              "\n",
              "  <svg xmlns=\"http://www.w3.org/2000/svg\" height=\"24px\"viewBox=\"0 0 24 24\"\n",
              "       width=\"24px\">\n",
              "    <path d=\"M0 0h24v24H0V0z\" fill=\"none\"/>\n",
              "    <path d=\"M18.56 5.44l.94 2.06.94-2.06 2.06-.94-2.06-.94-.94-2.06-.94 2.06-2.06.94zm-11 1L8.5 8.5l.94-2.06 2.06-.94-2.06-.94L8.5 2.5l-.94 2.06-2.06.94zm10 10l.94 2.06.94-2.06 2.06-.94-2.06-.94-.94-2.06-.94 2.06-2.06.94z\"/><path d=\"M17.41 7.96l-1.37-1.37c-.4-.4-.92-.59-1.43-.59-.52 0-1.04.2-1.43.59L10.3 9.45l-7.72 7.72c-.78.78-.78 2.05 0 2.83L4 21.41c.39.39.9.59 1.41.59.51 0 1.02-.2 1.41-.59l7.78-7.78 2.81-2.81c.8-.78.8-2.07 0-2.86zM5.41 20L4 18.59l7.72-7.72 1.47 1.35L5.41 20z\"/>\n",
              "  </svg>\n",
              "      </button>\n",
              "\n",
              "\n",
              "\n",
              "    <div id=\"df-4665abfb-f52e-4590-8524-e95ef51ef8d4\">\n",
              "      <button class=\"colab-df-quickchart\" onclick=\"quickchart('df-4665abfb-f52e-4590-8524-e95ef51ef8d4')\"\n",
              "              title=\"Suggest charts.\"\n",
              "              style=\"display:none;\">\n",
              "\n",
              "<svg xmlns=\"http://www.w3.org/2000/svg\" height=\"24px\"viewBox=\"0 0 24 24\"\n",
              "     width=\"24px\">\n",
              "    <g>\n",
              "        <path d=\"M19 3H5c-1.1 0-2 .9-2 2v14c0 1.1.9 2 2 2h14c1.1 0 2-.9 2-2V5c0-1.1-.9-2-2-2zM9 17H7v-7h2v7zm4 0h-2V7h2v10zm4 0h-2v-4h2v4z\"/>\n",
              "    </g>\n",
              "</svg>\n",
              "      </button>\n",
              "    </div>\n",
              "\n",
              "<style>\n",
              "  .colab-df-quickchart {\n",
              "    background-color: #E8F0FE;\n",
              "    border: none;\n",
              "    border-radius: 50%;\n",
              "    cursor: pointer;\n",
              "    display: none;\n",
              "    fill: #1967D2;\n",
              "    height: 32px;\n",
              "    padding: 0 0 0 0;\n",
              "    width: 32px;\n",
              "  }\n",
              "\n",
              "  .colab-df-quickchart:hover {\n",
              "    background-color: #E2EBFA;\n",
              "    box-shadow: 0px 1px 2px rgba(60, 64, 67, 0.3), 0px 1px 3px 1px rgba(60, 64, 67, 0.15);\n",
              "    fill: #174EA6;\n",
              "  }\n",
              "\n",
              "  [theme=dark] .colab-df-quickchart {\n",
              "    background-color: #3B4455;\n",
              "    fill: #D2E3FC;\n",
              "  }\n",
              "\n",
              "  [theme=dark] .colab-df-quickchart:hover {\n",
              "    background-color: #434B5C;\n",
              "    box-shadow: 0px 1px 3px 1px rgba(0, 0, 0, 0.15);\n",
              "    filter: drop-shadow(0px 1px 2px rgba(0, 0, 0, 0.3));\n",
              "    fill: #FFFFFF;\n",
              "  }\n",
              "</style>\n",
              "\n",
              "    <script>\n",
              "      async function quickchart(key) {\n",
              "        const containerElement = document.querySelector('#' + key);\n",
              "        const charts = await google.colab.kernel.invokeFunction(\n",
              "            'suggestCharts', [key], {});\n",
              "      }\n",
              "    </script>\n",
              "\n",
              "      <script>\n",
              "\n",
              "function displayQuickchartButton(domScope) {\n",
              "  let quickchartButtonEl =\n",
              "    domScope.querySelector('#df-4665abfb-f52e-4590-8524-e95ef51ef8d4 button.colab-df-quickchart');\n",
              "  quickchartButtonEl.style.display =\n",
              "    google.colab.kernel.accessAllowed ? 'block' : 'none';\n",
              "}\n",
              "\n",
              "        displayQuickchartButton(document);\n",
              "      </script>\n",
              "      <style>\n",
              "    .colab-df-container {\n",
              "      display:flex;\n",
              "      flex-wrap:wrap;\n",
              "      gap: 12px;\n",
              "    }\n",
              "\n",
              "    .colab-df-convert {\n",
              "      background-color: #E8F0FE;\n",
              "      border: none;\n",
              "      border-radius: 50%;\n",
              "      cursor: pointer;\n",
              "      display: none;\n",
              "      fill: #1967D2;\n",
              "      height: 32px;\n",
              "      padding: 0 0 0 0;\n",
              "      width: 32px;\n",
              "    }\n",
              "\n",
              "    .colab-df-convert:hover {\n",
              "      background-color: #E2EBFA;\n",
              "      box-shadow: 0px 1px 2px rgba(60, 64, 67, 0.3), 0px 1px 3px 1px rgba(60, 64, 67, 0.15);\n",
              "      fill: #174EA6;\n",
              "    }\n",
              "\n",
              "    [theme=dark] .colab-df-convert {\n",
              "      background-color: #3B4455;\n",
              "      fill: #D2E3FC;\n",
              "    }\n",
              "\n",
              "    [theme=dark] .colab-df-convert:hover {\n",
              "      background-color: #434B5C;\n",
              "      box-shadow: 0px 1px 3px 1px rgba(0, 0, 0, 0.15);\n",
              "      filter: drop-shadow(0px 1px 2px rgba(0, 0, 0, 0.3));\n",
              "      fill: #FFFFFF;\n",
              "    }\n",
              "  </style>\n",
              "\n",
              "      <script>\n",
              "        const buttonEl =\n",
              "          document.querySelector('#df-d84edab0-7798-4f93-b859-7d15d49b9dca button.colab-df-convert');\n",
              "        buttonEl.style.display =\n",
              "          google.colab.kernel.accessAllowed ? 'block' : 'none';\n",
              "\n",
              "        async function convertToInteractive(key) {\n",
              "          const element = document.querySelector('#df-d84edab0-7798-4f93-b859-7d15d49b9dca');\n",
              "          const dataTable =\n",
              "            await google.colab.kernel.invokeFunction('convertToInteractive',\n",
              "                                                     [key], {});\n",
              "          if (!dataTable) return;\n",
              "\n",
              "          const docLinkHtml = 'Like what you see? Visit the ' +\n",
              "            '<a target=\"_blank\" href=https://colab.research.google.com/notebooks/data_table.ipynb>data table notebook</a>'\n",
              "            + ' to learn more about interactive tables.';\n",
              "          element.innerHTML = '';\n",
              "          dataTable['output_type'] = 'display_data';\n",
              "          await google.colab.output.renderOutput(dataTable, element);\n",
              "          const docLink = document.createElement('div');\n",
              "          docLink.innerHTML = docLinkHtml;\n",
              "          element.appendChild(docLink);\n",
              "        }\n",
              "      </script>\n",
              "    </div>\n",
              "  </div>\n"
            ],
            "text/plain": [
              "   CHURN  number of articles\n",
              "0    0.0           13.303085\n",
              "1    1.0            7.944879"
            ]
          },
          "execution_count": 26,
          "metadata": {},
          "output_type": "execute_result"
        }
      ],
      "source": [
        "dat.groupby('CHURN').agg({'number of articles': 'mean'}).reset_index()\n"
      ]
    },
    {
      "cell_type": "markdown",
      "metadata": {
        "id": "-1_J1Ib3SIK8"
      },
      "source": [
        "As regards the number of articles, in average the churners have purchased 8 articles."
      ]
    },
    {
      "cell_type": "markdown",
      "metadata": {
        "id": "pq1jFX7ESSxc"
      },
      "source": [
        "I evaluate the churners  favorite stores."
      ]
    },
    {
      "cell_type": "code",
      "execution_count": null,
      "metadata": {
        "id": "lih5Nj53AdMK"
      },
      "outputs": [],
      "source": [
        "favori_per_churn = dat[dat['CHURN'] == 1]['favorite_store'].value_counts()\n",
        "s=favori_per_churn.head(10)"
      ]
    },
    {
      "cell_type": "code",
      "execution_count": null,
      "metadata": {
        "colab": {
          "base_uri": "https://localhost:8080/"
        },
        "id": "XGl7r4J7HKKn",
        "outputId": "ef05cccf-3ef4-4754-edcb-ecdc7fff61bd"
      },
      "outputs": [
        {
          "data": {
            "text/plain": [
              "1     818\n",
              "38    409\n",
              "33    361\n",
              "39    333\n",
              "20    331\n",
              "3     328\n",
              "34    320\n",
              "37    319\n",
              "40    311\n",
              "47    310\n",
              "Name: favorite_store, dtype: int64"
            ]
          },
          "execution_count": 28,
          "metadata": {},
          "output_type": "execute_result"
        }
      ],
      "source": [
        "s"
      ]
    },
    {
      "cell_type": "markdown",
      "metadata": {
        "id": "aHMtrUNaSZmw"
      },
      "source": [
        "The store \"1\" is the most preferred by the one that have interrupted the relation with the company."
      ]
    },
    {
      "cell_type": "code",
      "execution_count": null,
      "metadata": {
        "colab": {
          "base_uri": "https://localhost:8080/",
          "height": 472
        },
        "id": "1NKIOYvNGQTD",
        "outputId": "5d639c2d-720c-4cf3-d9b0-511e2de1642c"
      },
      "outputs": [
        {
          "data": {
            "image/png": "[encoded data removed]",
            "text/plain": [
              "<Figure size 640x480 with 1 Axes>"
            ]
          },
          "metadata": {},
          "output_type": "display_data"
        }
      ],
      "source": [
        "\n",
        "favori_per_churn = dat[dat['CHURN'] == 1]['favorite_store'].value_counts().head(10)\n",
        "\n",
        "# Creazione del barplot\n",
        "plt.bar(favori_per_churn.index.astype(str), favori_per_churn.values)\n",
        "\n",
        "# Personalizzazione dell'asse x\n",
        "plt.xlabel('favorite_store ')\n",
        "\n",
        "\n",
        "# Personalizzazione dell'asse y\n",
        "plt.ylabel('Count')\n",
        "\n",
        "# Titolo del grafico\n",
        "plt.title(' Churners top 10 favorite stores')\n",
        "\n",
        "# Mostrare il grafico\n",
        "plt.show()\n"
      ]
    },
    {
      "cell_type": "markdown",
      "metadata": {
        "id": "tYhPlZddgJ27"
      },
      "source": [
        "The second algorithm that I use is the Decision Tree, based on a recursive partition of the data driven by maximizing the polarization of the target value within each split.\n"
      ]
    },
    {
      "cell_type": "code",
      "execution_count": null,
      "metadata": {
        "colab": {
          "base_uri": "https://localhost:8080/"
        },
        "id": "zY_RJLNRdl6n",
        "outputId": "ecfb7b8d-b9f6-4b02-94c6-e99ed5759cc9"
      },
      "outputs": [
        {
          "name": "stdout",
          "output_type": "stream",
          "text": [
            "Decision Tree Accuracy: 0.7868772067477442\n",
            "Decision Tree Precision: 0.7566146993318486\n",
            "Decision Tree Recall: 0.8403086969427129\n",
            "Decision Tree F1-score: 0.7962685167822989\n"
          ]
        }
      ],
      "source": [
        "# Decision Tree\n",
        "tree = DecisionTreeClassifier(min_samples_split=5, ccp_alpha=0.000001, random_state=123)\n",
        "tree.fit(X_train, y_train)\n",
        "y_pred_dt = tree.predict(X_test)\n",
        "\n",
        "accuracy_dt = accuracy_score(y_test, y_pred_dt)\n",
        "precision_dt = precision_score(y_test, y_pred_dt)\n",
        "recall_dt = recall_score(y_test, y_pred_dt)\n",
        "f1_dt = f1_score(y_test, y_pred_dt)\n",
        "\n",
        "print('Decision Tree Accuracy:', accuracy_dt)\n",
        "print('Decision Tree Precision:', precision_dt)\n",
        "print('Decision Tree Recall:', recall_dt)\n",
        "print('Decision Tree F1-score:', f1_dt)"
      ]
    },
    {
      "cell_type": "markdown",
      "metadata": {
        "id": "hFsRLDvegp3m"
      },
      "source": [
        "It obtains lower performances than the Random Forest algorithm, in fact the Decision tree provides a correct classification of the customers into the 78% of the cases. Furthermore, as explained by the Precision, in the  75% of the cases, a customer that is classified as a churner, it turns out to be\n",
        "a churner."
      ]
    },
    {
      "cell_type": "markdown",
      "metadata": {
        "id": "bG7e6mZ_hQme"
      },
      "source": [
        "The third algorithm is the Logistic Regression that use the logistic function\n",
        "in order to classify the instances."
      ]
    },
    {
      "cell_type": "code",
      "execution_count": null,
      "metadata": {
        "colab": {
          "base_uri": "https://localhost:8080/"
        },
        "id": "_W2ls_kSduJs",
        "outputId": "79f134ab-e344-477c-abea-5284340f4757"
      },
      "outputs": [
        {
          "name": "stdout",
          "output_type": "stream",
          "text": [
            "Logistic Regression Accuracy: 0.5813063946645743\n",
            "Logistic Regression Precision: 0.5588477983647139\n",
            "Logistic Regression Recall: 0.7371128920550114\n",
            "Logistic Regression F1-score: 0.6357197713115453\n"
          ]
        }
      ],
      "source": [
        "# Logistic Regression\n",
        "logreg = LogisticRegression(solver='liblinear')\n",
        "logreg.fit(X_train, y_train)\n",
        "y_pred_lr = logreg.predict(X_test)\n",
        "\n",
        "accuracy_lr = accuracy_score(y_test, y_pred_lr)\n",
        "precision_lr = precision_score(y_test, y_pred_lr)\n",
        "recall_lr = recall_score(y_test, y_pred_lr)\n",
        "f1_lr = f1_score(y_test, y_pred_lr)\n",
        "\n",
        "print('Logistic Regression Accuracy:', accuracy_lr)\n",
        "print('Logistic Regression Precision:', precision_lr)\n",
        "print('Logistic Regression Recall:', recall_lr)\n",
        "print('Logistic Regression F1-score:', f1_lr)"
      ]
    },
    {
      "cell_type": "markdown",
      "metadata": {
        "id": "i76v_SgCjq5x"
      },
      "source": [
        "In this case the performance metrics have lower values than the two previous algorithm. The Logistic regression recognizes about the 73% of the churners.\n",
        "In the 58% of the cases, the algorithm provides a correct classification."
      ]
    },
    {
      "cell_type": "markdown",
      "metadata": {
        "id": "MD91QWLikLNJ"
      },
      "source": [
        "The fourth algorithm is the MultiLayer Perceptron,the variables in the input layer are combined into new variables using  linear combinations\n",
        "and nonlinear activation functions:tanh, sigmoid ecc... At the end there is an estimate for the target through the softmax function.\n"
      ]
    },
    {
      "cell_type": "code",
      "execution_count": null,
      "metadata": {
        "colab": {
          "base_uri": "https://localhost:8080/"
        },
        "id": "EBF6o3e9dzy2",
        "outputId": "b264cfde-fc4c-488d-d953-a743796d0806"
      },
      "outputs": [
        {
          "name": "stdout",
          "output_type": "stream",
          "text": [
            "Multilayer Perceptron Accuracy: 0.5821890937622597\n",
            "Multilayer Perceptron Precision: 0.5673085079311222\n",
            "Multilayer Perceptron Recall: 0.6617196002770357\n",
            "Multilayer Perceptron F1-score: 0.6108878333942271\n"
          ]
        }
      ],
      "source": [
        "# Multilayer Perceptron\n",
        "mlp = MLPClassifier(hidden_layer_sizes=(5,), alpha=1e-5, random_state=123)\n",
        "mlp.fit(X_train, y_train)\n",
        "y_pred_mlp = mlp.predict(X_test)\n",
        "\n",
        "accuracy_mlp = accuracy_score(y_test, y_pred_mlp)\n",
        "precision_mlp = precision_score(y_test, y_pred_mlp)\n",
        "recall_mlp = recall_score(y_test, y_pred_mlp)\n",
        "f1_mlp = f1_score(y_test, y_pred_mlp)\n",
        "\n",
        "print('Multilayer Perceptron Accuracy:', accuracy_mlp)\n",
        "print('Multilayer Perceptron Precision:', precision_mlp)\n",
        "print('Multilayer Perceptron Recall:', recall_mlp)\n",
        "print('Multilayer Perceptron F1-score:', f1_mlp)"
      ]
    },
    {
      "cell_type": "markdown",
      "metadata": {
        "id": "uQ5gVA3blL2N"
      },
      "source": [
        "The performances of the MLP are very similar to those of the Logistic Regression, in fact the classifier is capable of identify the 58% of the churners, and it makes a correct classification for the 66% of the instances."
      ]
    },
    {
      "cell_type": "markdown",
      "metadata": {
        "id": "dbigMvOMmjG6"
      },
      "source": [
        "I take into account the Roc curve of the four classifier\n",
        "The Receiver Operating Characteristic (ROC) curve is a graphical representation of the performance of a binary classification model. It illustrates the trade-off between the true positive rate (sensitivity) and the false positive rate (1 - specificity) as the classification threshold is varied.\n",
        "The performances can be evaluated through the AUC(Area Under the Curve)."
      ]
    },
    {
      "cell_type": "code",
      "execution_count": null,
      "metadata": {
        "colab": {
          "base_uri": "https://localhost:8080/",
          "height": 564
        },
        "id": "XB-eHtPXo19i",
        "outputId": "c489d812-0092-45b3-df38-30001dd71116"
      },
      "outputs": [
        {
          "data": {
            "image/png": "[encoded data removed]",
            "text/plain": [
              "<Figure size 800x600 with 1 Axes>"
            ]
          },
          "metadata": {},
          "output_type": "display_data"
        }
      ],
      "source": [
        "from sklearn.metrics import roc_curve, roc_auc_score\n",
        "\n",
        "# Roc curves calculation\n",
        "fpr_logreg, tpr_logreg, _ = roc_curve(y_test, y_pred_lr)\n",
        "fpr_dt, tpr_dt, _ = roc_curve(y_test, y_pred_dt)\n",
        "fpr_rf, tpr_rf, _ = roc_curve(y_test, y_pred_rf)\n",
        "fpr_mlp, tpr_mlp, _ = roc_curve(y_test, y_pred_mlp)\n",
        "\n",
        "# Auc calculation\n",
        "auc_logreg = roc_auc_score(y_test, y_pred_lr)\n",
        "auc_dt = roc_auc_score(y_test, y_pred_dt)\n",
        "auc_rf = roc_auc_score(y_test, y_pred_rf)\n",
        "auc_mlp = roc_auc_score(y_test, y_pred_mlp)\n",
        "\n",
        "# Roc curve plots\n",
        "plt.figure(figsize=(8, 6))\n",
        "plt.plot(fpr_logreg, tpr_logreg, color='#6c0f5e', lw=2, label='Logistic Regression (AUC = {:.2f})'.format(auc_logreg))\n",
        "plt.plot(fpr_dt, tpr_dt, color='#b31d56', lw=2, label='Decision Tree (AUC = {:.2f})'.format(auc_dt))\n",
        "plt.plot(fpr_rf, tpr_rf, color='#e2543b', lw=2, label='Random Forest (AUC = {:.2f})'.format(auc_rf))\n",
        "plt.plot(fpr_mlp, tpr_mlp, color='#f09708', lw=2, label='Multilayer Perceptron (AUC = {:.2f})'.format(auc_mlp))\n",
        "plt.plot([0, 1], [0, 1], color='gray', linestyle='--')\n",
        "plt.xlim([0.0, 1.0])\n",
        "plt.ylim([0.0, 1.05])\n",
        "plt.xlabel('False Positive Rate (Percentage false positive)')\n",
        "plt.ylabel('True Positive Rate (Percentage true positive)')\n",
        "plt.title('Curve ROC')\n",
        "plt.legend(loc='lower right')\n",
        "plt.show()\n"
      ]
    },
    {
      "cell_type": "markdown",
      "metadata": {
        "id": "Ofqe5XHmnRO-"
      },
      "source": [
        "As previously noted, the two classifiers that obtain the best result are the Decision Tree and the Random Forest classifier. As regards the AUC, in both cases the value is about 0.8."
      ]
    }
  ],
  "metadata": {
    "colab": {
      "provenance": []
    },
    "kernelspec": {
      "display_name": "Python 3",
      "name": "python3"
    },
    "language_info": {
      "name": "python"
    }
  },
  "nbformat": 4,
  "nbformat_minor": 0
}
