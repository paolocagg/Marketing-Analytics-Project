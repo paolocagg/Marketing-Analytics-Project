{
  "cells": [
    {
      "cell_type": "markdown",
      "metadata": {
        "id": "EiNSVxNxkrzq"
      },
      "source": [
        "# Data analysis\n",
        "\n"
      ]
    },
    {
      "cell_type": "markdown",
      "metadata": {
        "id": "ngJ71JI1jVmh"
      },
      "source": [
        "Initially I import the libraries that I need in order to make a connection to the drive folder."
      ]
    },
    {
      "cell_type": "code",
      "execution_count": null,
      "metadata": {
        "id": "p_5FutpObDmu"
      },
      "outputs": [],
      "source": [
        "import zipfile\n",
        "from shutil import copyfile\n",
        "from google.colab import drive\n",
        "import csv\n",
        "import pandas as pd\n",
        "import seaborn as sns\n",
        "import matplotlib.pyplot as plt"
      ]
    },
    {
      "cell_type": "code",
      "execution_count": null,
      "metadata": {
        "colab": {
          "base_uri": "https://localhost:8080/"
        },
        "id": "gfyD_fMFeF7B",
        "outputId": "eb44d8ee-6055-4574-995c-5ac196b47ce0"
      },
      "outputs": [
        {
          "name": "stdout",
          "output_type": "stream",
          "text": [
            "Drive already mounted at /content/gdrive; to attempt to forcibly remount, call drive.mount(\"/content/gdrive\", force_remount=True).\n"
          ]
        }
      ],
      "source": [
        "drive.mount('/content/gdrive')"
      ]
    },
    {
      "cell_type": "code",
      "execution_count": null,
      "metadata": {
        "id": "gclZJ9lYeP4w"
      },
      "outputs": [],
      "source": [
        "copyfile('/content/gdrive/My Drive/Colab Notebooks/data_marketing_analytics_2023.zip', 'data_marketing.zip')\n",
        "# Extract files\n",
        "zipp = zipfile.ZipFile('data_marketing.zip')\n",
        "zipp.extractall()\n",
        "zipp.close()"
      ]
    },
    {
      "cell_type": "markdown",
      "metadata": {
        "id": "GVVVisy0kh6t"
      },
      "source": [
        "I import the seven dataset that have been provided in order to investigate\n",
        "their structure and to make a phase of Exploratory Data Analysis."
      ]
    },
    {
      "cell_type": "code",
      "execution_count": null,
      "metadata": {
        "id": "_mC702UmwX-B"
      },
      "outputs": [],
      "source": [
        "addresses=pd.read_csv('tbl_addresses.csv')\n",
        "customer_accounts=pd.read_csv('tbl_customer_accounts.csv')\n",
        "customer_reviews=pd.read_csv('tbl_customer_reviews.csv')\n",
        "customers=pd.read_csv('tbl_customers.csv')\n",
        "labelled_reviews=pd.read_csv('tbl_labelled_reviews.csv')\n",
        "orders=pd.read_csv(\"tbl_orders.csv\")\n",
        "products=pd.read_csv(\"tbl_products.csv\")"
      ]
    },
    {
      "cell_type": "markdown",
      "metadata": {
        "id": "FRi3NrQ9j1Pe"
      },
      "source": [
        "# Addresses dataset"
      ]
    },
    {
      "cell_type": "markdown",
      "metadata": {
        "id": "O7nuROSkPvlO"
      },
      "source": [
        "Check the info of the dataset and possible null values"
      ]
    },
    {
      "cell_type": "code",
      "execution_count": null,
      "metadata": {
        "colab": {
          "base_uri": "https://localhost:8080/"
        },
        "id": "XJkwZ3bSPu_B",
        "outputId": "ee450a1d-d8e0-4afd-ed0f-75160ac73f07"
      },
      "outputs": [
        {
          "name": "stdout",
          "output_type": "stream",
          "text": [
            "<class 'pandas.core.frame.DataFrame'>\n",
            "RangeIndex: 245425 entries, 0 to 245424\n",
            "Data columns (total 4 columns):\n",
            " #   Column       Non-Null Count   Dtype  \n",
            "---  ------       --------------   -----  \n",
            " 0   address_id   245425 non-null  int64  \n",
            " 1   postal_code  245376 non-null  float64\n",
            " 2   district     226359 non-null  object \n",
            " 3   region       238679 non-null  object \n",
            "dtypes: float64(1), int64(1), object(2)\n",
            "memory usage: 7.5+ MB\n"
          ]
        },
        {
          "data": {
            "text/plain": [
              "address_id         0\n",
              "postal_code       49\n",
              "district       19066\n",
              "region          6746\n",
              "dtype: int64"
            ]
          },
          "execution_count": 10,
          "metadata": {},
          "output_type": "execute_result"
        }
      ],
      "source": [
        "addresses.info()\n",
        "addresses.isna().sum()"
      ]
    },
    {
      "cell_type": "markdown",
      "metadata": {
        "id": "EBsZuioGmkFm"
      },
      "source": [
        "The addresses dataset contains multiple null values. In particular the variables: district and region have a large number of null values."
      ]
    },
    {
      "cell_type": "markdown",
      "metadata": {
        "id": "7GH3la6om4bK"
      },
      "source": [
        "I convert the variables to string."
      ]
    },
    {
      "cell_type": "code",
      "execution_count": null,
      "metadata": {
        "id": "ZjT1eWDEuZhm"
      },
      "outputs": [],
      "source": [
        "addresses['postal_code'] = addresses['postal_code'].astype(str)\n",
        "addresses['district']=addresses['district'].astype(str)\n",
        "addresses['region']=addresses['region'].astype(str)\n",
        "addresses['address_id']=addresses['address_id'].astype(str)\n"
      ]
    },
    {
      "cell_type": "markdown",
      "metadata": {
        "id": "TzdthCimk7dv"
      },
      "source": [
        "I drop the duplicates of the dataset"
      ]
    },
    {
      "cell_type": "code",
      "execution_count": null,
      "metadata": {
        "id": "k9IgqVxZkqJe"
      },
      "outputs": [],
      "source": [
        "addresses=addresses.drop_duplicates()"
      ]
    },
    {
      "cell_type": "markdown",
      "metadata": {
        "id": "sykVbPx0zM_M"
      },
      "source": [
        "I delete the customer that have no postal code, since in all the cases who does not have a postal code presents null values also for the variables district and region."
      ]
    },
    {
      "cell_type": "code",
      "execution_count": null,
      "metadata": {
        "id": "bzRUcnott0jo"
      },
      "outputs": [],
      "source": [
        "addresses[addresses.postal_code==\"nan\"]\n",
        "new = addresses.drop(addresses[addresses.postal_code==\"nan\"].index)\n",
        "new=addresses.drop(addresses[addresses.postal_code==\"None\"].index)"
      ]
    },
    {
      "cell_type": "markdown",
      "metadata": {
        "id": "iztfiTe4RtJZ"
      },
      "source": [
        "I use the postal code to derive the missing information about the district and the region"
      ]
    },
    {
      "cell_type": "code",
      "execution_count": null,
      "metadata": {
        "id": "PUgZXF6OR6TE"
      },
      "outputs": [],
      "source": [
        "a={}\n",
        "for i in new.postal_code.unique():\n",
        "      district=new.district[new.postal_code==i].iloc[0]\n",
        "      region=new.region[new.postal_code==i].iloc[0]\n",
        "      if district!=\"nan\" or region!=\"nan\":\n",
        "        a[i]=[district,region]\n"
      ]
    },
    {
      "cell_type": "markdown",
      "metadata": {
        "id": "xjK7Fx8liIV_"
      },
      "source": [
        "When the district and the region contains the value Nan, I try to retrieve the information from the dictionary previously created. It contains the association between postal code and the values for district and region."
      ]
    },
    {
      "cell_type": "code",
      "execution_count": null,
      "metadata": {
        "id": "PcS5SVy9ZYhf"
      },
      "outputs": [],
      "source": [
        "for j in range(0,len(addresses)):\n",
        "  if addresses.district.iloc[j]==\"nan\":\n",
        "    if addresses.postal_code.iloc[j] in a.keys():\n",
        "      district=a[addresses.postal_code.iloc[j]][0]\n",
        "      addresses.district.iloc[j]= district\n",
        "  if addresses.region.iloc[j]==\"nan\":\n",
        "    if addresses.postal_code.iloc[j] in a.keys():\n",
        "      region=a[addresses.postal_code.iloc[j]][1]\n",
        "      addresses.region.iloc[j]= region\n"
      ]
    },
    {
      "cell_type": "code",
      "execution_count": null,
      "metadata": {
        "id": "qkB0f6fecElf"
      },
      "outputs": [],
      "source": [
        "addresses.district.loc[addresses[\"district\"]==\"nan\"] = \"Not Specified\"\n"
      ]
    },
    {
      "cell_type": "code",
      "execution_count": null,
      "metadata": {
        "id": "hm1FUVY1i0Zg"
      },
      "outputs": [],
      "source": [
        "addresses.region.loc[addresses[\"region\"]==\"nan\"] = \"Not Specified\"\n"
      ]
    },
    {
      "cell_type": "markdown",
      "metadata": {
        "id": "no4PjFDri_DQ"
      },
      "source": [
        "Hovewer there are some cases in which the postal code does not lead to the\n",
        "values of district and region. In that cases I substitute the nan values with the string \"Not Specified\""
      ]
    },
    {
      "cell_type": "code",
      "execution_count": null,
      "metadata": {
        "colab": {
          "base_uri": "https://localhost:8080/"
        },
        "id": "9KRdsxxvo70K",
        "outputId": "5e391f60-9cdc-4bbf-d69b-55eb5dfe255c"
      },
      "outputs": [
        {
          "data": {
            "text/plain": [
              "LOMBARDIA                47550\n",
              "LAZIO                    20101\n",
              "VENETO                   14186\n",
              "CAMPANIA                 12887\n",
              "PIEMONTE                 11745\n",
              "SICILIA                  10783\n",
              "EMILIA ROMAGNA            9606\n",
              "PUGLIA                    8790\n",
              "TOSCANA                   6217\n",
              "LIGURIA                   3953\n",
              "ABRUZZO                   3255\n",
              "FRIULI VENEZIA GIULIA     2785\n",
              "UMBRIA                    2694\n",
              "Not Specified              628\n",
              "MARCHE                     614\n",
              "CALABRIA                   488\n",
              "BASILICATA                 467\n",
              "TRENTINO ALTO ADIGE        350\n",
              "SARDEGNA                   297\n",
              "MOLISE                     220\n",
              "VALLE D'AOSTA              149\n",
              "Name: region, dtype: int64"
            ]
          },
          "execution_count": 19,
          "metadata": {},
          "output_type": "execute_result"
        }
      ],
      "source": [
        "conteggi = addresses.region.value_counts()\n",
        "conteggi"
      ]
    },
    {
      "cell_type": "markdown",
      "metadata": {
        "id": "FbUQava7qLfF"
      },
      "source": [
        "The majority of addresses correspond to the Lombardia region, followed by the Lazio. Valle D'Aosta is the region with the smallest representativity."
      ]
    },
    {
      "cell_type": "code",
      "execution_count": null,
      "metadata": {
        "colab": {
          "base_uri": "https://localhost:8080/",
          "height": 472
        },
        "id": "AiM7I7RAqJpD",
        "outputId": "6fc2a086-9070-4ded-e4e9-9a85a236e54b"
      },
      "outputs": [
        {
          "data": {
            "image/png": "[encoded data removed]",
            "text/plain": [
              "<Figure size 640x480 with 1 Axes>"
            ]
          },
          "metadata": {},
          "output_type": "display_data"
        }
      ],
      "source": [
        "from matplotlib.pyplot import figure\n",
        "fig, ax = plt.subplots()\n",
        "bars = ax.barh(conteggi.index,conteggi)\n",
        "\n",
        "ax.bar_label(bars)\n",
        "# label\n",
        "plt.xlabel('Counts')\n",
        "plt.ylabel('Regions')\n",
        "plt.title('Costumers per regions')\n",
        "# plot visualization\n",
        "\n",
        "ax.spines[['right', 'top']].set_visible(False)\n",
        "\n",
        "plt.show()"
      ]
    },
    {
      "cell_type": "markdown",
      "metadata": {
        "id": "aTv9xwiujrFG"
      },
      "source": [
        "# Customers dataset"
      ]
    },
    {
      "cell_type": "markdown",
      "metadata": {
        "id": "FAFm2g-17qSZ"
      },
      "source": [
        "I drop the duplicates of the customers dataset and I check for Nan Values."
      ]
    },
    {
      "cell_type": "code",
      "execution_count": null,
      "metadata": {
        "colab": {
          "base_uri": "https://localhost:8080/"
        },
        "id": "YzT8POIhjp06",
        "outputId": "1864f104-1d6f-4728-9812-1aaf8c153b41"
      },
      "outputs": [
        {
          "name": "stdout",
          "output_type": "stream",
          "text": [
            "<class 'pandas.core.frame.DataFrame'>\n",
            "RangeIndex: 140946 entries, 0 to 140945\n",
            "Data columns (total 8 columns):\n",
            " #   Column               Non-Null Count   Dtype  \n",
            "---  ------               --------------   -----  \n",
            " 0   customer_id          140946 non-null  int64  \n",
            " 1   address_id           140946 non-null  int64  \n",
            " 2   birthdate            140946 non-null  object \n",
            " 3   gender               140946 non-null  object \n",
            " 4   job_type             4295 non-null    object \n",
            " 5   email_provider       139111 non-null  object \n",
            " 6   flag_phone_provided  129675 non-null  float64\n",
            " 7   flag_privacy         140946 non-null  bool   \n",
            "dtypes: bool(1), float64(1), int64(2), object(4)\n",
            "memory usage: 7.7+ MB\n"
          ]
        },
        {
          "data": {
            "text/plain": [
              "customer_id                 0\n",
              "address_id                  0\n",
              "birthdate                   0\n",
              "gender                      0\n",
              "job_type               136651\n",
              "email_provider           1835\n",
              "flag_phone_provided     11271\n",
              "flag_privacy                0\n",
              "dtype: int64"
            ]
          },
          "execution_count": 20,
          "metadata": {},
          "output_type": "execute_result"
        }
      ],
      "source": [
        "customers.info()\n",
        "customers=customers.drop_duplicates()\n",
        "customers.isna().sum()\n"
      ]
    },
    {
      "cell_type": "markdown",
      "metadata": {
        "id": "_gbgKJQ4n7-E"
      },
      "source": [
        "The variables \"job_type\" and \"flag_phone_provided\" are characterised by a large number of null values. I substitute the value Nan with \"Not Specified\" for the job_type and email provider variables. Instead I insert the value 999 for the variable flag_phone_provided in the case it contains a Nan value."
      ]
    },
    {
      "cell_type": "code",
      "execution_count": null,
      "metadata": {
        "id": "WBvRCVNso1JL"
      },
      "outputs": [],
      "source": [
        "customers.job_type[customers.job_type.isna()==True]= 'Not Specified'"
      ]
    },
    {
      "cell_type": "code",
      "execution_count": null,
      "metadata": {
        "id": "WJIOW1p-pGLR"
      },
      "outputs": [],
      "source": [
        "customers.email_provider=customers.email_provider[customers.email_provider.isna()==True]=\"Not Specified\"\n",
        "customers.flag_phone_provided[customers.flag_phone_provided.isna()==True]=\"999\"\n"
      ]
    },
    {
      "cell_type": "markdown",
      "metadata": {
        "id": "0JOIKMMnqGCc"
      },
      "source": [
        "I  convert all the variables, excluded flag_privacy(boolean) to string."
      ]
    },
    {
      "cell_type": "code",
      "execution_count": null,
      "metadata": {
        "id": "cJbBVSb1lhGI"
      },
      "outputs": [],
      "source": [
        "customers['customer_id']=customers['customer_id'].astype(str)\n",
        "customers['address_id']=customers['address_id'].astype(str)\n",
        "customers['birthdate']= pd.to_datetime(customers['birthdate'])\n",
        "customers['gender']=customers['gender'].astype(str)\n",
        "customers['job_type']=customers['job_type'].astype(str)\n",
        "customers['email_provider']=customers['email_provider'].astype(str)\n",
        "customers['flag_phone_provided']=customers['flag_phone_provided'].astype(str)\n",
        "\n",
        "\n",
        "\n"
      ]
    },
    {
      "cell_type": "markdown",
      "metadata": {
        "id": "BQY2yUriRGgq"
      },
      "source": [
        "I make the join between the customers and the addresses table\n",
        "based on the variable address_id"
      ]
    },
    {
      "cell_type": "code",
      "execution_count": null,
      "metadata": {
        "id": "i0cNzylJRdb3"
      },
      "outputs": [],
      "source": [
        "df = pd.merge(customers, addresses, on=['address_id'])"
      ]
    },
    {
      "cell_type": "code",
      "execution_count": null,
      "metadata": {
        "colab": {
          "base_uri": "https://localhost:8080/",
          "height": 423
        },
        "id": "JP7cKiNEromY",
        "outputId": "a2289be0-25d7-4f8b-9dcf-983ee085797b"
      },
      "outputs": [
        {
          "data": {
            "text/html": [
              "\n",
              "\n",
              "  <div id=\"df-a3b3f5a1-95aa-4cd6-a20a-c8b1c1a86a9a\">\n",
              "    <div class=\"colab-df-container\">\n",
              "      <div>\n",
              "<style scoped>\n",
              "    .dataframe tbody tr th:only-of-type {\n",
              "        vertical-align: middle;\n",
              "    }\n",
              "\n",
              "    .dataframe tbody tr th {\n",
              "        vertical-align: top;\n",
              "    }\n",
              "\n",
              "    .dataframe thead th {\n",
              "        text-align: right;\n",
              "    }\n",
              "</style>\n",
              "<table border=\"1\" class=\"dataframe\">\n",
              "  <thead>\n",
              "    <tr style=\"text-align: right;\">\n",
              "      <th></th>\n",
              "      <th>customer_id</th>\n",
              "      <th>address_id</th>\n",
              "      <th>birthdate</th>\n",
              "      <th>gender</th>\n",
              "      <th>job_type</th>\n",
              "      <th>email_provider</th>\n",
              "      <th>flag_phone_provided</th>\n",
              "      <th>flag_privacy</th>\n",
              "      <th>postal_code</th>\n",
              "      <th>district</th>\n",
              "      <th>region</th>\n",
              "    </tr>\n",
              "  </thead>\n",
              "  <tbody>\n",
              "    <tr>\n",
              "      <th>0</th>\n",
              "      <td>891057</td>\n",
              "      <td>863914</td>\n",
              "      <td>2001-10-22</td>\n",
              "      <td>F</td>\n",
              "      <td>Not Specified</td>\n",
              "      <td>Not Specified</td>\n",
              "      <td>1.0</td>\n",
              "      <td>True</td>\n",
              "      <td>10035.0</td>\n",
              "      <td>TO</td>\n",
              "      <td>PIEMONTE</td>\n",
              "    </tr>\n",
              "    <tr>\n",
              "      <th>1</th>\n",
              "      <td>655484</td>\n",
              "      <td>639856</td>\n",
              "      <td>2001-04-30</td>\n",
              "      <td>M</td>\n",
              "      <td>Not Specified</td>\n",
              "      <td>Not Specified</td>\n",
              "      <td>1.0</td>\n",
              "      <td>False</td>\n",
              "      <td>71010.0</td>\n",
              "      <td>FG</td>\n",
              "      <td>PUGLIA</td>\n",
              "    </tr>\n",
              "    <tr>\n",
              "      <th>2</th>\n",
              "      <td>514958</td>\n",
              "      <td>494806</td>\n",
              "      <td>2001-01-01</td>\n",
              "      <td>M</td>\n",
              "      <td>Not Specified</td>\n",
              "      <td>Not Specified</td>\n",
              "      <td>1.0</td>\n",
              "      <td>True</td>\n",
              "      <td>42.0</td>\n",
              "      <td>RM</td>\n",
              "      <td>LAZIO</td>\n",
              "    </tr>\n",
              "    <tr>\n",
              "      <th>3</th>\n",
              "      <td>398355</td>\n",
              "      <td>377261</td>\n",
              "      <td>2000-03-09</td>\n",
              "      <td>M</td>\n",
              "      <td>Not Specified</td>\n",
              "      <td>Not Specified</td>\n",
              "      <td>1.0</td>\n",
              "      <td>True</td>\n",
              "      <td>36050.0</td>\n",
              "      <td>VI</td>\n",
              "      <td>VENETO</td>\n",
              "    </tr>\n",
              "    <tr>\n",
              "      <th>4</th>\n",
              "      <td>23808</td>\n",
              "      <td>20227</td>\n",
              "      <td>1999-11-21</td>\n",
              "      <td>F</td>\n",
              "      <td>Not Specified</td>\n",
              "      <td>Not Specified</td>\n",
              "      <td>1.0</td>\n",
              "      <td>True</td>\n",
              "      <td>60041.0</td>\n",
              "      <td>AN</td>\n",
              "      <td>MARCHE</td>\n",
              "    </tr>\n",
              "    <tr>\n",
              "      <th>...</th>\n",
              "      <td>...</td>\n",
              "      <td>...</td>\n",
              "      <td>...</td>\n",
              "      <td>...</td>\n",
              "      <td>...</td>\n",
              "      <td>...</td>\n",
              "      <td>...</td>\n",
              "      <td>...</td>\n",
              "      <td>...</td>\n",
              "      <td>...</td>\n",
              "      <td>...</td>\n",
              "    </tr>\n",
              "    <tr>\n",
              "      <th>138831</th>\n",
              "      <td>449222</td>\n",
              "      <td>428121</td>\n",
              "      <td>1945-05-30</td>\n",
              "      <td>F</td>\n",
              "      <td>Not Specified</td>\n",
              "      <td>Not Specified</td>\n",
              "      <td>1.0</td>\n",
              "      <td>True</td>\n",
              "      <td>47121.0</td>\n",
              "      <td>FC</td>\n",
              "      <td>EMILIA ROMAGNA</td>\n",
              "    </tr>\n",
              "    <tr>\n",
              "      <th>138832</th>\n",
              "      <td>368113</td>\n",
              "      <td>346970</td>\n",
              "      <td>1943-11-18</td>\n",
              "      <td>F</td>\n",
              "      <td>Not Specified</td>\n",
              "      <td>Not Specified</td>\n",
              "      <td>1.0</td>\n",
              "      <td>True</td>\n",
              "      <td>20135.0</td>\n",
              "      <td>MI</td>\n",
              "      <td>LOMBARDIA</td>\n",
              "    </tr>\n",
              "    <tr>\n",
              "      <th>138833</th>\n",
              "      <td>424451</td>\n",
              "      <td>403292</td>\n",
              "      <td>1943-05-07</td>\n",
              "      <td>F</td>\n",
              "      <td>Not Specified</td>\n",
              "      <td>Not Specified</td>\n",
              "      <td>1.0</td>\n",
              "      <td>True</td>\n",
              "      <td>20154.0</td>\n",
              "      <td>MI</td>\n",
              "      <td>LOMBARDIA</td>\n",
              "    </tr>\n",
              "    <tr>\n",
              "      <th>138834</th>\n",
              "      <td>808137</td>\n",
              "      <td>789737</td>\n",
              "      <td>1943-02-13</td>\n",
              "      <td>F</td>\n",
              "      <td>Not Specified</td>\n",
              "      <td>Not Specified</td>\n",
              "      <td>1.0</td>\n",
              "      <td>True</td>\n",
              "      <td>73022.0</td>\n",
              "      <td>LE</td>\n",
              "      <td>PUGLIA</td>\n",
              "    </tr>\n",
              "    <tr>\n",
              "      <th>138835</th>\n",
              "      <td>442860</td>\n",
              "      <td>421749</td>\n",
              "      <td>1940-05-18</td>\n",
              "      <td>F</td>\n",
              "      <td>Not Specified</td>\n",
              "      <td>Not Specified</td>\n",
              "      <td>1.0</td>\n",
              "      <td>True</td>\n",
              "      <td>80015.0</td>\n",
              "      <td>Not Specified</td>\n",
              "      <td>CAMPANIA</td>\n",
              "    </tr>\n",
              "  </tbody>\n",
              "</table>\n",
              "<p>138836 rows × 11 columns</p>\n",
              "</div>\n",
              "      <button class=\"colab-df-convert\" onclick=\"convertToInteractive('df-a3b3f5a1-95aa-4cd6-a20a-c8b1c1a86a9a')\"\n",
              "              title=\"Convert this dataframe to an interactive table.\"\n",
              "              style=\"display:none;\">\n",
              "\n",
              "  <svg xmlns=\"http://www.w3.org/2000/svg\" height=\"24px\"viewBox=\"0 0 24 24\"\n",
              "       width=\"24px\">\n",
              "    <path d=\"M0 0h24v24H0V0z\" fill=\"none\"/>\n",
              "    <path d=\"M18.56 5.44l.94 2.06.94-2.06 2.06-.94-2.06-.94-.94-2.06-.94 2.06-2.06.94zm-11 1L8.5 8.5l.94-2.06 2.06-.94-2.06-.94L8.5 2.5l-.94 2.06-2.06.94zm10 10l.94 2.06.94-2.06 2.06-.94-2.06-.94-.94-2.06-.94 2.06-2.06.94z\"/><path d=\"M17.41 7.96l-1.37-1.37c-.4-.4-.92-.59-1.43-.59-.52 0-1.04.2-1.43.59L10.3 9.45l-7.72 7.72c-.78.78-.78 2.05 0 2.83L4 21.41c.39.39.9.59 1.41.59.51 0 1.02-.2 1.41-.59l7.78-7.78 2.81-2.81c.8-.78.8-2.07 0-2.86zM5.41 20L4 18.59l7.72-7.72 1.47 1.35L5.41 20z\"/>\n",
              "  </svg>\n",
              "      </button>\n",
              "\n",
              "\n",
              "\n",
              "    <div id=\"df-892326b2-a56e-4c69-baab-6988ced34159\">\n",
              "      <button class=\"colab-df-quickchart\" onclick=\"quickchart('df-892326b2-a56e-4c69-baab-6988ced34159')\"\n",
              "              title=\"Suggest charts.\"\n",
              "              style=\"display:none;\">\n",
              "\n",
              "<svg xmlns=\"http://www.w3.org/2000/svg\" height=\"24px\"viewBox=\"0 0 24 24\"\n",
              "     width=\"24px\">\n",
              "    <g>\n",
              "        <path d=\"M19 3H5c-1.1 0-2 .9-2 2v14c0 1.1.9 2 2 2h14c1.1 0 2-.9 2-2V5c0-1.1-.9-2-2-2zM9 17H7v-7h2v7zm4 0h-2V7h2v10zm4 0h-2v-4h2v4z\"/>\n",
              "    </g>\n",
              "</svg>\n",
              "      </button>\n",
              "    </div>\n",
              "\n",
              "<style>\n",
              "  .colab-df-quickchart {\n",
              "    background-color: #E8F0FE;\n",
              "    border: none;\n",
              "    border-radius: 50%;\n",
              "    cursor: pointer;\n",
              "    display: none;\n",
              "    fill: #1967D2;\n",
              "    height: 32px;\n",
              "    padding: 0 0 0 0;\n",
              "    width: 32px;\n",
              "  }\n",
              "\n",
              "  .colab-df-quickchart:hover {\n",
              "    background-color: #E2EBFA;\n",
              "    box-shadow: 0px 1px 2px rgba(60, 64, 67, 0.3), 0px 1px 3px 1px rgba(60, 64, 67, 0.15);\n",
              "    fill: #174EA6;\n",
              "  }\n",
              "\n",
              "  [theme=dark] .colab-df-quickchart {\n",
              "    background-color: #3B4455;\n",
              "    fill: #D2E3FC;\n",
              "  }\n",
              "\n",
              "  [theme=dark] .colab-df-quickchart:hover {\n",
              "    background-color: #434B5C;\n",
              "    box-shadow: 0px 1px 3px 1px rgba(0, 0, 0, 0.15);\n",
              "    filter: drop-shadow(0px 1px 2px rgba(0, 0, 0, 0.3));\n",
              "    fill: #FFFFFF;\n",
              "  }\n",
              "</style>\n",
              "\n",
              "    <script>\n",
              "      async function quickchart(key) {\n",
              "        const containerElement = document.querySelector('#' + key);\n",
              "        const charts = await google.colab.kernel.invokeFunction(\n",
              "            'suggestCharts', [key], {});\n",
              "      }\n",
              "    </script>\n",
              "\n",
              "      <script>\n",
              "\n",
              "function displayQuickchartButton(domScope) {\n",
              "  let quickchartButtonEl =\n",
              "    domScope.querySelector('#df-892326b2-a56e-4c69-baab-6988ced34159 button.colab-df-quickchart');\n",
              "  quickchartButtonEl.style.display =\n",
              "    google.colab.kernel.accessAllowed ? 'block' : 'none';\n",
              "}\n",
              "\n",
              "        displayQuickchartButton(document);\n",
              "      </script>\n",
              "      <style>\n",
              "    .colab-df-container {\n",
              "      display:flex;\n",
              "      flex-wrap:wrap;\n",
              "      gap: 12px;\n",
              "    }\n",
              "\n",
              "    .colab-df-convert {\n",
              "      background-color: #E8F0FE;\n",
              "      border: none;\n",
              "      border-radius: 50%;\n",
              "      cursor: pointer;\n",
              "      display: none;\n",
              "      fill: #1967D2;\n",
              "      height: 32px;\n",
              "      padding: 0 0 0 0;\n",
              "      width: 32px;\n",
              "    }\n",
              "\n",
              "    .colab-df-convert:hover {\n",
              "      background-color: #E2EBFA;\n",
              "      box-shadow: 0px 1px 2px rgba(60, 64, 67, 0.3), 0px 1px 3px 1px rgba(60, 64, 67, 0.15);\n",
              "      fill: #174EA6;\n",
              "    }\n",
              "\n",
              "    [theme=dark] .colab-df-convert {\n",
              "      background-color: #3B4455;\n",
              "      fill: #D2E3FC;\n",
              "    }\n",
              "\n",
              "    [theme=dark] .colab-df-convert:hover {\n",
              "      background-color: #434B5C;\n",
              "      box-shadow: 0px 1px 3px 1px rgba(0, 0, 0, 0.15);\n",
              "      filter: drop-shadow(0px 1px 2px rgba(0, 0, 0, 0.3));\n",
              "      fill: #FFFFFF;\n",
              "    }\n",
              "  </style>\n",
              "\n",
              "      <script>\n",
              "        const buttonEl =\n",
              "          document.querySelector('#df-a3b3f5a1-95aa-4cd6-a20a-c8b1c1a86a9a button.colab-df-convert');\n",
              "        buttonEl.style.display =\n",
              "          google.colab.kernel.accessAllowed ? 'block' : 'none';\n",
              "\n",
              "        async function convertToInteractive(key) {\n",
              "          const element = document.querySelector('#df-a3b3f5a1-95aa-4cd6-a20a-c8b1c1a86a9a');\n",
              "          const dataTable =\n",
              "            await google.colab.kernel.invokeFunction('convertToInteractive',\n",
              "                                                     [key], {});\n",
              "          if (!dataTable) return;\n",
              "\n",
              "          const docLinkHtml = 'Like what you see? Visit the ' +\n",
              "            '<a target=\"_blank\" href=https://colab.research.google.com/notebooks/data_table.ipynb>data table notebook</a>'\n",
              "            + ' to learn more about interactive tables.';\n",
              "          element.innerHTML = '';\n",
              "          dataTable['output_type'] = 'display_data';\n",
              "          await google.colab.output.renderOutput(dataTable, element);\n",
              "          const docLink = document.createElement('div');\n",
              "          docLink.innerHTML = docLinkHtml;\n",
              "          element.appendChild(docLink);\n",
              "        }\n",
              "      </script>\n",
              "    </div>\n",
              "  </div>\n"
            ],
            "text/plain": [
              "       customer_id address_id  birthdate gender       job_type email_provider  \\\n",
              "0           891057     863914 2001-10-22      F  Not Specified  Not Specified   \n",
              "1           655484     639856 2001-04-30      M  Not Specified  Not Specified   \n",
              "2           514958     494806 2001-01-01      M  Not Specified  Not Specified   \n",
              "3           398355     377261 2000-03-09      M  Not Specified  Not Specified   \n",
              "4            23808      20227 1999-11-21      F  Not Specified  Not Specified   \n",
              "...            ...        ...        ...    ...            ...            ...   \n",
              "138831      449222     428121 1945-05-30      F  Not Specified  Not Specified   \n",
              "138832      368113     346970 1943-11-18      F  Not Specified  Not Specified   \n",
              "138833      424451     403292 1943-05-07      F  Not Specified  Not Specified   \n",
              "138834      808137     789737 1943-02-13      F  Not Specified  Not Specified   \n",
              "138835      442860     421749 1940-05-18      F  Not Specified  Not Specified   \n",
              "\n",
              "       flag_phone_provided  flag_privacy postal_code       district  \\\n",
              "0                      1.0          True     10035.0             TO   \n",
              "1                      1.0         False     71010.0             FG   \n",
              "2                      1.0          True        42.0             RM   \n",
              "3                      1.0          True     36050.0             VI   \n",
              "4                      1.0          True     60041.0             AN   \n",
              "...                    ...           ...         ...            ...   \n",
              "138831                 1.0          True     47121.0             FC   \n",
              "138832                 1.0          True     20135.0             MI   \n",
              "138833                 1.0          True     20154.0             MI   \n",
              "138834                 1.0          True     73022.0             LE   \n",
              "138835                 1.0          True     80015.0  Not Specified   \n",
              "\n",
              "                region  \n",
              "0             PIEMONTE  \n",
              "1               PUGLIA  \n",
              "2                LAZIO  \n",
              "3               VENETO  \n",
              "4               MARCHE  \n",
              "...                ...  \n",
              "138831  EMILIA ROMAGNA  \n",
              "138832       LOMBARDIA  \n",
              "138833       LOMBARDIA  \n",
              "138834          PUGLIA  \n",
              "138835        CAMPANIA  \n",
              "\n",
              "[138836 rows x 11 columns]"
            ]
          },
          "execution_count": 25,
          "metadata": {},
          "output_type": "execute_result"
        }
      ],
      "source": [
        "df"
      ]
    },
    {
      "cell_type": "code",
      "execution_count": null,
      "metadata": {
        "colab": {
          "base_uri": "https://localhost:8080/"
        },
        "id": "Hfy36YlhtkkU",
        "outputId": "6818a513-39b5-471d-cd30-44b5f7b69452"
      },
      "outputs": [
        {
          "name": "stdout",
          "output_type": "stream",
          "text": [
            "1980    9297\n",
            "1981    9190\n",
            "1983    9064\n",
            "1982    9033\n",
            "1979    8987\n",
            "1984    8936\n",
            "1978    8886\n",
            "1977    8845\n",
            "1976    8625\n",
            "1975    6113\n",
            "Name: birthdate, dtype: int64\n"
          ]
        }
      ],
      "source": [
        "# I extract the year column\n",
        "conteggi_per_anno = df['birthdate'].dt.year.value_counts().sort_values(ascending=False)\n",
        "# I select only the first ten rows\n",
        "conteggi_top_10 = conteggi_per_anno.head(10)\n",
        "# I print the result\n",
        "print(conteggi_top_10)"
      ]
    },
    {
      "cell_type": "markdown",
      "metadata": {
        "id": "3Qy5VJa0u7vz"
      },
      "source": [
        "The majority of customers in the dataset were born in the 1980's.\n",
        "As consequence, the dataset is characterised mainly by middle age people."
      ]
    },
    {
      "cell_type": "markdown",
      "metadata": {
        "id": "KjQx7aOU4nFh"
      },
      "source": [
        "# Customer Accounts"
      ]
    },
    {
      "cell_type": "markdown",
      "metadata": {
        "id": "X0FpV8fy8WgL"
      },
      "source": [
        "I evaluate the informations on the customer accounts."
      ]
    },
    {
      "cell_type": "code",
      "execution_count": null,
      "metadata": {
        "colab": {
          "base_uri": "https://localhost:8080/"
        },
        "id": "StTefUx94ozG",
        "outputId": "ab0d870c-c970-415c-907c-43f8c4732654"
      },
      "outputs": [
        {
          "name": "stdout",
          "output_type": "stream",
          "text": [
            "<class 'pandas.core.frame.DataFrame'>\n",
            "RangeIndex: 169494 entries, 0 to 169493\n",
            "Data columns (total 6 columns):\n",
            " #   Column           Non-Null Count   Dtype \n",
            "---  ------           --------------   ----- \n",
            " 0   customer_id      169494 non-null  int64 \n",
            " 1   account_id       169494 non-null  int64 \n",
            " 2   favorite_store   169494 non-null  int64 \n",
            " 3   loyalty_type     169494 non-null  object\n",
            " 4   loyatlty_status  169494 non-null  int64 \n",
            " 5   activation_date  169494 non-null  object\n",
            "dtypes: int64(4), object(2)\n",
            "memory usage: 7.8+ MB\n"
          ]
        }
      ],
      "source": [
        "customer_accounts.info()\n",
        "customer_accounts.isna().sum()\n",
        "customer_accounts=customer_accounts.drop_duplicates()"
      ]
    },
    {
      "cell_type": "markdown",
      "metadata": {
        "id": "sTwwvSbl84Z3"
      },
      "source": [
        "The dataset customer_accounts does not contains missing values"
      ]
    },
    {
      "cell_type": "markdown",
      "metadata": {
        "id": "eJUrlm6v8ma6"
      },
      "source": [
        "I convert the type of the variables into string, except for the variable activation date that has been converted into date"
      ]
    },
    {
      "cell_type": "code",
      "execution_count": null,
      "metadata": {
        "id": "5awPgpVt6_tI"
      },
      "outputs": [],
      "source": [
        "customer_accounts['customer_id']=customer_accounts['customer_id'].astype(str)\n",
        "customer_accounts['account_id']=customer_accounts['account_id'].astype(str)\n",
        "customer_accounts['favorite_store']= customer_accounts['favorite_store'].astype(str)\n",
        "customer_accounts['loyalty_type']=customer_accounts['loyalty_type'].astype(str)\n",
        "customer_accounts['loyalty_status']=customer_accounts['loyatlty_status'].astype(str)\n",
        "customer_accounts['activation_date']=pd.to_datetime(customer_accounts['activation_date'])"
      ]
    },
    {
      "cell_type": "markdown",
      "metadata": {
        "id": "FraK94LN98i7"
      },
      "source": [
        "I check the distribution of the customer accounts in terms of loyalty type"
      ]
    },
    {
      "cell_type": "code",
      "execution_count": null,
      "metadata": {
        "colab": {
          "base_uri": "https://localhost:8080/"
        },
        "id": "3iNdRU2Lxu3y",
        "outputId": "675cf68e-7159-4e77-dce4-3aacfb7239f4"
      },
      "outputs": [
        {
          "data": {
            "text/plain": [
              "standard             124116\n",
              "premium               28039\n",
              "business standard     13123\n",
              "business premium       4216\n",
              "Name: loyalty_type, dtype: int64"
            ]
          },
          "execution_count": 29,
          "metadata": {},
          "output_type": "execute_result"
        }
      ],
      "source": [
        "counts=customer_accounts.loyalty_type.value_counts()\n",
        "counts"
      ]
    },
    {
      "cell_type": "code",
      "execution_count": null,
      "metadata": {
        "colab": {
          "base_uri": "https://localhost:8080/",
          "height": 472
        },
        "id": "cfb3zQRdzvd1",
        "outputId": "60e90ad9-bf43-4098-d31d-656953383e7e"
      },
      "outputs": [
        {
          "data": {
            "image/png": "[encoded data removed]",
            "text/plain": [
              "<Figure size 640x480 with 1 Axes>"
            ]
          },
          "metadata": {},
          "output_type": "display_data"
        }
      ],
      "source": [
        "fig, ax = plt.subplots()\n",
        "bars = ax.barh(counts.index,counts)\n",
        "\n",
        "ax.bar_label(bars)\n",
        "plt.xlabel('Counts')\n",
        "plt.ylabel('Loyalty type')\n",
        "plt.title('Number of costumers per loyalty type')\n",
        "ax.spines[['right', 'top']].set_visible(False)\n",
        "plt.show()"
      ]
    },
    {
      "cell_type": "markdown",
      "metadata": {
        "id": "UmKUPHCFzEh0"
      },
      "source": [
        "The majority of the customers have a loyalty type equals to standard while the business_premium type represents the minority"
      ]
    },
    {
      "cell_type": "markdown",
      "metadata": {
        "id": "FN1iV0QJ09ON"
      },
      "source": [
        "I merge the previous dataset containing the info about customer with the latter which contains informations about the customers accounts."
      ]
    },
    {
      "cell_type": "code",
      "execution_count": null,
      "metadata": {
        "id": "Emcvuw8j60aT"
      },
      "outputs": [],
      "source": [
        "dfcostumer = pd.merge(df, customer_accounts, on=['customer_id'])"
      ]
    },
    {
      "cell_type": "code",
      "execution_count": null,
      "metadata": {
        "id": "GWp4phQE8_CV"
      },
      "outputs": [],
      "source": [
        "dfcostumer['customer_id']=dfcostumer['customer_id'].astype(str)"
      ]
    },
    {
      "cell_type": "markdown",
      "metadata": {
        "id": "Xlv24AXh31rX"
      },
      "source": [
        "# Costumer review"
      ]
    },
    {
      "cell_type": "markdown",
      "metadata": {
        "id": "S91X_XHcTvCk"
      },
      "source": [
        "The dataset 'Customer review' contains 105710 reviews made by the customers."
      ]
    },
    {
      "cell_type": "code",
      "execution_count": null,
      "metadata": {
        "colab": {
          "base_uri": "https://localhost:8080/"
        },
        "id": "bA3NU8oh3taF",
        "outputId": "683e1d3b-c82a-46fb-e6a4-740dceb57572"
      },
      "outputs": [
        {
          "name": "stdout",
          "output_type": "stream",
          "text": [
            "<class 'pandas.core.frame.DataFrame'>\n",
            "RangeIndex: 105710 entries, 0 to 105709\n",
            "Data columns (total 3 columns):\n",
            " #   Column       Non-Null Count   Dtype \n",
            "---  ------       --------------   ----- \n",
            " 0   review_id    105710 non-null  int64 \n",
            " 1   customer_id  105710 non-null  int64 \n",
            " 2   review_text  105710 non-null  object\n",
            "dtypes: int64(2), object(1)\n",
            "memory usage: 2.4+ MB\n"
          ]
        }
      ],
      "source": [
        "customer_reviews.info()\n",
        "customer_reviews.isna().sum()\n",
        "customer_reviews=customer_reviews.drop_duplicates()"
      ]
    },
    {
      "cell_type": "code",
      "execution_count": null,
      "metadata": {
        "colab": {
          "base_uri": "https://localhost:8080/"
        },
        "id": "gUEadpav3tG1",
        "outputId": "c48ebb30-c858-4e22-d526-456940eb0fc1"
      },
      "outputs": [
        {
          "data": {
            "text/plain": [
              "105710"
            ]
          },
          "execution_count": 34,
          "metadata": {},
          "output_type": "execute_result"
        }
      ],
      "source": [
        "customer_reviews.customer_id.nunique()"
      ]
    },
    {
      "cell_type": "markdown",
      "metadata": {
        "id": "cC2vsJsv4EZm"
      },
      "source": [
        "There are no situation in which a customer has made more than one review"
      ]
    },
    {
      "cell_type": "markdown",
      "metadata": {
        "id": "C1ipXixM4Hcb"
      },
      "source": [
        "The dataset customer review does not contain missing values"
      ]
    },
    {
      "cell_type": "markdown",
      "metadata": {
        "id": "i2aOjGe_-fJZ"
      },
      "source": [
        "I transform the variables to a string format"
      ]
    },
    {
      "cell_type": "code",
      "execution_count": null,
      "metadata": {
        "id": "nWF5D6xe4MxK"
      },
      "outputs": [],
      "source": [
        "customer_reviews['review_id']=customer_reviews['review_id'].astype(str)\n",
        "customer_reviews['customer_id']=customer_reviews['customer_id'].astype(str)\n",
        "customer_reviews['review_text']= customer_reviews['review_text'].astype(str)\n"
      ]
    },
    {
      "cell_type": "code",
      "execution_count": null,
      "metadata": {
        "colab": {
          "base_uri": "https://localhost:8080/",
          "height": 423
        },
        "id": "oT6K2o6DU1F2",
        "outputId": "7d8ef7b9-24f6-44a2-f321-724683afcc2d"
      },
      "outputs": [
        {
          "data": {
            "text/html": [
              "\n",
              "\n",
              "  <div id=\"df-07da43c5-53c4-4074-9f66-9a7f3350aa9a\">\n",
              "    <div class=\"colab-df-container\">\n",
              "      <div>\n",
              "<style scoped>\n",
              "    .dataframe tbody tr th:only-of-type {\n",
              "        vertical-align: middle;\n",
              "    }\n",
              "\n",
              "    .dataframe tbody tr th {\n",
              "        vertical-align: top;\n",
              "    }\n",
              "\n",
              "    .dataframe thead th {\n",
              "        text-align: right;\n",
              "    }\n",
              "</style>\n",
              "<table border=\"1\" class=\"dataframe\">\n",
              "  <thead>\n",
              "    <tr style=\"text-align: right;\">\n",
              "      <th></th>\n",
              "      <th>review_id</th>\n",
              "      <th>customer_id</th>\n",
              "      <th>review_text</th>\n",
              "    </tr>\n",
              "  </thead>\n",
              "  <tbody>\n",
              "    <tr>\n",
              "      <th>0</th>\n",
              "      <td>1</td>\n",
              "      <td>814256</td>\n",
              "      <td>I have bought several of the Vitality canned d...</td>\n",
              "    </tr>\n",
              "    <tr>\n",
              "      <th>1</th>\n",
              "      <td>2</td>\n",
              "      <td>457475</td>\n",
              "      <td>Product arrived labeled as Jumbo Salted Peanut...</td>\n",
              "    </tr>\n",
              "    <tr>\n",
              "      <th>2</th>\n",
              "      <td>3</td>\n",
              "      <td>104045</td>\n",
              "      <td>This is a confection that has been around a fe...</td>\n",
              "    </tr>\n",
              "    <tr>\n",
              "      <th>3</th>\n",
              "      <td>4</td>\n",
              "      <td>603662</td>\n",
              "      <td>If you are looking for the secret ingredient i...</td>\n",
              "    </tr>\n",
              "    <tr>\n",
              "      <th>4</th>\n",
              "      <td>5</td>\n",
              "      <td>739314</td>\n",
              "      <td>Great taffy at a great price.  There was a wid...</td>\n",
              "    </tr>\n",
              "    <tr>\n",
              "      <th>...</th>\n",
              "      <td>...</td>\n",
              "      <td>...</td>\n",
              "      <td>...</td>\n",
              "    </tr>\n",
              "    <tr>\n",
              "      <th>105705</th>\n",
              "      <td>140942</td>\n",
              "      <td>224091</td>\n",
              "      <td>We Love,Love our Keurig coffee maker .My husba...</td>\n",
              "    </tr>\n",
              "    <tr>\n",
              "      <th>105706</th>\n",
              "      <td>140943</td>\n",
              "      <td>196666</td>\n",
              "      <td>This is supposed to be a light roast coffee bu...</td>\n",
              "    </tr>\n",
              "    <tr>\n",
              "      <th>105707</th>\n",
              "      <td>140944</td>\n",
              "      <td>618226</td>\n",
              "      <td>I have always been happy with my Kcups but thi...</td>\n",
              "    </tr>\n",
              "    <tr>\n",
              "      <th>105708</th>\n",
              "      <td>140945</td>\n",
              "      <td>844918</td>\n",
              "      <td>I ordered light roast coffee and was sent one ...</td>\n",
              "    </tr>\n",
              "    <tr>\n",
              "      <th>105709</th>\n",
              "      <td>140946</td>\n",
              "      <td>555281</td>\n",
              "      <td>I love the ease of use and speed of the Keurig...</td>\n",
              "    </tr>\n",
              "  </tbody>\n",
              "</table>\n",
              "<p>105710 rows × 3 columns</p>\n",
              "</div>\n",
              "      <button class=\"colab-df-convert\" onclick=\"convertToInteractive('df-07da43c5-53c4-4074-9f66-9a7f3350aa9a')\"\n",
              "              title=\"Convert this dataframe to an interactive table.\"\n",
              "              style=\"display:none;\">\n",
              "\n",
              "  <svg xmlns=\"http://www.w3.org/2000/svg\" height=\"24px\"viewBox=\"0 0 24 24\"\n",
              "       width=\"24px\">\n",
              "    <path d=\"M0 0h24v24H0V0z\" fill=\"none\"/>\n",
              "    <path d=\"M18.56 5.44l.94 2.06.94-2.06 2.06-.94-2.06-.94-.94-2.06-.94 2.06-2.06.94zm-11 1L8.5 8.5l.94-2.06 2.06-.94-2.06-.94L8.5 2.5l-.94 2.06-2.06.94zm10 10l.94 2.06.94-2.06 2.06-.94-2.06-.94-.94-2.06-.94 2.06-2.06.94z\"/><path d=\"M17.41 7.96l-1.37-1.37c-.4-.4-.92-.59-1.43-.59-.52 0-1.04.2-1.43.59L10.3 9.45l-7.72 7.72c-.78.78-.78 2.05 0 2.83L4 21.41c.39.39.9.59 1.41.59.51 0 1.02-.2 1.41-.59l7.78-7.78 2.81-2.81c.8-.78.8-2.07 0-2.86zM5.41 20L4 18.59l7.72-7.72 1.47 1.35L5.41 20z\"/>\n",
              "  </svg>\n",
              "      </button>\n",
              "\n",
              "\n",
              "\n",
              "    <div id=\"df-c122ca9b-bceb-48a6-956f-433b29658ddc\">\n",
              "      <button class=\"colab-df-quickchart\" onclick=\"quickchart('df-c122ca9b-bceb-48a6-956f-433b29658ddc')\"\n",
              "              title=\"Suggest charts.\"\n",
              "              style=\"display:none;\">\n",
              "\n",
              "<svg xmlns=\"http://www.w3.org/2000/svg\" height=\"24px\"viewBox=\"0 0 24 24\"\n",
              "     width=\"24px\">\n",
              "    <g>\n",
              "        <path d=\"M19 3H5c-1.1 0-2 .9-2 2v14c0 1.1.9 2 2 2h14c1.1 0 2-.9 2-2V5c0-1.1-.9-2-2-2zM9 17H7v-7h2v7zm4 0h-2V7h2v10zm4 0h-2v-4h2v4z\"/>\n",
              "    </g>\n",
              "</svg>\n",
              "      </button>\n",
              "    </div>\n",
              "\n",
              "<style>\n",
              "  .colab-df-quickchart {\n",
              "    background-color: #E8F0FE;\n",
              "    border: none;\n",
              "    border-radius: 50%;\n",
              "    cursor: pointer;\n",
              "    display: none;\n",
              "    fill: #1967D2;\n",
              "    height: 32px;\n",
              "    padding: 0 0 0 0;\n",
              "    width: 32px;\n",
              "  }\n",
              "\n",
              "  .colab-df-quickchart:hover {\n",
              "    background-color: #E2EBFA;\n",
              "    box-shadow: 0px 1px 2px rgba(60, 64, 67, 0.3), 0px 1px 3px 1px rgba(60, 64, 67, 0.15);\n",
              "    fill: #174EA6;\n",
              "  }\n",
              "\n",
              "  [theme=dark] .colab-df-quickchart {\n",
              "    background-color: #3B4455;\n",
              "    fill: #D2E3FC;\n",
              "  }\n",
              "\n",
              "  [theme=dark] .colab-df-quickchart:hover {\n",
              "    background-color: #434B5C;\n",
              "    box-shadow: 0px 1px 3px 1px rgba(0, 0, 0, 0.15);\n",
              "    filter: drop-shadow(0px 1px 2px rgba(0, 0, 0, 0.3));\n",
              "    fill: #FFFFFF;\n",
              "  }\n",
              "</style>\n",
              "\n",
              "    <script>\n",
              "      async function quickchart(key) {\n",
              "        const containerElement = document.querySelector('#' + key);\n",
              "        const charts = await google.colab.kernel.invokeFunction(\n",
              "            'suggestCharts', [key], {});\n",
              "      }\n",
              "    </script>\n",
              "\n",
              "      <script>\n",
              "\n",
              "function displayQuickchartButton(domScope) {\n",
              "  let quickchartButtonEl =\n",
              "    domScope.querySelector('#df-c122ca9b-bceb-48a6-956f-433b29658ddc button.colab-df-quickchart');\n",
              "  quickchartButtonEl.style.display =\n",
              "    google.colab.kernel.accessAllowed ? 'block' : 'none';\n",
              "}\n",
              "\n",
              "        displayQuickchartButton(document);\n",
              "      </script>\n",
              "      <style>\n",
              "    .colab-df-container {\n",
              "      display:flex;\n",
              "      flex-wrap:wrap;\n",
              "      gap: 12px;\n",
              "    }\n",
              "\n",
              "    .colab-df-convert {\n",
              "      background-color: #E8F0FE;\n",
              "      border: none;\n",
              "      border-radius: 50%;\n",
              "      cursor: pointer;\n",
              "      display: none;\n",
              "      fill: #1967D2;\n",
              "      height: 32px;\n",
              "      padding: 0 0 0 0;\n",
              "      width: 32px;\n",
              "    }\n",
              "\n",
              "    .colab-df-convert:hover {\n",
              "      background-color: #E2EBFA;\n",
              "      box-shadow: 0px 1px 2px rgba(60, 64, 67, 0.3), 0px 1px 3px 1px rgba(60, 64, 67, 0.15);\n",
              "      fill: #174EA6;\n",
              "    }\n",
              "\n",
              "    [theme=dark] .colab-df-convert {\n",
              "      background-color: #3B4455;\n",
              "      fill: #D2E3FC;\n",
              "    }\n",
              "\n",
              "    [theme=dark] .colab-df-convert:hover {\n",
              "      background-color: #434B5C;\n",
              "      box-shadow: 0px 1px 3px 1px rgba(0, 0, 0, 0.15);\n",
              "      filter: drop-shadow(0px 1px 2px rgba(0, 0, 0, 0.3));\n",
              "      fill: #FFFFFF;\n",
              "    }\n",
              "  </style>\n",
              "\n",
              "      <script>\n",
              "        const buttonEl =\n",
              "          document.querySelector('#df-07da43c5-53c4-4074-9f66-9a7f3350aa9a button.colab-df-convert');\n",
              "        buttonEl.style.display =\n",
              "          google.colab.kernel.accessAllowed ? 'block' : 'none';\n",
              "\n",
              "        async function convertToInteractive(key) {\n",
              "          const element = document.querySelector('#df-07da43c5-53c4-4074-9f66-9a7f3350aa9a');\n",
              "          const dataTable =\n",
              "            await google.colab.kernel.invokeFunction('convertToInteractive',\n",
              "                                                     [key], {});\n",
              "          if (!dataTable) return;\n",
              "\n",
              "          const docLinkHtml = 'Like what you see? Visit the ' +\n",
              "            '<a target=\"_blank\" href=https://colab.research.google.com/notebooks/data_table.ipynb>data table notebook</a>'\n",
              "            + ' to learn more about interactive tables.';\n",
              "          element.innerHTML = '';\n",
              "          dataTable['output_type'] = 'display_data';\n",
              "          await google.colab.output.renderOutput(dataTable, element);\n",
              "          const docLink = document.createElement('div');\n",
              "          docLink.innerHTML = docLinkHtml;\n",
              "          element.appendChild(docLink);\n",
              "        }\n",
              "      </script>\n",
              "    </div>\n",
              "  </div>\n"
            ],
            "text/plain": [
              "       review_id customer_id  \\\n",
              "0              1      814256   \n",
              "1              2      457475   \n",
              "2              3      104045   \n",
              "3              4      603662   \n",
              "4              5      739314   \n",
              "...          ...         ...   \n",
              "105705    140942      224091   \n",
              "105706    140943      196666   \n",
              "105707    140944      618226   \n",
              "105708    140945      844918   \n",
              "105709    140946      555281   \n",
              "\n",
              "                                              review_text  \n",
              "0       I have bought several of the Vitality canned d...  \n",
              "1       Product arrived labeled as Jumbo Salted Peanut...  \n",
              "2       This is a confection that has been around a fe...  \n",
              "3       If you are looking for the secret ingredient i...  \n",
              "4       Great taffy at a great price.  There was a wid...  \n",
              "...                                                   ...  \n",
              "105705  We Love,Love our Keurig coffee maker .My husba...  \n",
              "105706  This is supposed to be a light roast coffee bu...  \n",
              "105707  I have always been happy with my Kcups but thi...  \n",
              "105708  I ordered light roast coffee and was sent one ...  \n",
              "105709  I love the ease of use and speed of the Keurig...  \n",
              "\n",
              "[105710 rows x 3 columns]"
            ]
          },
          "execution_count": 36,
          "metadata": {},
          "output_type": "execute_result"
        }
      ],
      "source": [
        "customer_reviews"
      ]
    },
    {
      "cell_type": "markdown",
      "metadata": {
        "id": "9rX_0nl65Gsl"
      },
      "source": [
        "# Labelled reviews"
      ]
    },
    {
      "cell_type": "markdown",
      "metadata": {
        "id": "v2nCPbxNT4_i"
      },
      "source": [
        "The dataset 'Labelled reviews' contains information about 462744 reviews with the associated sentiment label. In fact, the review can express a positive, negative or neutral sentiment. I drop possible duplicates."
      ]
    },
    {
      "cell_type": "code",
      "execution_count": null,
      "metadata": {
        "colab": {
          "base_uri": "https://localhost:8080/"
        },
        "id": "Quoth6835QuC",
        "outputId": "503730b7-1226-40f2-cb84-8728e5699fa3"
      },
      "outputs": [
        {
          "name": "stdout",
          "output_type": "stream",
          "text": [
            "<class 'pandas.core.frame.DataFrame'>\n",
            "RangeIndex: 462744 entries, 0 to 462743\n",
            "Data columns (total 3 columns):\n",
            " #   Column                  Non-Null Count   Dtype \n",
            "---  ------                  --------------   ----- \n",
            " 0   labelled_reviews_index  462744 non-null  int64 \n",
            " 1   review_text             462744 non-null  object\n",
            " 2   sentiment_label         462744 non-null  object\n",
            "dtypes: int64(1), object(2)\n",
            "memory usage: 10.6+ MB\n"
          ]
        },
        {
          "data": {
            "text/plain": [
              "labelled_reviews_index    0\n",
              "review_text               0\n",
              "sentiment_label           0\n",
              "dtype: int64"
            ]
          },
          "execution_count": 37,
          "metadata": {},
          "output_type": "execute_result"
        }
      ],
      "source": [
        "labelled_reviews.info()\n",
        "labelled_reviews=labelled_reviews.drop_duplicates()\n",
        "labelled_reviews.isna().sum()\n"
      ]
    },
    {
      "cell_type": "markdown",
      "metadata": {
        "id": "9_MUBKQbUr4H"
      },
      "source": [
        "The dataset does not contain missing values"
      ]
    },
    {
      "cell_type": "code",
      "execution_count": null,
      "metadata": {
        "colab": {
          "base_uri": "https://localhost:8080/"
        },
        "id": "dX8kCgl0U7xx",
        "outputId": "9425b70b-0b92-4a64-871a-fe0fcaac23c0"
      },
      "outputs": [
        {
          "data": {
            "text/plain": [
              "positive    297008\n",
              "neutral     123386\n",
              "negative     42350\n",
              "Name: sentiment_label, dtype: int64"
            ]
          },
          "execution_count": 38,
          "metadata": {},
          "output_type": "execute_result"
        }
      ],
      "source": [
        "countsreview=labelled_reviews.sentiment_label.value_counts()\n",
        "countsreview"
      ]
    },
    {
      "cell_type": "markdown",
      "metadata": {
        "id": "9jMSnaOIVCd1"
      },
      "source": [
        "The most of the reviews express a positive sentiment. The negative reviews are the minority."
      ]
    },
    {
      "cell_type": "code",
      "execution_count": null,
      "metadata": {
        "colab": {
          "base_uri": "https://localhost:8080/",
          "height": 472
        },
        "id": "2v9NfsTiV47u",
        "outputId": "3588cfe9-900c-4d27-8a1c-cb472d0d29a0"
      },
      "outputs": [
        {
          "data": {
            "image/png": "[encoded data removed]",
            "text/plain": [
              "<Figure size 640x480 with 1 Axes>"
            ]
          },
          "metadata": {},
          "output_type": "display_data"
        }
      ],
      "source": [
        "countsreview.plot(kind='barh')\n",
        "plt.xlabel('Counts')\n",
        "plt.ylabel('Review Sentiment')\n",
        "plt.title('Barplot of counts per review sentiment')\n",
        "plt.show()"
      ]
    },
    {
      "cell_type": "markdown",
      "metadata": {
        "id": "47Z2Sxmj-sTY"
      },
      "source": [
        "I transform the variables into a string format"
      ]
    },
    {
      "cell_type": "code",
      "execution_count": null,
      "metadata": {
        "id": "d9ji_8Z558dU"
      },
      "outputs": [],
      "source": [
        "labelled_reviews['labelled_reviews_index']=labelled_reviews['labelled_reviews_index'].astype(str)\n",
        "labelled_reviews['review_text']=labelled_reviews['review_text'].astype(str)\n",
        "labelled_reviews['sentiment_label']= labelled_reviews['sentiment_label'].astype(str)\n"
      ]
    },
    {
      "cell_type": "markdown",
      "metadata": {
        "id": "9r8cyKxySW54"
      },
      "source": [
        "# Product"
      ]
    },
    {
      "cell_type": "code",
      "execution_count": null,
      "metadata": {
        "colab": {
          "base_uri": "https://localhost:8080/"
        },
        "id": "rcdCX6Dq-zkY",
        "outputId": "ba946b7d-0472-4a61-d976-bdfc378d6b56"
      },
      "outputs": [
        {
          "name": "stdout",
          "output_type": "stream",
          "text": [
            "<class 'pandas.core.frame.DataFrame'>\n",
            "Int64Index: 88538 entries, 0 to 88537\n",
            "Data columns (total 2 columns):\n",
            " #   Column         Non-Null Count  Dtype\n",
            "---  ------         --------------  -----\n",
            " 0   product_id     88538 non-null  int64\n",
            " 1   product_class  88538 non-null  int64\n",
            "dtypes: int64(2)\n",
            "memory usage: 2.0 MB\n"
          ]
        }
      ],
      "source": [
        "products.info()"
      ]
    },
    {
      "cell_type": "markdown",
      "metadata": {
        "id": "b_hgeQPCWd6D"
      },
      "source": [
        "This dataset refers to 88538 instances of product represented by\n",
        "the product_id and the product_class."
      ]
    },
    {
      "cell_type": "code",
      "execution_count": null,
      "metadata": {
        "colab": {
          "base_uri": "https://localhost:8080/"
        },
        "id": "wbm-rC9fSbS5",
        "outputId": "56c8ba0a-29ce-4cd1-e675-5d9043745cd2"
      },
      "outputs": [
        {
          "data": {
            "text/plain": [
              "product_id       0\n",
              "product_class    0\n",
              "dtype: int64"
            ]
          },
          "execution_count": 41,
          "metadata": {},
          "output_type": "execute_result"
        }
      ],
      "source": [
        "products\n",
        "products=products.drop_duplicates()\n",
        "products.isna().sum()\n"
      ]
    },
    {
      "cell_type": "markdown",
      "metadata": {
        "id": "82eWSXzLXToY"
      },
      "source": [
        "the dataset does not contain missing values"
      ]
    },
    {
      "cell_type": "code",
      "execution_count": null,
      "metadata": {
        "colab": {
          "base_uri": "https://localhost:8080/"
        },
        "id": "GXs5Ax1mXXCa",
        "outputId": "21702b7f-01b7-4ef3-8345-816d9cf18330"
      },
      "outputs": [
        {
          "data": {
            "text/plain": [
              "12    13893\n",
              "9     13325\n",
              "7      9974\n",
              "10     9845\n",
              "3      7326\n",
              "11     6690\n",
              "4      5945\n",
              "13     5283\n",
              "2      4105\n",
              "6      3340\n",
              "5      2528\n",
              "8      2241\n",
              "1      2203\n",
              "14     1840\n",
              "Name: product_class, dtype: int64"
            ]
          },
          "execution_count": 43,
          "metadata": {},
          "output_type": "execute_result"
        }
      ],
      "source": [
        "products.product_class.value_counts()"
      ]
    },
    {
      "cell_type": "markdown",
      "metadata": {
        "id": "QaWX1bG_XeMf"
      },
      "source": [
        " Most of the products belong to the class 12."
      ]
    },
    {
      "cell_type": "markdown",
      "metadata": {
        "id": "WuXjN-OW-8Tg"
      },
      "source": [
        "I convert the variables to string"
      ]
    },
    {
      "cell_type": "code",
      "execution_count": null,
      "metadata": {
        "id": "BypFUNFi5tCc"
      },
      "outputs": [],
      "source": [
        "products['product_id']=products['product_id'].astype(str)\n",
        "products['product_class']=products['product_class'].astype(str)\n"
      ]
    },
    {
      "cell_type": "markdown",
      "metadata": {
        "id": "TR_MjSyqS4QT"
      },
      "source": [
        "# Orders"
      ]
    },
    {
      "cell_type": "markdown",
      "metadata": {
        "id": "qF9DfvnyXyUT"
      },
      "source": [
        "This dataset refers to orders that have been made by customers. In particular there are seven variables that indicates :the order_id, the costumer_id,the store_id, the product_id, the direction(purchase or refund), the gross price, the price reduction and the purchase date."
      ]
    },
    {
      "cell_type": "code",
      "execution_count": null,
      "metadata": {
        "colab": {
          "base_uri": "https://localhost:8080/"
        },
        "id": "kFsSFqmsS6If",
        "outputId": "3d4b8d59-b618-478a-c7b9-321ed8e55ba0"
      },
      "outputs": [
        {
          "name": "stdout",
          "output_type": "stream",
          "text": [
            "<class 'pandas.core.frame.DataFrame'>\n",
            "Int64Index: 917000 entries, 0 to 1039864\n",
            "Data columns (total 8 columns):\n",
            " #   Column             Non-Null Count   Dtype  \n",
            "---  ------             --------------   -----  \n",
            " 0   order_id           917000 non-null  object \n",
            " 1   customer_id        917000 non-null  int64  \n",
            " 2   store_id           917000 non-null  int64  \n",
            " 3   product_id         917000 non-null  int64  \n",
            " 4   direction          917000 non-null  int64  \n",
            " 5   gross_price        917000 non-null  float64\n",
            " 6   price_reduction    917000 non-null  float64\n",
            " 7   purchase_datetime  917000 non-null  object \n",
            "dtypes: float64(2), int64(4), object(2)\n",
            "memory usage: 63.0+ MB\n"
          ]
        },
        {
          "data": {
            "text/plain": [
              "order_id             0\n",
              "customer_id          0\n",
              "store_id             0\n",
              "product_id           0\n",
              "direction            0\n",
              "gross_price          0\n",
              "price_reduction      0\n",
              "purchase_datetime    0\n",
              "dtype: int64"
            ]
          },
          "execution_count": 45,
          "metadata": {},
          "output_type": "execute_result"
        }
      ],
      "source": [
        "orders=orders.drop_duplicates()\n",
        "orders.info()\n",
        "orders.isna().sum()\n"
      ]
    },
    {
      "cell_type": "markdown",
      "metadata": {
        "id": "cqQp_Qh_YW-9"
      },
      "source": [
        "The dataset does not contains missing values"
      ]
    },
    {
      "cell_type": "markdown",
      "metadata": {
        "id": "mOFY867U_R08"
      },
      "source": [
        "I convert the variables order_id, store_id, product_id and direction into a string format."
      ]
    },
    {
      "cell_type": "code",
      "execution_count": null,
      "metadata": {
        "id": "L7m-4g_AT3hI"
      },
      "outputs": [],
      "source": [
        "orders['order_id']=orders['customer_id'].astype(str)\n",
        "orders['store_id']=orders['store_id'].astype(str)\n",
        "orders['product_id']= orders['product_id'].astype(str)\n",
        "orders['direction']=orders['direction'].astype(str)"
      ]
    },
    {
      "cell_type": "markdown",
      "metadata": {
        "id": "kVono2KN_cq0"
      },
      "source": [
        "The variable purchase_datetime it has been converted into a date format"
      ]
    },
    {
      "cell_type": "code",
      "execution_count": null,
      "metadata": {
        "id": "ina2bU9QVDPF"
      },
      "outputs": [],
      "source": [
        "orders['purchase_datetime']=pd.to_datetime(orders['purchase_datetime'])"
      ]
    },
    {
      "cell_type": "code",
      "execution_count": null,
      "metadata": {
        "colab": {
          "base_uri": "https://localhost:8080/"
        },
        "id": "DwGVaRTOYqlY",
        "outputId": "97022bc9-2d69-4ee9-88c9-5e6af361fc00"
      },
      "outputs": [
        {
          "data": {
            "text/plain": [
              "Timestamp('2022-05-01 07:19:05')"
            ]
          },
          "execution_count": 48,
          "metadata": {},
          "output_type": "execute_result"
        }
      ],
      "source": [
        "orders.purchase_datetime.min()"
      ]
    },
    {
      "cell_type": "markdown",
      "metadata": {
        "id": "yj4jzy-8_k9Y"
      },
      "source": [
        "The first date in terms of orders is 2022-05-01."
      ]
    },
    {
      "cell_type": "code",
      "execution_count": null,
      "metadata": {
        "colab": {
          "base_uri": "https://localhost:8080/"
        },
        "id": "CaLSTAUSYvQJ",
        "outputId": "231b5175-d11d-42ee-9e3b-877eb7c0c136"
      },
      "outputs": [
        {
          "data": {
            "text/plain": [
              "Timestamp('2023-04-30 21:11:41')"
            ]
          },
          "execution_count": 49,
          "metadata": {},
          "output_type": "execute_result"
        }
      ],
      "source": [
        "orders.purchase_datetime.max()"
      ]
    },
    {
      "cell_type": "markdown",
      "metadata": {
        "id": "xgvFSNBq_xmD"
      },
      "source": [
        "The last date is 2023-04-30"
      ]
    },
    {
      "cell_type": "markdown",
      "metadata": {
        "id": "LNNKvyYIY0q5"
      },
      "source": [
        "This dataset takes into account the orders maded by customers in a range of time that varies from the 01-05-2022 to 30-04-2023."
      ]
    },
    {
      "cell_type": "code",
      "execution_count": null,
      "metadata": {
        "colab": {
          "base_uri": "https://localhost:8080/"
        },
        "id": "4dWJ24EzZGpP",
        "outputId": "63a429c1-9db8-46f2-9c31-ad66b889ec63"
      },
      "outputs": [
        {
          "data": {
            "text/plain": [
              "1     886281\n",
              "-1     30719\n",
              "Name: direction, dtype: int64"
            ]
          },
          "execution_count": 50,
          "metadata": {},
          "output_type": "execute_result"
        }
      ],
      "source": [
        "orders.direction.value_counts()"
      ]
    },
    {
      "cell_type": "markdown",
      "metadata": {
        "id": "8M4uizWfZMsF"
      },
      "source": [
        "The variable direction express if the products have been purchased(1) or refunded(-1). As we can see from the results, the most of the products have been purchased."
      ]
    },
    {
      "cell_type": "code",
      "execution_count": null,
      "metadata": {
        "colab": {
          "base_uri": "https://localhost:8080/"
        },
        "id": "iH7OL5HeaN-4",
        "outputId": "c4260b5d-2376-452c-c9ab-fee1462b23f5"
      },
      "outputs": [
        {
          "data": {
            "text/plain": [
              "104134"
            ]
          },
          "execution_count": 51,
          "metadata": {},
          "output_type": "execute_result"
        }
      ],
      "source": [
        "len(orders.customer_id.unique())"
      ]
    },
    {
      "cell_type": "markdown",
      "metadata": {
        "id": "87hm9Ay6cpVI"
      },
      "source": [
        "The number of unique costumer_id is lower than the total number of rows of the dataset order. This means that in the dataset order the customers made more than one transaction."
      ]
    },
    {
      "cell_type": "code",
      "execution_count": null,
      "metadata": {
        "colab": {
          "base_uri": "https://localhost:8080/"
        },
        "id": "Z9a7babceTXg",
        "outputId": "411dc2b2-4769-4b52-acfb-d6313a623d75"
      },
      "outputs": [
        {
          "data": {
            "text/plain": [
              "5.49"
            ]
          },
          "execution_count": 143,
          "metadata": {},
          "output_type": "execute_result"
        }
      ],
      "source": [
        "orders[orders.direction==\"1\"].gross_price.median()"
      ]
    },
    {
      "cell_type": "markdown",
      "metadata": {
        "id": "Nn48i4kuhWjz"
      },
      "source": [
        "The median value for gross_price is 5.49( considering only the purchases)."
      ]
    },
    {
      "cell_type": "markdown",
      "metadata": {
        "id": "oyLVARzQ__gA"
      },
      "source": [
        "I merge the dataset containing informations about the product with the one containing the list of the orders."
      ]
    },
    {
      "cell_type": "code",
      "execution_count": null,
      "metadata": {
        "id": "tb6xXywBVb7p"
      },
      "outputs": [],
      "source": [
        "prod_ord=pd.merge(orders,products,on=['product_id'],how=\"left\")"
      ]
    },
    {
      "cell_type": "code",
      "execution_count": null,
      "metadata": {
        "id": "wMKGT_dC69RB"
      },
      "outputs": [],
      "source": [
        "prod_ord['customer_id']=prod_ord['customer_id'].astype(str)"
      ]
    },
    {
      "cell_type": "code",
      "execution_count": null,
      "metadata": {
        "colab": {
          "base_uri": "https://localhost:8080/",
          "height": 423
        },
        "id": "GQVknwS57Ons",
        "outputId": "7ce00f51-f00a-4151-8488-4542554f9ed8"
      },
      "outputs": [
        {
          "data": {
            "text/html": [
              "\n",
              "\n",
              "  <div id=\"df-ad776d99-4c09-4726-b89a-d4272890af55\">\n",
              "    <div class=\"colab-df-container\">\n",
              "      <div>\n",
              "<style scoped>\n",
              "    .dataframe tbody tr th:only-of-type {\n",
              "        vertical-align: middle;\n",
              "    }\n",
              "\n",
              "    .dataframe tbody tr th {\n",
              "        vertical-align: top;\n",
              "    }\n",
              "\n",
              "    .dataframe thead th {\n",
              "        text-align: right;\n",
              "    }\n",
              "</style>\n",
              "<table border=\"1\" class=\"dataframe\">\n",
              "  <thead>\n",
              "    <tr style=\"text-align: right;\">\n",
              "      <th></th>\n",
              "      <th>order_id</th>\n",
              "      <th>customer_id</th>\n",
              "      <th>store_id</th>\n",
              "      <th>product_id</th>\n",
              "      <th>direction</th>\n",
              "      <th>gross_price</th>\n",
              "      <th>price_reduction</th>\n",
              "      <th>purchase_datetime</th>\n",
              "      <th>product_class</th>\n",
              "    </tr>\n",
              "  </thead>\n",
              "  <tbody>\n",
              "    <tr>\n",
              "      <th>0</th>\n",
              "      <td>23</td>\n",
              "      <td>23</td>\n",
              "      <td>49</td>\n",
              "      <td>35551922</td>\n",
              "      <td>1</td>\n",
              "      <td>125.40</td>\n",
              "      <td>0.0</td>\n",
              "      <td>2022-10-04 18:28:51</td>\n",
              "      <td>6</td>\n",
              "    </tr>\n",
              "    <tr>\n",
              "      <th>1</th>\n",
              "      <td>23</td>\n",
              "      <td>23</td>\n",
              "      <td>49</td>\n",
              "      <td>30344384</td>\n",
              "      <td>1</td>\n",
              "      <td>8.30</td>\n",
              "      <td>0.0</td>\n",
              "      <td>2022-10-04 18:28:51</td>\n",
              "      <td>6</td>\n",
              "    </tr>\n",
              "    <tr>\n",
              "      <th>2</th>\n",
              "      <td>23</td>\n",
              "      <td>23</td>\n",
              "      <td>49</td>\n",
              "      <td>33794292</td>\n",
              "      <td>1</td>\n",
              "      <td>1.99</td>\n",
              "      <td>0.0</td>\n",
              "      <td>2022-10-04 18:28:51</td>\n",
              "      <td>6</td>\n",
              "    </tr>\n",
              "    <tr>\n",
              "      <th>3</th>\n",
              "      <td>23</td>\n",
              "      <td>23</td>\n",
              "      <td>49</td>\n",
              "      <td>33795776</td>\n",
              "      <td>1</td>\n",
              "      <td>5.10</td>\n",
              "      <td>0.0</td>\n",
              "      <td>2022-10-04 18:28:51</td>\n",
              "      <td>6</td>\n",
              "    </tr>\n",
              "    <tr>\n",
              "      <th>4</th>\n",
              "      <td>23</td>\n",
              "      <td>23</td>\n",
              "      <td>49</td>\n",
              "      <td>36235381</td>\n",
              "      <td>1</td>\n",
              "      <td>76.05</td>\n",
              "      <td>0.0</td>\n",
              "      <td>2022-10-04 18:28:51</td>\n",
              "      <td>6</td>\n",
              "    </tr>\n",
              "    <tr>\n",
              "      <th>...</th>\n",
              "      <td>...</td>\n",
              "      <td>...</td>\n",
              "      <td>...</td>\n",
              "      <td>...</td>\n",
              "      <td>...</td>\n",
              "      <td>...</td>\n",
              "      <td>...</td>\n",
              "      <td>...</td>\n",
              "      <td>...</td>\n",
              "    </tr>\n",
              "    <tr>\n",
              "      <th>916995</th>\n",
              "      <td>934581</td>\n",
              "      <td>934581</td>\n",
              "      <td>29</td>\n",
              "      <td>35508942</td>\n",
              "      <td>1</td>\n",
              "      <td>33.60</td>\n",
              "      <td>0.0</td>\n",
              "      <td>2023-04-30 19:35:53</td>\n",
              "      <td>2</td>\n",
              "    </tr>\n",
              "    <tr>\n",
              "      <th>916996</th>\n",
              "      <td>934620</td>\n",
              "      <td>934620</td>\n",
              "      <td>44</td>\n",
              "      <td>36237691</td>\n",
              "      <td>1</td>\n",
              "      <td>11.99</td>\n",
              "      <td>0.0</td>\n",
              "      <td>2023-04-30 19:19:55</td>\n",
              "      <td>13</td>\n",
              "    </tr>\n",
              "    <tr>\n",
              "      <th>916997</th>\n",
              "      <td>934620</td>\n",
              "      <td>934620</td>\n",
              "      <td>44</td>\n",
              "      <td>81259479</td>\n",
              "      <td>1</td>\n",
              "      <td>9.99</td>\n",
              "      <td>0.0</td>\n",
              "      <td>2023-04-30 19:19:55</td>\n",
              "      <td>13</td>\n",
              "    </tr>\n",
              "    <tr>\n",
              "      <th>916998</th>\n",
              "      <td>934660</td>\n",
              "      <td>934660</td>\n",
              "      <td>46</td>\n",
              "      <td>34067775</td>\n",
              "      <td>1</td>\n",
              "      <td>1.90</td>\n",
              "      <td>0.0</td>\n",
              "      <td>2023-04-30 19:32:17</td>\n",
              "      <td>9</td>\n",
              "    </tr>\n",
              "    <tr>\n",
              "      <th>916999</th>\n",
              "      <td>934716</td>\n",
              "      <td>934716</td>\n",
              "      <td>44</td>\n",
              "      <td>36161790</td>\n",
              "      <td>1</td>\n",
              "      <td>6.99</td>\n",
              "      <td>0.0</td>\n",
              "      <td>2023-04-30 20:26:41</td>\n",
              "      <td>9</td>\n",
              "    </tr>\n",
              "  </tbody>\n",
              "</table>\n",
              "<p>917000 rows × 9 columns</p>\n",
              "</div>\n",
              "      <button class=\"colab-df-convert\" onclick=\"convertToInteractive('df-ad776d99-4c09-4726-b89a-d4272890af55')\"\n",
              "              title=\"Convert this dataframe to an interactive table.\"\n",
              "              style=\"display:none;\">\n",
              "\n",
              "  <svg xmlns=\"http://www.w3.org/2000/svg\" height=\"24px\"viewBox=\"0 0 24 24\"\n",
              "       width=\"24px\">\n",
              "    <path d=\"M0 0h24v24H0V0z\" fill=\"none\"/>\n",
              "    <path d=\"M18.56 5.44l.94 2.06.94-2.06 2.06-.94-2.06-.94-.94-2.06-.94 2.06-2.06.94zm-11 1L8.5 8.5l.94-2.06 2.06-.94-2.06-.94L8.5 2.5l-.94 2.06-2.06.94zm10 10l.94 2.06.94-2.06 2.06-.94-2.06-.94-.94-2.06-.94 2.06-2.06.94z\"/><path d=\"M17.41 7.96l-1.37-1.37c-.4-.4-.92-.59-1.43-.59-.52 0-1.04.2-1.43.59L10.3 9.45l-7.72 7.72c-.78.78-.78 2.05 0 2.83L4 21.41c.39.39.9.59 1.41.59.51 0 1.02-.2 1.41-.59l7.78-7.78 2.81-2.81c.8-.78.8-2.07 0-2.86zM5.41 20L4 18.59l7.72-7.72 1.47 1.35L5.41 20z\"/>\n",
              "  </svg>\n",
              "      </button>\n",
              "\n",
              "\n",
              "\n",
              "    <div id=\"df-a1ca6051-bb52-4178-a062-9ef76aa363fb\">\n",
              "      <button class=\"colab-df-quickchart\" onclick=\"quickchart('df-a1ca6051-bb52-4178-a062-9ef76aa363fb')\"\n",
              "              title=\"Suggest charts.\"\n",
              "              style=\"display:none;\">\n",
              "\n",
              "<svg xmlns=\"http://www.w3.org/2000/svg\" height=\"24px\"viewBox=\"0 0 24 24\"\n",
              "     width=\"24px\">\n",
              "    <g>\n",
              "        <path d=\"M19 3H5c-1.1 0-2 .9-2 2v14c0 1.1.9 2 2 2h14c1.1 0 2-.9 2-2V5c0-1.1-.9-2-2-2zM9 17H7v-7h2v7zm4 0h-2V7h2v10zm4 0h-2v-4h2v4z\"/>\n",
              "    </g>\n",
              "</svg>\n",
              "      </button>\n",
              "    </div>\n",
              "\n",
              "<style>\n",
              "  .colab-df-quickchart {\n",
              "    background-color: #E8F0FE;\n",
              "    border: none;\n",
              "    border-radius: 50%;\n",
              "    cursor: pointer;\n",
              "    display: none;\n",
              "    fill: #1967D2;\n",
              "    height: 32px;\n",
              "    padding: 0 0 0 0;\n",
              "    width: 32px;\n",
              "  }\n",
              "\n",
              "  .colab-df-quickchart:hover {\n",
              "    background-color: #E2EBFA;\n",
              "    box-shadow: 0px 1px 2px rgba(60, 64, 67, 0.3), 0px 1px 3px 1px rgba(60, 64, 67, 0.15);\n",
              "    fill: #174EA6;\n",
              "  }\n",
              "\n",
              "  [theme=dark] .colab-df-quickchart {\n",
              "    background-color: #3B4455;\n",
              "    fill: #D2E3FC;\n",
              "  }\n",
              "\n",
              "  [theme=dark] .colab-df-quickchart:hover {\n",
              "    background-color: #434B5C;\n",
              "    box-shadow: 0px 1px 3px 1px rgba(0, 0, 0, 0.15);\n",
              "    filter: drop-shadow(0px 1px 2px rgba(0, 0, 0, 0.3));\n",
              "    fill: #FFFFFF;\n",
              "  }\n",
              "</style>\n",
              "\n",
              "    <script>\n",
              "      async function quickchart(key) {\n",
              "        const containerElement = document.querySelector('#' + key);\n",
              "        const charts = await google.colab.kernel.invokeFunction(\n",
              "            'suggestCharts', [key], {});\n",
              "      }\n",
              "    </script>\n",
              "\n",
              "      <script>\n",
              "\n",
              "function displayQuickchartButton(domScope) {\n",
              "  let quickchartButtonEl =\n",
              "    domScope.querySelector('#df-a1ca6051-bb52-4178-a062-9ef76aa363fb button.colab-df-quickchart');\n",
              "  quickchartButtonEl.style.display =\n",
              "    google.colab.kernel.accessAllowed ? 'block' : 'none';\n",
              "}\n",
              "\n",
              "        displayQuickchartButton(document);\n",
              "      </script>\n",
              "      <style>\n",
              "    .colab-df-container {\n",
              "      display:flex;\n",
              "      flex-wrap:wrap;\n",
              "      gap: 12px;\n",
              "    }\n",
              "\n",
              "    .colab-df-convert {\n",
              "      background-color: #E8F0FE;\n",
              "      border: none;\n",
              "      border-radius: 50%;\n",
              "      cursor: pointer;\n",
              "      display: none;\n",
              "      fill: #1967D2;\n",
              "      height: 32px;\n",
              "      padding: 0 0 0 0;\n",
              "      width: 32px;\n",
              "    }\n",
              "\n",
              "    .colab-df-convert:hover {\n",
              "      background-color: #E2EBFA;\n",
              "      box-shadow: 0px 1px 2px rgba(60, 64, 67, 0.3), 0px 1px 3px 1px rgba(60, 64, 67, 0.15);\n",
              "      fill: #174EA6;\n",
              "    }\n",
              "\n",
              "    [theme=dark] .colab-df-convert {\n",
              "      background-color: #3B4455;\n",
              "      fill: #D2E3FC;\n",
              "    }\n",
              "\n",
              "    [theme=dark] .colab-df-convert:hover {\n",
              "      background-color: #434B5C;\n",
              "      box-shadow: 0px 1px 3px 1px rgba(0, 0, 0, 0.15);\n",
              "      filter: drop-shadow(0px 1px 2px rgba(0, 0, 0, 0.3));\n",
              "      fill: #FFFFFF;\n",
              "    }\n",
              "  </style>\n",
              "\n",
              "      <script>\n",
              "        const buttonEl =\n",
              "          document.querySelector('#df-ad776d99-4c09-4726-b89a-d4272890af55 button.colab-df-convert');\n",
              "        buttonEl.style.display =\n",
              "          google.colab.kernel.accessAllowed ? 'block' : 'none';\n",
              "\n",
              "        async function convertToInteractive(key) {\n",
              "          const element = document.querySelector('#df-ad776d99-4c09-4726-b89a-d4272890af55');\n",
              "          const dataTable =\n",
              "            await google.colab.kernel.invokeFunction('convertToInteractive',\n",
              "                                                     [key], {});\n",
              "          if (!dataTable) return;\n",
              "\n",
              "          const docLinkHtml = 'Like what you see? Visit the ' +\n",
              "            '<a target=\"_blank\" href=https://colab.research.google.com/notebooks/data_table.ipynb>data table notebook</a>'\n",
              "            + ' to learn more about interactive tables.';\n",
              "          element.innerHTML = '';\n",
              "          dataTable['output_type'] = 'display_data';\n",
              "          await google.colab.output.renderOutput(dataTable, element);\n",
              "          const docLink = document.createElement('div');\n",
              "          docLink.innerHTML = docLinkHtml;\n",
              "          element.appendChild(docLink);\n",
              "        }\n",
              "      </script>\n",
              "    </div>\n",
              "  </div>\n"
            ],
            "text/plain": [
              "       order_id customer_id store_id product_id direction  gross_price  \\\n",
              "0            23          23       49   35551922         1       125.40   \n",
              "1            23          23       49   30344384         1         8.30   \n",
              "2            23          23       49   33794292         1         1.99   \n",
              "3            23          23       49   33795776         1         5.10   \n",
              "4            23          23       49   36235381         1        76.05   \n",
              "...         ...         ...      ...        ...       ...          ...   \n",
              "916995   934581      934581       29   35508942         1        33.60   \n",
              "916996   934620      934620       44   36237691         1        11.99   \n",
              "916997   934620      934620       44   81259479         1         9.99   \n",
              "916998   934660      934660       46   34067775         1         1.90   \n",
              "916999   934716      934716       44   36161790         1         6.99   \n",
              "\n",
              "        price_reduction   purchase_datetime product_class  \n",
              "0                   0.0 2022-10-04 18:28:51             6  \n",
              "1                   0.0 2022-10-04 18:28:51             6  \n",
              "2                   0.0 2022-10-04 18:28:51             6  \n",
              "3                   0.0 2022-10-04 18:28:51             6  \n",
              "4                   0.0 2022-10-04 18:28:51             6  \n",
              "...                 ...                 ...           ...  \n",
              "916995              0.0 2023-04-30 19:35:53             2  \n",
              "916996              0.0 2023-04-30 19:19:55            13  \n",
              "916997              0.0 2023-04-30 19:19:55            13  \n",
              "916998              0.0 2023-04-30 19:32:17             9  \n",
              "916999              0.0 2023-04-30 20:26:41             9  \n",
              "\n",
              "[917000 rows x 9 columns]"
            ]
          },
          "execution_count": 54,
          "metadata": {},
          "output_type": "execute_result"
        }
      ],
      "source": [
        "prod_ord"
      ]
    },
    {
      "cell_type": "markdown",
      "metadata": {
        "id": "lrrSvR-X6SEq"
      },
      "source": [
        "# Costumer-Orders Dataset"
      ]
    },
    {
      "cell_type": "markdown",
      "metadata": {
        "id": "YsPiM6ctANqk"
      },
      "source": [
        "I create a new dataset that contains the information on the customers associated with their orders. It is useful for the subsequent analysis."
      ]
    },
    {
      "cell_type": "code",
      "execution_count": null,
      "metadata": {
        "id": "fwU5Z7mN6UJt"
      },
      "outputs": [],
      "source": [
        "customer_orders=pd.merge(prod_ord,dfcostumer,on=['customer_id'])"
      ]
    },
    {
      "cell_type": "code",
      "execution_count": null,
      "metadata": {
        "colab": {
          "base_uri": "https://localhost:8080/",
          "height": 487
        },
        "id": "hxG2oOj67IO6",
        "outputId": "1ef30f8a-f97f-4922-9d2b-7818a5c6d536"
      },
      "outputs": [
        {
          "data": {
            "text/html": [
              "\n",
              "\n",
              "  <div id=\"df-dccf1c6b-5028-4931-953f-885749071d17\">\n",
              "    <div class=\"colab-df-container\">\n",
              "      <div>\n",
              "<style scoped>\n",
              "    .dataframe tbody tr th:only-of-type {\n",
              "        vertical-align: middle;\n",
              "    }\n",
              "\n",
              "    .dataframe tbody tr th {\n",
              "        vertical-align: top;\n",
              "    }\n",
              "\n",
              "    .dataframe thead th {\n",
              "        text-align: right;\n",
              "    }\n",
              "</style>\n",
              "<table border=\"1\" class=\"dataframe\">\n",
              "  <thead>\n",
              "    <tr style=\"text-align: right;\">\n",
              "      <th></th>\n",
              "      <th>order_id</th>\n",
              "      <th>customer_id</th>\n",
              "      <th>store_id</th>\n",
              "      <th>product_id</th>\n",
              "      <th>direction</th>\n",
              "      <th>gross_price</th>\n",
              "      <th>price_reduction</th>\n",
              "      <th>purchase_datetime</th>\n",
              "      <th>product_class</th>\n",
              "      <th>address_id</th>\n",
              "      <th>...</th>\n",
              "      <th>flag_privacy</th>\n",
              "      <th>postal_code</th>\n",
              "      <th>district</th>\n",
              "      <th>region</th>\n",
              "      <th>account_id</th>\n",
              "      <th>favorite_store</th>\n",
              "      <th>loyalty_type</th>\n",
              "      <th>loyatlty_status</th>\n",
              "      <th>activation_date</th>\n",
              "      <th>loyalty_status</th>\n",
              "    </tr>\n",
              "  </thead>\n",
              "  <tbody>\n",
              "    <tr>\n",
              "      <th>0</th>\n",
              "      <td>23</td>\n",
              "      <td>23</td>\n",
              "      <td>49</td>\n",
              "      <td>35551922</td>\n",
              "      <td>1</td>\n",
              "      <td>125.40</td>\n",
              "      <td>0.0</td>\n",
              "      <td>2022-10-04 18:28:51</td>\n",
              "      <td>6</td>\n",
              "      <td>21</td>\n",
              "      <td>...</td>\n",
              "      <td>True</td>\n",
              "      <td>21050.0</td>\n",
              "      <td>VA</td>\n",
              "      <td>LOMBARDIA</td>\n",
              "      <td>512658</td>\n",
              "      <td>49</td>\n",
              "      <td>standard</td>\n",
              "      <td>1</td>\n",
              "      <td>2022-09-08</td>\n",
              "      <td>1</td>\n",
              "    </tr>\n",
              "    <tr>\n",
              "      <th>1</th>\n",
              "      <td>23</td>\n",
              "      <td>23</td>\n",
              "      <td>49</td>\n",
              "      <td>30344384</td>\n",
              "      <td>1</td>\n",
              "      <td>8.30</td>\n",
              "      <td>0.0</td>\n",
              "      <td>2022-10-04 18:28:51</td>\n",
              "      <td>6</td>\n",
              "      <td>21</td>\n",
              "      <td>...</td>\n",
              "      <td>True</td>\n",
              "      <td>21050.0</td>\n",
              "      <td>VA</td>\n",
              "      <td>LOMBARDIA</td>\n",
              "      <td>512658</td>\n",
              "      <td>49</td>\n",
              "      <td>standard</td>\n",
              "      <td>1</td>\n",
              "      <td>2022-09-08</td>\n",
              "      <td>1</td>\n",
              "    </tr>\n",
              "    <tr>\n",
              "      <th>2</th>\n",
              "      <td>23</td>\n",
              "      <td>23</td>\n",
              "      <td>49</td>\n",
              "      <td>33794292</td>\n",
              "      <td>1</td>\n",
              "      <td>1.99</td>\n",
              "      <td>0.0</td>\n",
              "      <td>2022-10-04 18:28:51</td>\n",
              "      <td>6</td>\n",
              "      <td>21</td>\n",
              "      <td>...</td>\n",
              "      <td>True</td>\n",
              "      <td>21050.0</td>\n",
              "      <td>VA</td>\n",
              "      <td>LOMBARDIA</td>\n",
              "      <td>512658</td>\n",
              "      <td>49</td>\n",
              "      <td>standard</td>\n",
              "      <td>1</td>\n",
              "      <td>2022-09-08</td>\n",
              "      <td>1</td>\n",
              "    </tr>\n",
              "    <tr>\n",
              "      <th>3</th>\n",
              "      <td>23</td>\n",
              "      <td>23</td>\n",
              "      <td>49</td>\n",
              "      <td>33795776</td>\n",
              "      <td>1</td>\n",
              "      <td>5.10</td>\n",
              "      <td>0.0</td>\n",
              "      <td>2022-10-04 18:28:51</td>\n",
              "      <td>6</td>\n",
              "      <td>21</td>\n",
              "      <td>...</td>\n",
              "      <td>True</td>\n",
              "      <td>21050.0</td>\n",
              "      <td>VA</td>\n",
              "      <td>LOMBARDIA</td>\n",
              "      <td>512658</td>\n",
              "      <td>49</td>\n",
              "      <td>standard</td>\n",
              "      <td>1</td>\n",
              "      <td>2022-09-08</td>\n",
              "      <td>1</td>\n",
              "    </tr>\n",
              "    <tr>\n",
              "      <th>4</th>\n",
              "      <td>23</td>\n",
              "      <td>23</td>\n",
              "      <td>49</td>\n",
              "      <td>36235381</td>\n",
              "      <td>1</td>\n",
              "      <td>76.05</td>\n",
              "      <td>0.0</td>\n",
              "      <td>2022-10-04 18:28:51</td>\n",
              "      <td>6</td>\n",
              "      <td>21</td>\n",
              "      <td>...</td>\n",
              "      <td>True</td>\n",
              "      <td>21050.0</td>\n",
              "      <td>VA</td>\n",
              "      <td>LOMBARDIA</td>\n",
              "      <td>512658</td>\n",
              "      <td>49</td>\n",
              "      <td>standard</td>\n",
              "      <td>1</td>\n",
              "      <td>2022-09-08</td>\n",
              "      <td>1</td>\n",
              "    </tr>\n",
              "    <tr>\n",
              "      <th>...</th>\n",
              "      <td>...</td>\n",
              "      <td>...</td>\n",
              "      <td>...</td>\n",
              "      <td>...</td>\n",
              "      <td>...</td>\n",
              "      <td>...</td>\n",
              "      <td>...</td>\n",
              "      <td>...</td>\n",
              "      <td>...</td>\n",
              "      <td>...</td>\n",
              "      <td>...</td>\n",
              "      <td>...</td>\n",
              "      <td>...</td>\n",
              "      <td>...</td>\n",
              "      <td>...</td>\n",
              "      <td>...</td>\n",
              "      <td>...</td>\n",
              "      <td>...</td>\n",
              "      <td>...</td>\n",
              "      <td>...</td>\n",
              "      <td>...</td>\n",
              "    </tr>\n",
              "    <tr>\n",
              "      <th>910621</th>\n",
              "      <td>934581</td>\n",
              "      <td>934581</td>\n",
              "      <td>29</td>\n",
              "      <td>35508942</td>\n",
              "      <td>1</td>\n",
              "      <td>33.60</td>\n",
              "      <td>0.0</td>\n",
              "      <td>2023-04-30 19:35:53</td>\n",
              "      <td>2</td>\n",
              "      <td>899757</td>\n",
              "      <td>...</td>\n",
              "      <td>True</td>\n",
              "      <td>24.0</td>\n",
              "      <td>RM</td>\n",
              "      <td>LAZIO</td>\n",
              "      <td>927773</td>\n",
              "      <td>29</td>\n",
              "      <td>standard</td>\n",
              "      <td>1</td>\n",
              "      <td>2023-04-30</td>\n",
              "      <td>1</td>\n",
              "    </tr>\n",
              "    <tr>\n",
              "      <th>910622</th>\n",
              "      <td>934620</td>\n",
              "      <td>934620</td>\n",
              "      <td>44</td>\n",
              "      <td>36237691</td>\n",
              "      <td>1</td>\n",
              "      <td>11.99</td>\n",
              "      <td>0.0</td>\n",
              "      <td>2023-04-30 19:19:55</td>\n",
              "      <td>13</td>\n",
              "      <td>899796</td>\n",
              "      <td>...</td>\n",
              "      <td>True</td>\n",
              "      <td>30030.0</td>\n",
              "      <td>VE</td>\n",
              "      <td>VENETO</td>\n",
              "      <td>927816</td>\n",
              "      <td>44</td>\n",
              "      <td>standard</td>\n",
              "      <td>1</td>\n",
              "      <td>2023-04-30</td>\n",
              "      <td>1</td>\n",
              "    </tr>\n",
              "    <tr>\n",
              "      <th>910623</th>\n",
              "      <td>934620</td>\n",
              "      <td>934620</td>\n",
              "      <td>44</td>\n",
              "      <td>81259479</td>\n",
              "      <td>1</td>\n",
              "      <td>9.99</td>\n",
              "      <td>0.0</td>\n",
              "      <td>2023-04-30 19:19:55</td>\n",
              "      <td>13</td>\n",
              "      <td>899796</td>\n",
              "      <td>...</td>\n",
              "      <td>True</td>\n",
              "      <td>30030.0</td>\n",
              "      <td>VE</td>\n",
              "      <td>VENETO</td>\n",
              "      <td>927816</td>\n",
              "      <td>44</td>\n",
              "      <td>standard</td>\n",
              "      <td>1</td>\n",
              "      <td>2023-04-30</td>\n",
              "      <td>1</td>\n",
              "    </tr>\n",
              "    <tr>\n",
              "      <th>910624</th>\n",
              "      <td>934660</td>\n",
              "      <td>934660</td>\n",
              "      <td>46</td>\n",
              "      <td>34067775</td>\n",
              "      <td>1</td>\n",
              "      <td>1.90</td>\n",
              "      <td>0.0</td>\n",
              "      <td>2023-04-30 19:32:17</td>\n",
              "      <td>9</td>\n",
              "      <td>899836</td>\n",
              "      <td>...</td>\n",
              "      <td>True</td>\n",
              "      <td>70010.0</td>\n",
              "      <td>BA</td>\n",
              "      <td>PUGLIA</td>\n",
              "      <td>927866</td>\n",
              "      <td>46</td>\n",
              "      <td>standard</td>\n",
              "      <td>1</td>\n",
              "      <td>2023-04-30</td>\n",
              "      <td>1</td>\n",
              "    </tr>\n",
              "    <tr>\n",
              "      <th>910625</th>\n",
              "      <td>934716</td>\n",
              "      <td>934716</td>\n",
              "      <td>44</td>\n",
              "      <td>36161790</td>\n",
              "      <td>1</td>\n",
              "      <td>6.99</td>\n",
              "      <td>0.0</td>\n",
              "      <td>2023-04-30 20:26:41</td>\n",
              "      <td>9</td>\n",
              "      <td>899892</td>\n",
              "      <td>...</td>\n",
              "      <td>True</td>\n",
              "      <td>30021.0</td>\n",
              "      <td>VE</td>\n",
              "      <td>VENETO</td>\n",
              "      <td>927938</td>\n",
              "      <td>44</td>\n",
              "      <td>standard</td>\n",
              "      <td>1</td>\n",
              "      <td>2023-04-30</td>\n",
              "      <td>1</td>\n",
              "    </tr>\n",
              "  </tbody>\n",
              "</table>\n",
              "<p>910626 rows × 25 columns</p>\n",
              "</div>\n",
              "      <button class=\"colab-df-convert\" onclick=\"convertToInteractive('df-dccf1c6b-5028-4931-953f-885749071d17')\"\n",
              "              title=\"Convert this dataframe to an interactive table.\"\n",
              "              style=\"display:none;\">\n",
              "\n",
              "  <svg xmlns=\"http://www.w3.org/2000/svg\" height=\"24px\"viewBox=\"0 0 24 24\"\n",
              "       width=\"24px\">\n",
              "    <path d=\"M0 0h24v24H0V0z\" fill=\"none\"/>\n",
              "    <path d=\"M18.56 5.44l.94 2.06.94-2.06 2.06-.94-2.06-.94-.94-2.06-.94 2.06-2.06.94zm-11 1L8.5 8.5l.94-2.06 2.06-.94-2.06-.94L8.5 2.5l-.94 2.06-2.06.94zm10 10l.94 2.06.94-2.06 2.06-.94-2.06-.94-.94-2.06-.94 2.06-2.06.94z\"/><path d=\"M17.41 7.96l-1.37-1.37c-.4-.4-.92-.59-1.43-.59-.52 0-1.04.2-1.43.59L10.3 9.45l-7.72 7.72c-.78.78-.78 2.05 0 2.83L4 21.41c.39.39.9.59 1.41.59.51 0 1.02-.2 1.41-.59l7.78-7.78 2.81-2.81c.8-.78.8-2.07 0-2.86zM5.41 20L4 18.59l7.72-7.72 1.47 1.35L5.41 20z\"/>\n",
              "  </svg>\n",
              "      </button>\n",
              "\n",
              "\n",
              "\n",
              "    <div id=\"df-b93e1ee7-de3e-4dac-a304-6ff66a2a8406\">\n",
              "      <button class=\"colab-df-quickchart\" onclick=\"quickchart('df-b93e1ee7-de3e-4dac-a304-6ff66a2a8406')\"\n",
              "              title=\"Suggest charts.\"\n",
              "              style=\"display:none;\">\n",
              "\n",
              "<svg xmlns=\"http://www.w3.org/2000/svg\" height=\"24px\"viewBox=\"0 0 24 24\"\n",
              "     width=\"24px\">\n",
              "    <g>\n",
              "        <path d=\"M19 3H5c-1.1 0-2 .9-2 2v14c0 1.1.9 2 2 2h14c1.1 0 2-.9 2-2V5c0-1.1-.9-2-2-2zM9 17H7v-7h2v7zm4 0h-2V7h2v10zm4 0h-2v-4h2v4z\"/>\n",
              "    </g>\n",
              "</svg>\n",
              "      </button>\n",
              "    </div>\n",
              "\n",
              "<style>\n",
              "  .colab-df-quickchart {\n",
              "    background-color: #E8F0FE;\n",
              "    border: none;\n",
              "    border-radius: 50%;\n",
              "    cursor: pointer;\n",
              "    display: none;\n",
              "    fill: #1967D2;\n",
              "    height: 32px;\n",
              "    padding: 0 0 0 0;\n",
              "    width: 32px;\n",
              "  }\n",
              "\n",
              "  .colab-df-quickchart:hover {\n",
              "    background-color: #E2EBFA;\n",
              "    box-shadow: 0px 1px 2px rgba(60, 64, 67, 0.3), 0px 1px 3px 1px rgba(60, 64, 67, 0.15);\n",
              "    fill: #174EA6;\n",
              "  }\n",
              "\n",
              "  [theme=dark] .colab-df-quickchart {\n",
              "    background-color: #3B4455;\n",
              "    fill: #D2E3FC;\n",
              "  }\n",
              "\n",
              "  [theme=dark] .colab-df-quickchart:hover {\n",
              "    background-color: #434B5C;\n",
              "    box-shadow: 0px 1px 3px 1px rgba(0, 0, 0, 0.15);\n",
              "    filter: drop-shadow(0px 1px 2px rgba(0, 0, 0, 0.3));\n",
              "    fill: #FFFFFF;\n",
              "  }\n",
              "</style>\n",
              "\n",
              "    <script>\n",
              "      async function quickchart(key) {\n",
              "        const containerElement = document.querySelector('#' + key);\n",
              "        const charts = await google.colab.kernel.invokeFunction(\n",
              "            'suggestCharts', [key], {});\n",
              "      }\n",
              "    </script>\n",
              "\n",
              "      <script>\n",
              "\n",
              "function displayQuickchartButton(domScope) {\n",
              "  let quickchartButtonEl =\n",
              "    domScope.querySelector('#df-b93e1ee7-de3e-4dac-a304-6ff66a2a8406 button.colab-df-quickchart');\n",
              "  quickchartButtonEl.style.display =\n",
              "    google.colab.kernel.accessAllowed ? 'block' : 'none';\n",
              "}\n",
              "\n",
              "        displayQuickchartButton(document);\n",
              "      </script>\n",
              "      <style>\n",
              "    .colab-df-container {\n",
              "      display:flex;\n",
              "      flex-wrap:wrap;\n",
              "      gap: 12px;\n",
              "    }\n",
              "\n",
              "    .colab-df-convert {\n",
              "      background-color: #E8F0FE;\n",
              "      border: none;\n",
              "      border-radius: 50%;\n",
              "      cursor: pointer;\n",
              "      display: none;\n",
              "      fill: #1967D2;\n",
              "      height: 32px;\n",
              "      padding: 0 0 0 0;\n",
              "      width: 32px;\n",
              "    }\n",
              "\n",
              "    .colab-df-convert:hover {\n",
              "      background-color: #E2EBFA;\n",
              "      box-shadow: 0px 1px 2px rgba(60, 64, 67, 0.3), 0px 1px 3px 1px rgba(60, 64, 67, 0.15);\n",
              "      fill: #174EA6;\n",
              "    }\n",
              "\n",
              "    [theme=dark] .colab-df-convert {\n",
              "      background-color: #3B4455;\n",
              "      fill: #D2E3FC;\n",
              "    }\n",
              "\n",
              "    [theme=dark] .colab-df-convert:hover {\n",
              "      background-color: #434B5C;\n",
              "      box-shadow: 0px 1px 3px 1px rgba(0, 0, 0, 0.15);\n",
              "      filter: drop-shadow(0px 1px 2px rgba(0, 0, 0, 0.3));\n",
              "      fill: #FFFFFF;\n",
              "    }\n",
              "  </style>\n",
              "\n",
              "      <script>\n",
              "        const buttonEl =\n",
              "          document.querySelector('#df-dccf1c6b-5028-4931-953f-885749071d17 button.colab-df-convert');\n",
              "        buttonEl.style.display =\n",
              "          google.colab.kernel.accessAllowed ? 'block' : 'none';\n",
              "\n",
              "        async function convertToInteractive(key) {\n",
              "          const element = document.querySelector('#df-dccf1c6b-5028-4931-953f-885749071d17');\n",
              "          const dataTable =\n",
              "            await google.colab.kernel.invokeFunction('convertToInteractive',\n",
              "                                                     [key], {});\n",
              "          if (!dataTable) return;\n",
              "\n",
              "          const docLinkHtml = 'Like what you see? Visit the ' +\n",
              "            '<a target=\"_blank\" href=https://colab.research.google.com/notebooks/data_table.ipynb>data table notebook</a>'\n",
              "            + ' to learn more about interactive tables.';\n",
              "          element.innerHTML = '';\n",
              "          dataTable['output_type'] = 'display_data';\n",
              "          await google.colab.output.renderOutput(dataTable, element);\n",
              "          const docLink = document.createElement('div');\n",
              "          docLink.innerHTML = docLinkHtml;\n",
              "          element.appendChild(docLink);\n",
              "        }\n",
              "      </script>\n",
              "    </div>\n",
              "  </div>\n"
            ],
            "text/plain": [
              "       order_id customer_id store_id product_id direction  gross_price  \\\n",
              "0            23          23       49   35551922         1       125.40   \n",
              "1            23          23       49   30344384         1         8.30   \n",
              "2            23          23       49   33794292         1         1.99   \n",
              "3            23          23       49   33795776         1         5.10   \n",
              "4            23          23       49   36235381         1        76.05   \n",
              "...         ...         ...      ...        ...       ...          ...   \n",
              "910621   934581      934581       29   35508942         1        33.60   \n",
              "910622   934620      934620       44   36237691         1        11.99   \n",
              "910623   934620      934620       44   81259479         1         9.99   \n",
              "910624   934660      934660       46   34067775         1         1.90   \n",
              "910625   934716      934716       44   36161790         1         6.99   \n",
              "\n",
              "        price_reduction   purchase_datetime product_class address_id  ...  \\\n",
              "0                   0.0 2022-10-04 18:28:51             6         21  ...   \n",
              "1                   0.0 2022-10-04 18:28:51             6         21  ...   \n",
              "2                   0.0 2022-10-04 18:28:51             6         21  ...   \n",
              "3                   0.0 2022-10-04 18:28:51             6         21  ...   \n",
              "4                   0.0 2022-10-04 18:28:51             6         21  ...   \n",
              "...                 ...                 ...           ...        ...  ...   \n",
              "910621              0.0 2023-04-30 19:35:53             2     899757  ...   \n",
              "910622              0.0 2023-04-30 19:19:55            13     899796  ...   \n",
              "910623              0.0 2023-04-30 19:19:55            13     899796  ...   \n",
              "910624              0.0 2023-04-30 19:32:17             9     899836  ...   \n",
              "910625              0.0 2023-04-30 20:26:41             9     899892  ...   \n",
              "\n",
              "       flag_privacy postal_code district     region account_id  \\\n",
              "0              True     21050.0       VA  LOMBARDIA     512658   \n",
              "1              True     21050.0       VA  LOMBARDIA     512658   \n",
              "2              True     21050.0       VA  LOMBARDIA     512658   \n",
              "3              True     21050.0       VA  LOMBARDIA     512658   \n",
              "4              True     21050.0       VA  LOMBARDIA     512658   \n",
              "...             ...         ...      ...        ...        ...   \n",
              "910621         True        24.0       RM      LAZIO     927773   \n",
              "910622         True     30030.0       VE     VENETO     927816   \n",
              "910623         True     30030.0       VE     VENETO     927816   \n",
              "910624         True     70010.0       BA     PUGLIA     927866   \n",
              "910625         True     30021.0       VE     VENETO     927938   \n",
              "\n",
              "        favorite_store loyalty_type loyatlty_status activation_date  \\\n",
              "0                   49     standard               1      2022-09-08   \n",
              "1                   49     standard               1      2022-09-08   \n",
              "2                   49     standard               1      2022-09-08   \n",
              "3                   49     standard               1      2022-09-08   \n",
              "4                   49     standard               1      2022-09-08   \n",
              "...                ...          ...             ...             ...   \n",
              "910621              29     standard               1      2023-04-30   \n",
              "910622              44     standard               1      2023-04-30   \n",
              "910623              44     standard               1      2023-04-30   \n",
              "910624              46     standard               1      2023-04-30   \n",
              "910625              44     standard               1      2023-04-30   \n",
              "\n",
              "       loyalty_status  \n",
              "0                   1  \n",
              "1                   1  \n",
              "2                   1  \n",
              "3                   1  \n",
              "4                   1  \n",
              "...               ...  \n",
              "910621              1  \n",
              "910622              1  \n",
              "910623              1  \n",
              "910624              1  \n",
              "910625              1  \n",
              "\n",
              "[910626 rows x 25 columns]"
            ]
          },
          "execution_count": 56,
          "metadata": {},
          "output_type": "execute_result"
        }
      ],
      "source": [
        "customer_orders"
      ]
    },
    {
      "cell_type": "code",
      "execution_count": null,
      "metadata": {
        "colab": {
          "base_uri": "https://localhost:8080/"
        },
        "id": "VFQrvEU77ezq",
        "outputId": "b141126c-5c69-4695-8b60-9bddca1ae5c3"
      },
      "outputs": [
        {
          "name": "stdout",
          "output_type": "stream",
          "text": [
            "<class 'pandas.core.frame.DataFrame'>\n",
            "Int64Index: 910626 entries, 0 to 910625\n",
            "Data columns (total 25 columns):\n",
            " #   Column               Non-Null Count   Dtype         \n",
            "---  ------               --------------   -----         \n",
            " 0   order_id             910626 non-null  object        \n",
            " 1   customer_id          910626 non-null  object        \n",
            " 2   store_id             910626 non-null  object        \n",
            " 3   product_id           910626 non-null  object        \n",
            " 4   direction            910626 non-null  object        \n",
            " 5   gross_price          910626 non-null  float64       \n",
            " 6   price_reduction      910626 non-null  float64       \n",
            " 7   purchase_datetime    910626 non-null  datetime64[ns]\n",
            " 8   product_class        910626 non-null  object        \n",
            " 9   address_id           910626 non-null  object        \n",
            " 10  birthdate            910626 non-null  datetime64[ns]\n",
            " 11  gender               910626 non-null  object        \n",
            " 12  job_type             910626 non-null  object        \n",
            " 13  email_provider       910626 non-null  object        \n",
            " 14  flag_phone_provided  910626 non-null  object        \n",
            " 15  flag_privacy         910626 non-null  bool          \n",
            " 16  postal_code          910626 non-null  object        \n",
            " 17  district             910626 non-null  object        \n",
            " 18  region               910626 non-null  object        \n",
            " 19  account_id           910626 non-null  object        \n",
            " 20  favorite_store       910626 non-null  object        \n",
            " 21  loyalty_type         910626 non-null  object        \n",
            " 22  loyatlty_status      910626 non-null  int64         \n",
            " 23  activation_date      910626 non-null  datetime64[ns]\n",
            " 24  loyalty_status       910626 non-null  object        \n",
            "dtypes: bool(1), datetime64[ns](3), float64(2), int64(1), object(18)\n",
            "memory usage: 174.6+ MB\n"
          ]
        }
      ],
      "source": [
        "customer_orders.info()"
      ]
    },
    {
      "cell_type": "markdown",
      "metadata": {
        "id": "RPU_KUxjk3s-"
      },
      "source": [
        "I save these new versions that I need for the analysis(RFM,MBA,Churn,Sentiment Analysis)"
      ]
    },
    {
      "cell_type": "code",
      "execution_count": null,
      "metadata": {
        "id": "IvlBu5V1-5Pc"
      },
      "outputs": [],
      "source": [
        "customer_orders.to_csv('/content/gdrive/MyDrive/customer_orders.csv', index=False)\n",
        "dfcostumer.to_csv('/content/gdrive/MyDrive/df_customer.csv', index=False)\n",
        "prod_ord.to_csv('/content/gdrive/MyDrive/prod_ord.csv', index=False)\n",
        "customer_reviews.to_csv('/content/gdrive/MyDrive/customer_reviews.csv', index=False)\n",
        "labelled_reviews.to_csv('/content/gdrive/MyDrive/labelled_reviews.csv', index=False)"
      ]
    }
  ],
  "metadata": {
    "accelerator": "GPU",
    "colab": {
      "gpuType": "T4",
      "provenance": []
    },
    "kernelspec": {
      "display_name": "Python 3",
      "name": "python3"
    },
    "language_info": {
      "name": "python"
    }
  },
  "nbformat": 4,
  "nbformat_minor": 0
}
