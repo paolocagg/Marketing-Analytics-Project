{
  "cells": [
    {
      "cell_type": "markdown",
      "metadata": {
        "id": "TPAH3NDEGTUc"
      },
      "source": [
        "Sentiment analysis is a branch of natural language processing (NLP) that focuses on extracting subjective information from textual data and determining the sentiment or attitude expressed within the text. It involves analyzing and classifying text into categories such as positive, negative, or neutral, based on the emotions or opinions expressed by the words and phrases used.\n",
        "It is important that thea algorithm is capable to identify the emotional tone of the message"
      ]
    },
    {
      "cell_type": "markdown",
      "metadata": {
        "id": "e99q-nbsHYvq"
      },
      "source": [
        "I import the libraries and the data I need"
      ]
    },
    {
      "cell_type": "code",
      "execution_count": null,
      "metadata": {
        "colab": {
          "base_uri": "https://localhost:8080/"
        },
        "id": "6oVtbdIYN2IU",
        "outputId": "8d63b00b-e6af-4c18-ae5d-e26a9e9635c8"
      },
      "outputs": [
        {
          "name": "stdout",
          "output_type": "stream",
          "text": [
            "Mounted at /content/gdrive\n"
          ]
        }
      ],
      "source": [
        "import pandas as pd\n",
        "import matplotlib.pyplot as plt\n",
        "import numpy as np\n",
        "import csv\n",
        "from google.colab import drive\n",
        "import zipfile\n",
        "from shutil import copyfile\n",
        "from sklearn.feature_extraction.text import re\n",
        "from sklearn.feature_extraction.text import TfidfVectorizer\n",
        "from sklearn.model_selection import train_test_split\n",
        "from sklearn.linear_model import LogisticRegression\n",
        "from sklearn.metrics import accuracy_score\n",
        "from sklearn.feature_extraction.text import CountVectorizer\n",
        "from sklearn.naive_bayes import MultinomialNB\n",
        "\n",
        "drive.mount('/content/gdrive')"
      ]
    },
    {
      "cell_type": "code",
      "execution_count": null,
      "metadata": {
        "id": "F2vdG79gQxEO"
      },
      "outputs": [],
      "source": [
        "customer_reviews=pd.read_csv('/content/gdrive/MyDrive/customer_reviews.csv')\n",
        "labelled_reviews=pd.read_csv('/content/gdrive/MyDrive/labelled_reviews.csv')\n"
      ]
    },
    {
      "cell_type": "markdown",
      "metadata": {
        "id": "BJ3HnQUv40oh"
      },
      "source": [
        "I check for the info of the dataset"
      ]
    },
    {
      "cell_type": "code",
      "execution_count": null,
      "metadata": {
        "colab": {
          "base_uri": "https://localhost:8080/"
        },
        "id": "_1ZInEPiQ4Cn",
        "outputId": "9f008a28-b5bf-499d-9c1a-bfc411cde426"
      },
      "outputs": [
        {
          "name": "stdout",
          "output_type": "stream",
          "text": [
            "<class 'pandas.core.frame.DataFrame'>\n",
            "RangeIndex: 105710 entries, 0 to 105709\n",
            "Data columns (total 3 columns):\n",
            " #   Column       Non-Null Count   Dtype \n",
            "---  ------       --------------   ----- \n",
            " 0   review_id    105710 non-null  int64 \n",
            " 1   customer_id  105710 non-null  int64 \n",
            " 2   review_text  105710 non-null  object\n",
            "dtypes: int64(2), object(1)\n",
            "memory usage: 2.4+ MB\n"
          ]
        },
        {
          "data": {
            "text/plain": [
              "review_id      0\n",
              "customer_id    0\n",
              "review_text    0\n",
              "dtype: int64"
            ]
          },
          "execution_count": 3,
          "metadata": {},
          "output_type": "execute_result"
        }
      ],
      "source": [
        "customer_reviews.info()\n",
        "customer_reviews.isna().sum()"
      ]
    },
    {
      "cell_type": "markdown",
      "metadata": {
        "id": "2uTSLil-Ick7"
      },
      "source": [
        "The dataset customer review does not contain missing values"
      ]
    },
    {
      "cell_type": "code",
      "execution_count": null,
      "metadata": {
        "colab": {
          "base_uri": "https://localhost:8080/",
          "height": 423
        },
        "id": "eYvTczp9Rz53",
        "outputId": "9ea65b30-9f19-43d3-a49e-eecae5819a51"
      },
      "outputs": [
        {
          "data": {
            "text/html": [
              "\n",
              "\n",
              "  <div id=\"df-81cd9195-c85f-4f83-b05c-4e012ad1f475\">\n",
              "    <div class=\"colab-df-container\">\n",
              "      <div>\n",
              "<style scoped>\n",
              "    .dataframe tbody tr th:only-of-type {\n",
              "        vertical-align: middle;\n",
              "    }\n",
              "\n",
              "    .dataframe tbody tr th {\n",
              "        vertical-align: top;\n",
              "    }\n",
              "\n",
              "    .dataframe thead th {\n",
              "        text-align: right;\n",
              "    }\n",
              "</style>\n",
              "<table border=\"1\" class=\"dataframe\">\n",
              "  <thead>\n",
              "    <tr style=\"text-align: right;\">\n",
              "      <th></th>\n",
              "      <th>review_id</th>\n",
              "      <th>customer_id</th>\n",
              "      <th>review_text</th>\n",
              "    </tr>\n",
              "  </thead>\n",
              "  <tbody>\n",
              "    <tr>\n",
              "      <th>0</th>\n",
              "      <td>1</td>\n",
              "      <td>814256</td>\n",
              "      <td>I have bought several of the Vitality canned d...</td>\n",
              "    </tr>\n",
              "    <tr>\n",
              "      <th>1</th>\n",
              "      <td>2</td>\n",
              "      <td>457475</td>\n",
              "      <td>Product arrived labeled as Jumbo Salted Peanut...</td>\n",
              "    </tr>\n",
              "    <tr>\n",
              "      <th>2</th>\n",
              "      <td>3</td>\n",
              "      <td>104045</td>\n",
              "      <td>This is a confection that has been around a fe...</td>\n",
              "    </tr>\n",
              "    <tr>\n",
              "      <th>3</th>\n",
              "      <td>4</td>\n",
              "      <td>603662</td>\n",
              "      <td>If you are looking for the secret ingredient i...</td>\n",
              "    </tr>\n",
              "    <tr>\n",
              "      <th>4</th>\n",
              "      <td>5</td>\n",
              "      <td>739314</td>\n",
              "      <td>Great taffy at a great price.  There was a wid...</td>\n",
              "    </tr>\n",
              "    <tr>\n",
              "      <th>...</th>\n",
              "      <td>...</td>\n",
              "      <td>...</td>\n",
              "      <td>...</td>\n",
              "    </tr>\n",
              "    <tr>\n",
              "      <th>105705</th>\n",
              "      <td>140942</td>\n",
              "      <td>224091</td>\n",
              "      <td>We Love,Love our Keurig coffee maker .My husba...</td>\n",
              "    </tr>\n",
              "    <tr>\n",
              "      <th>105706</th>\n",
              "      <td>140943</td>\n",
              "      <td>196666</td>\n",
              "      <td>This is supposed to be a light roast coffee bu...</td>\n",
              "    </tr>\n",
              "    <tr>\n",
              "      <th>105707</th>\n",
              "      <td>140944</td>\n",
              "      <td>618226</td>\n",
              "      <td>I have always been happy with my Kcups but thi...</td>\n",
              "    </tr>\n",
              "    <tr>\n",
              "      <th>105708</th>\n",
              "      <td>140945</td>\n",
              "      <td>844918</td>\n",
              "      <td>I ordered light roast coffee and was sent one ...</td>\n",
              "    </tr>\n",
              "    <tr>\n",
              "      <th>105709</th>\n",
              "      <td>140946</td>\n",
              "      <td>555281</td>\n",
              "      <td>I love the ease of use and speed of the Keurig...</td>\n",
              "    </tr>\n",
              "  </tbody>\n",
              "</table>\n",
              "<p>105710 rows × 3 columns</p>\n",
              "</div>\n",
              "      <button class=\"colab-df-convert\" onclick=\"convertToInteractive('df-81cd9195-c85f-4f83-b05c-4e012ad1f475')\"\n",
              "              title=\"Convert this dataframe to an interactive table.\"\n",
              "              style=\"display:none;\">\n",
              "\n",
              "  <svg xmlns=\"http://www.w3.org/2000/svg\" height=\"24px\"viewBox=\"0 0 24 24\"\n",
              "       width=\"24px\">\n",
              "    <path d=\"M0 0h24v24H0V0z\" fill=\"none\"/>\n",
              "    <path d=\"M18.56 5.44l.94 2.06.94-2.06 2.06-.94-2.06-.94-.94-2.06-.94 2.06-2.06.94zm-11 1L8.5 8.5l.94-2.06 2.06-.94-2.06-.94L8.5 2.5l-.94 2.06-2.06.94zm10 10l.94 2.06.94-2.06 2.06-.94-2.06-.94-.94-2.06-.94 2.06-2.06.94z\"/><path d=\"M17.41 7.96l-1.37-1.37c-.4-.4-.92-.59-1.43-.59-.52 0-1.04.2-1.43.59L10.3 9.45l-7.72 7.72c-.78.78-.78 2.05 0 2.83L4 21.41c.39.39.9.59 1.41.59.51 0 1.02-.2 1.41-.59l7.78-7.78 2.81-2.81c.8-.78.8-2.07 0-2.86zM5.41 20L4 18.59l7.72-7.72 1.47 1.35L5.41 20z\"/>\n",
              "  </svg>\n",
              "      </button>\n",
              "\n",
              "\n",
              "\n",
              "    <div id=\"df-472cabc6-88c1-40e0-ac76-148183bce4ea\">\n",
              "      <button class=\"colab-df-quickchart\" onclick=\"quickchart('df-472cabc6-88c1-40e0-ac76-148183bce4ea')\"\n",
              "              title=\"Suggest charts.\"\n",
              "              style=\"display:none;\">\n",
              "\n",
              "<svg xmlns=\"http://www.w3.org/2000/svg\" height=\"24px\"viewBox=\"0 0 24 24\"\n",
              "     width=\"24px\">\n",
              "    <g>\n",
              "        <path d=\"M19 3H5c-1.1 0-2 .9-2 2v14c0 1.1.9 2 2 2h14c1.1 0 2-.9 2-2V5c0-1.1-.9-2-2-2zM9 17H7v-7h2v7zm4 0h-2V7h2v10zm4 0h-2v-4h2v4z\"/>\n",
              "    </g>\n",
              "</svg>\n",
              "      </button>\n",
              "    </div>\n",
              "\n",
              "<style>\n",
              "  .colab-df-quickchart {\n",
              "    background-color: #E8F0FE;\n",
              "    border: none;\n",
              "    border-radius: 50%;\n",
              "    cursor: pointer;\n",
              "    display: none;\n",
              "    fill: #1967D2;\n",
              "    height: 32px;\n",
              "    padding: 0 0 0 0;\n",
              "    width: 32px;\n",
              "  }\n",
              "\n",
              "  .colab-df-quickchart:hover {\n",
              "    background-color: #E2EBFA;\n",
              "    box-shadow: 0px 1px 2px rgba(60, 64, 67, 0.3), 0px 1px 3px 1px rgba(60, 64, 67, 0.15);\n",
              "    fill: #174EA6;\n",
              "  }\n",
              "\n",
              "  [theme=dark] .colab-df-quickchart {\n",
              "    background-color: #3B4455;\n",
              "    fill: #D2E3FC;\n",
              "  }\n",
              "\n",
              "  [theme=dark] .colab-df-quickchart:hover {\n",
              "    background-color: #434B5C;\n",
              "    box-shadow: 0px 1px 3px 1px rgba(0, 0, 0, 0.15);\n",
              "    filter: drop-shadow(0px 1px 2px rgba(0, 0, 0, 0.3));\n",
              "    fill: #FFFFFF;\n",
              "  }\n",
              "</style>\n",
              "\n",
              "    <script>\n",
              "      async function quickchart(key) {\n",
              "        const containerElement = document.querySelector('#' + key);\n",
              "        const charts = await google.colab.kernel.invokeFunction(\n",
              "            'suggestCharts', [key], {});\n",
              "      }\n",
              "    </script>\n",
              "\n",
              "      <script>\n",
              "\n",
              "function displayQuickchartButton(domScope) {\n",
              "  let quickchartButtonEl =\n",
              "    domScope.querySelector('#df-472cabc6-88c1-40e0-ac76-148183bce4ea button.colab-df-quickchart');\n",
              "  quickchartButtonEl.style.display =\n",
              "    google.colab.kernel.accessAllowed ? 'block' : 'none';\n",
              "}\n",
              "\n",
              "        displayQuickchartButton(document);\n",
              "      </script>\n",
              "      <style>\n",
              "    .colab-df-container {\n",
              "      display:flex;\n",
              "      flex-wrap:wrap;\n",
              "      gap: 12px;\n",
              "    }\n",
              "\n",
              "    .colab-df-convert {\n",
              "      background-color: #E8F0FE;\n",
              "      border: none;\n",
              "      border-radius: 50%;\n",
              "      cursor: pointer;\n",
              "      display: none;\n",
              "      fill: #1967D2;\n",
              "      height: 32px;\n",
              "      padding: 0 0 0 0;\n",
              "      width: 32px;\n",
              "    }\n",
              "\n",
              "    .colab-df-convert:hover {\n",
              "      background-color: #E2EBFA;\n",
              "      box-shadow: 0px 1px 2px rgba(60, 64, 67, 0.3), 0px 1px 3px 1px rgba(60, 64, 67, 0.15);\n",
              "      fill: #174EA6;\n",
              "    }\n",
              "\n",
              "    [theme=dark] .colab-df-convert {\n",
              "      background-color: #3B4455;\n",
              "      fill: #D2E3FC;\n",
              "    }\n",
              "\n",
              "    [theme=dark] .colab-df-convert:hover {\n",
              "      background-color: #434B5C;\n",
              "      box-shadow: 0px 1px 3px 1px rgba(0, 0, 0, 0.15);\n",
              "      filter: drop-shadow(0px 1px 2px rgba(0, 0, 0, 0.3));\n",
              "      fill: #FFFFFF;\n",
              "    }\n",
              "  </style>\n",
              "\n",
              "      <script>\n",
              "        const buttonEl =\n",
              "          document.querySelector('#df-81cd9195-c85f-4f83-b05c-4e012ad1f475 button.colab-df-convert');\n",
              "        buttonEl.style.display =\n",
              "          google.colab.kernel.accessAllowed ? 'block' : 'none';\n",
              "\n",
              "        async function convertToInteractive(key) {\n",
              "          const element = document.querySelector('#df-81cd9195-c85f-4f83-b05c-4e012ad1f475');\n",
              "          const dataTable =\n",
              "            await google.colab.kernel.invokeFunction('convertToInteractive',\n",
              "                                                     [key], {});\n",
              "          if (!dataTable) return;\n",
              "\n",
              "          const docLinkHtml = 'Like what you see? Visit the ' +\n",
              "            '<a target=\"_blank\" href=https://colab.research.google.com/notebooks/data_table.ipynb>data table notebook</a>'\n",
              "            + ' to learn more about interactive tables.';\n",
              "          element.innerHTML = '';\n",
              "          dataTable['output_type'] = 'display_data';\n",
              "          await google.colab.output.renderOutput(dataTable, element);\n",
              "          const docLink = document.createElement('div');\n",
              "          docLink.innerHTML = docLinkHtml;\n",
              "          element.appendChild(docLink);\n",
              "        }\n",
              "      </script>\n",
              "    </div>\n",
              "  </div>\n"
            ],
            "text/plain": [
              "        review_id  customer_id  \\\n",
              "0               1       814256   \n",
              "1               2       457475   \n",
              "2               3       104045   \n",
              "3               4       603662   \n",
              "4               5       739314   \n",
              "...           ...          ...   \n",
              "105705     140942       224091   \n",
              "105706     140943       196666   \n",
              "105707     140944       618226   \n",
              "105708     140945       844918   \n",
              "105709     140946       555281   \n",
              "\n",
              "                                              review_text  \n",
              "0       I have bought several of the Vitality canned d...  \n",
              "1       Product arrived labeled as Jumbo Salted Peanut...  \n",
              "2       This is a confection that has been around a fe...  \n",
              "3       If you are looking for the secret ingredient i...  \n",
              "4       Great taffy at a great price.  There was a wid...  \n",
              "...                                                   ...  \n",
              "105705  We Love,Love our Keurig coffee maker .My husba...  \n",
              "105706  This is supposed to be a light roast coffee bu...  \n",
              "105707  I have always been happy with my Kcups but thi...  \n",
              "105708  I ordered light roast coffee and was sent one ...  \n",
              "105709  I love the ease of use and speed of the Keurig...  \n",
              "\n",
              "[105710 rows x 3 columns]"
            ]
          },
          "execution_count": 4,
          "metadata": {},
          "output_type": "execute_result"
        }
      ],
      "source": [
        "customer_reviews"
      ]
    },
    {
      "cell_type": "markdown",
      "metadata": {
        "id": "TL1xkMdxIsF5"
      },
      "source": [
        "It contains 105710 reviews made by the customers."
      ]
    },
    {
      "cell_type": "markdown",
      "metadata": {
        "id": "cVMzv-IV4_K9"
      },
      "source": [
        "the dataset labelled reviews contains also the sentiment associated to the reviews text"
      ]
    },
    {
      "cell_type": "code",
      "execution_count": null,
      "metadata": {
        "colab": {
          "base_uri": "https://localhost:8080/"
        },
        "id": "BGPYD3RXR5Q5",
        "outputId": "c929c76f-d92f-4a58-f3d9-92ebedfa05ca"
      },
      "outputs": [
        {
          "name": "stdout",
          "output_type": "stream",
          "text": [
            "<class 'pandas.core.frame.DataFrame'>\n",
            "RangeIndex: 462744 entries, 0 to 462743\n",
            "Data columns (total 3 columns):\n",
            " #   Column                  Non-Null Count   Dtype \n",
            "---  ------                  --------------   ----- \n",
            " 0   labelled_reviews_index  462744 non-null  int64 \n",
            " 1   review_text             462744 non-null  object\n",
            " 2   sentiment_label         462744 non-null  object\n",
            "dtypes: int64(1), object(2)\n",
            "memory usage: 10.6+ MB\n"
          ]
        },
        {
          "data": {
            "text/plain": [
              "labelled_reviews_index    0\n",
              "review_text               0\n",
              "sentiment_label           0\n",
              "dtype: int64"
            ]
          },
          "execution_count": 5,
          "metadata": {},
          "output_type": "execute_result"
        }
      ],
      "source": [
        "labelled_reviews.info()\n",
        "labelled_reviews.isna().sum()"
      ]
    },
    {
      "cell_type": "code",
      "execution_count": null,
      "metadata": {
        "colab": {
          "base_uri": "https://localhost:8080/",
          "height": 423
        },
        "id": "sW-I6DO6I4-r",
        "outputId": "9ba845b4-ba4d-4d0a-8343-8155c41b7b1d"
      },
      "outputs": [
        {
          "data": {
            "text/html": [
              "\n",
              "\n",
              "  <div id=\"df-e7b4ee47-e03d-4a1e-ac35-5dd4f04c42a9\">\n",
              "    <div class=\"colab-df-container\">\n",
              "      <div>\n",
              "<style scoped>\n",
              "    .dataframe tbody tr th:only-of-type {\n",
              "        vertical-align: middle;\n",
              "    }\n",
              "\n",
              "    .dataframe tbody tr th {\n",
              "        vertical-align: top;\n",
              "    }\n",
              "\n",
              "    .dataframe thead th {\n",
              "        text-align: right;\n",
              "    }\n",
              "</style>\n",
              "<table border=\"1\" class=\"dataframe\">\n",
              "  <thead>\n",
              "    <tr style=\"text-align: right;\">\n",
              "      <th></th>\n",
              "      <th>labelled_reviews_index</th>\n",
              "      <th>review_text</th>\n",
              "      <th>sentiment_label</th>\n",
              "    </tr>\n",
              "  </thead>\n",
              "  <tbody>\n",
              "    <tr>\n",
              "      <th>0</th>\n",
              "      <td>0</td>\n",
              "      <td>I'm no bitters expert but I bought it as a gif...</td>\n",
              "      <td>neutral</td>\n",
              "    </tr>\n",
              "    <tr>\n",
              "      <th>1</th>\n",
              "      <td>1</td>\n",
              "      <td>these are probably great in the right drinks, ...</td>\n",
              "      <td>neutral</td>\n",
              "    </tr>\n",
              "    <tr>\n",
              "      <th>2</th>\n",
              "      <td>2</td>\n",
              "      <td>I sent these to my dad for his bday and he sai...</td>\n",
              "      <td>positive</td>\n",
              "    </tr>\n",
              "    <tr>\n",
              "      <th>3</th>\n",
              "      <td>3</td>\n",
              "      <td>I purchased these as a gift for family member ...</td>\n",
              "      <td>positive</td>\n",
              "    </tr>\n",
              "    <tr>\n",
              "      <th>4</th>\n",
              "      <td>4</td>\n",
              "      <td>My wife bought me this sauce sampler for Chris...</td>\n",
              "      <td>neutral</td>\n",
              "    </tr>\n",
              "    <tr>\n",
              "      <th>...</th>\n",
              "      <td>...</td>\n",
              "      <td>...</td>\n",
              "      <td>...</td>\n",
              "    </tr>\n",
              "    <tr>\n",
              "      <th>462739</th>\n",
              "      <td>462739</td>\n",
              "      <td>Great for sesame chicken..this is a good if no...</td>\n",
              "      <td>positive</td>\n",
              "    </tr>\n",
              "    <tr>\n",
              "      <th>462740</th>\n",
              "      <td>462740</td>\n",
              "      <td>I'm disappointed with the flavor. The chocolat...</td>\n",
              "      <td>neutral</td>\n",
              "    </tr>\n",
              "    <tr>\n",
              "      <th>462741</th>\n",
              "      <td>462741</td>\n",
              "      <td>These stars are small, so you can give 10-15 o...</td>\n",
              "      <td>positive</td>\n",
              "    </tr>\n",
              "    <tr>\n",
              "      <th>462742</th>\n",
              "      <td>462742</td>\n",
              "      <td>These are the BEST treats for training and rew...</td>\n",
              "      <td>positive</td>\n",
              "    </tr>\n",
              "    <tr>\n",
              "      <th>462743</th>\n",
              "      <td>462743</td>\n",
              "      <td>I am very satisfied ,product is as advertised,...</td>\n",
              "      <td>positive</td>\n",
              "    </tr>\n",
              "  </tbody>\n",
              "</table>\n",
              "<p>462744 rows × 3 columns</p>\n",
              "</div>\n",
              "      <button class=\"colab-df-convert\" onclick=\"convertToInteractive('df-e7b4ee47-e03d-4a1e-ac35-5dd4f04c42a9')\"\n",
              "              title=\"Convert this dataframe to an interactive table.\"\n",
              "              style=\"display:none;\">\n",
              "\n",
              "  <svg xmlns=\"http://www.w3.org/2000/svg\" height=\"24px\"viewBox=\"0 0 24 24\"\n",
              "       width=\"24px\">\n",
              "    <path d=\"M0 0h24v24H0V0z\" fill=\"none\"/>\n",
              "    <path d=\"M18.56 5.44l.94 2.06.94-2.06 2.06-.94-2.06-.94-.94-2.06-.94 2.06-2.06.94zm-11 1L8.5 8.5l.94-2.06 2.06-.94-2.06-.94L8.5 2.5l-.94 2.06-2.06.94zm10 10l.94 2.06.94-2.06 2.06-.94-2.06-.94-.94-2.06-.94 2.06-2.06.94z\"/><path d=\"M17.41 7.96l-1.37-1.37c-.4-.4-.92-.59-1.43-.59-.52 0-1.04.2-1.43.59L10.3 9.45l-7.72 7.72c-.78.78-.78 2.05 0 2.83L4 21.41c.39.39.9.59 1.41.59.51 0 1.02-.2 1.41-.59l7.78-7.78 2.81-2.81c.8-.78.8-2.07 0-2.86zM5.41 20L4 18.59l7.72-7.72 1.47 1.35L5.41 20z\"/>\n",
              "  </svg>\n",
              "      </button>\n",
              "\n",
              "\n",
              "\n",
              "    <div id=\"df-cfeffdc7-0134-4882-b1c9-7c5d08b19e25\">\n",
              "      <button class=\"colab-df-quickchart\" onclick=\"quickchart('df-cfeffdc7-0134-4882-b1c9-7c5d08b19e25')\"\n",
              "              title=\"Suggest charts.\"\n",
              "              style=\"display:none;\">\n",
              "\n",
              "<svg xmlns=\"http://www.w3.org/2000/svg\" height=\"24px\"viewBox=\"0 0 24 24\"\n",
              "     width=\"24px\">\n",
              "    <g>\n",
              "        <path d=\"M19 3H5c-1.1 0-2 .9-2 2v14c0 1.1.9 2 2 2h14c1.1 0 2-.9 2-2V5c0-1.1-.9-2-2-2zM9 17H7v-7h2v7zm4 0h-2V7h2v10zm4 0h-2v-4h2v4z\"/>\n",
              "    </g>\n",
              "</svg>\n",
              "      </button>\n",
              "    </div>\n",
              "\n",
              "<style>\n",
              "  .colab-df-quickchart {\n",
              "    background-color: #E8F0FE;\n",
              "    border: none;\n",
              "    border-radius: 50%;\n",
              "    cursor: pointer;\n",
              "    display: none;\n",
              "    fill: #1967D2;\n",
              "    height: 32px;\n",
              "    padding: 0 0 0 0;\n",
              "    width: 32px;\n",
              "  }\n",
              "\n",
              "  .colab-df-quickchart:hover {\n",
              "    background-color: #E2EBFA;\n",
              "    box-shadow: 0px 1px 2px rgba(60, 64, 67, 0.3), 0px 1px 3px 1px rgba(60, 64, 67, 0.15);\n",
              "    fill: #174EA6;\n",
              "  }\n",
              "\n",
              "  [theme=dark] .colab-df-quickchart {\n",
              "    background-color: #3B4455;\n",
              "    fill: #D2E3FC;\n",
              "  }\n",
              "\n",
              "  [theme=dark] .colab-df-quickchart:hover {\n",
              "    background-color: #434B5C;\n",
              "    box-shadow: 0px 1px 3px 1px rgba(0, 0, 0, 0.15);\n",
              "    filter: drop-shadow(0px 1px 2px rgba(0, 0, 0, 0.3));\n",
              "    fill: #FFFFFF;\n",
              "  }\n",
              "</style>\n",
              "\n",
              "    <script>\n",
              "      async function quickchart(key) {\n",
              "        const containerElement = document.querySelector('#' + key);\n",
              "        const charts = await google.colab.kernel.invokeFunction(\n",
              "            'suggestCharts', [key], {});\n",
              "      }\n",
              "    </script>\n",
              "\n",
              "      <script>\n",
              "\n",
              "function displayQuickchartButton(domScope) {\n",
              "  let quickchartButtonEl =\n",
              "    domScope.querySelector('#df-cfeffdc7-0134-4882-b1c9-7c5d08b19e25 button.colab-df-quickchart');\n",
              "  quickchartButtonEl.style.display =\n",
              "    google.colab.kernel.accessAllowed ? 'block' : 'none';\n",
              "}\n",
              "\n",
              "        displayQuickchartButton(document);\n",
              "      </script>\n",
              "      <style>\n",
              "    .colab-df-container {\n",
              "      display:flex;\n",
              "      flex-wrap:wrap;\n",
              "      gap: 12px;\n",
              "    }\n",
              "\n",
              "    .colab-df-convert {\n",
              "      background-color: #E8F0FE;\n",
              "      border: none;\n",
              "      border-radius: 50%;\n",
              "      cursor: pointer;\n",
              "      display: none;\n",
              "      fill: #1967D2;\n",
              "      height: 32px;\n",
              "      padding: 0 0 0 0;\n",
              "      width: 32px;\n",
              "    }\n",
              "\n",
              "    .colab-df-convert:hover {\n",
              "      background-color: #E2EBFA;\n",
              "      box-shadow: 0px 1px 2px rgba(60, 64, 67, 0.3), 0px 1px 3px 1px rgba(60, 64, 67, 0.15);\n",
              "      fill: #174EA6;\n",
              "    }\n",
              "\n",
              "    [theme=dark] .colab-df-convert {\n",
              "      background-color: #3B4455;\n",
              "      fill: #D2E3FC;\n",
              "    }\n",
              "\n",
              "    [theme=dark] .colab-df-convert:hover {\n",
              "      background-color: #434B5C;\n",
              "      box-shadow: 0px 1px 3px 1px rgba(0, 0, 0, 0.15);\n",
              "      filter: drop-shadow(0px 1px 2px rgba(0, 0, 0, 0.3));\n",
              "      fill: #FFFFFF;\n",
              "    }\n",
              "  </style>\n",
              "\n",
              "      <script>\n",
              "        const buttonEl =\n",
              "          document.querySelector('#df-e7b4ee47-e03d-4a1e-ac35-5dd4f04c42a9 button.colab-df-convert');\n",
              "        buttonEl.style.display =\n",
              "          google.colab.kernel.accessAllowed ? 'block' : 'none';\n",
              "\n",
              "        async function convertToInteractive(key) {\n",
              "          const element = document.querySelector('#df-e7b4ee47-e03d-4a1e-ac35-5dd4f04c42a9');\n",
              "          const dataTable =\n",
              "            await google.colab.kernel.invokeFunction('convertToInteractive',\n",
              "                                                     [key], {});\n",
              "          if (!dataTable) return;\n",
              "\n",
              "          const docLinkHtml = 'Like what you see? Visit the ' +\n",
              "            '<a target=\"_blank\" href=https://colab.research.google.com/notebooks/data_table.ipynb>data table notebook</a>'\n",
              "            + ' to learn more about interactive tables.';\n",
              "          element.innerHTML = '';\n",
              "          dataTable['output_type'] = 'display_data';\n",
              "          await google.colab.output.renderOutput(dataTable, element);\n",
              "          const docLink = document.createElement('div');\n",
              "          docLink.innerHTML = docLinkHtml;\n",
              "          element.appendChild(docLink);\n",
              "        }\n",
              "      </script>\n",
              "    </div>\n",
              "  </div>\n"
            ],
            "text/plain": [
              "        labelled_reviews_index  \\\n",
              "0                            0   \n",
              "1                            1   \n",
              "2                            2   \n",
              "3                            3   \n",
              "4                            4   \n",
              "...                        ...   \n",
              "462739                  462739   \n",
              "462740                  462740   \n",
              "462741                  462741   \n",
              "462742                  462742   \n",
              "462743                  462743   \n",
              "\n",
              "                                              review_text sentiment_label  \n",
              "0       I'm no bitters expert but I bought it as a gif...         neutral  \n",
              "1       these are probably great in the right drinks, ...         neutral  \n",
              "2       I sent these to my dad for his bday and he sai...        positive  \n",
              "3       I purchased these as a gift for family member ...        positive  \n",
              "4       My wife bought me this sauce sampler for Chris...         neutral  \n",
              "...                                                   ...             ...  \n",
              "462739  Great for sesame chicken..this is a good if no...        positive  \n",
              "462740  I'm disappointed with the flavor. The chocolat...         neutral  \n",
              "462741  These stars are small, so you can give 10-15 o...        positive  \n",
              "462742  These are the BEST treats for training and rew...        positive  \n",
              "462743  I am very satisfied ,product is as advertised,...        positive  \n",
              "\n",
              "[462744 rows x 3 columns]"
            ]
          },
          "execution_count": 7,
          "metadata": {},
          "output_type": "execute_result"
        }
      ],
      "source": [
        "labelled_reviews"
      ]
    },
    {
      "cell_type": "markdown",
      "metadata": {
        "id": "cw7f2qboI8c1"
      },
      "source": [
        "The dataset labelled_reviews contains 462744 reviews associated with the sentiment."
      ]
    },
    {
      "cell_type": "code",
      "execution_count": null,
      "metadata": {
        "colab": {
          "base_uri": "https://localhost:8080/"
        },
        "id": "jkJi_WZhbKou",
        "outputId": "47f75fef-8972-4d00-8c71-c3db1d580419"
      },
      "outputs": [
        {
          "data": {
            "text/plain": [
              "positive    297008\n",
              "neutral     123386\n",
              "negative     42350\n",
              "Name: sentiment_label, dtype: int64"
            ]
          },
          "execution_count": 6,
          "metadata": {},
          "output_type": "execute_result"
        }
      ],
      "source": [
        "labelled_reviews.sentiment_label.value_counts()"
      ]
    },
    {
      "cell_type": "markdown",
      "metadata": {
        "id": "p38Oj3HoJstK"
      },
      "source": [
        "The majority of the reviews are positive, while the minority is represented by the negative reviews."
      ]
    },
    {
      "cell_type": "markdown",
      "metadata": {
        "id": "yYTZfmTXJ-3x"
      },
      "source": [
        "I create a function to have numerical values as sentiment."
      ]
    },
    {
      "cell_type": "code",
      "execution_count": null,
      "metadata": {
        "id": "5FQtzxM4fibk"
      },
      "outputs": [],
      "source": [
        "def create_sentiment(rating):\n",
        "    if rating==\"negative\":\n",
        "        return -1  # negative sentiment\n",
        "    elif rating==\"positive\":\n",
        "        return 1 # positive sentiment\n",
        "    else:\n",
        "        return 0 # neutral sentiment\n",
        "\n",
        "labelled_reviews['Sentiment'] = labelled_reviews['sentiment_label'].apply(create_sentiment)"
      ]
    },
    {
      "cell_type": "markdown",
      "metadata": {
        "id": "UhM_f91ff_cI"
      },
      "source": [
        "In this type of tasks it is important to conduct a data preprocessing phase. In fact, as concerns the sentiment analysis, one of the most important process is the stop words removal and the  punctuation removal"
      ]
    },
    {
      "cell_type": "markdown",
      "metadata": {
        "id": "NJu28nrTDFpo"
      },
      "source": [
        "A process to construct usable features is the TF_IDF procedure.\n",
        "TF-IDF (Term Frequency-Inverse Document Frequency) is a numerical statistic that reflects the importance of a term within a document or a collection of documents.  It is based on two main components:\n",
        "\n",
        "Term Frequency (TF): It measures the frequency of a term within a document. TF is calculated by dividing the number of occurrences of a term in a document by the total number of terms in that document.\n",
        "\n",
        "Inverse Document Frequency (IDF): It measures the rarity or uniqueness of a term across the entire collection of documents. IDF is calculated by dividing the total number of documents by the number of documents containing the term, and then taking the logarithm of the result.\n",
        "\n",
        "The TF-IDF score for a term within a document is obtained by multiplying its TF value by its IDF value. This score provides a measure of how significant the term is within the context of the document and the entire collection of documents.\n",
        "\n",
        "\n",
        " I use the dataset with the labelled reviews, in order to train the model  in predicting the sentiment of a text. After I use the trained model to predict the unlabeled texts of the customer_reviews dataset.\n",
        "I use the Logistic Regression Model."
      ]
    },
    {
      "cell_type": "code",
      "execution_count": null,
      "metadata": {
        "id": "6QKsbO045TZH"
      },
      "outputs": [],
      "source": [
        "from sklearn.feature_extraction.text import TfidfVectorizer\n",
        "from sklearn.linear_model import LogisticRegression\n",
        "from sklearn.pipeline import Pipeline\n",
        "\n",
        "tfidf = TfidfVectorizer(strip_accents=None, lowercase=False, preprocessor=None,stop_words='english')\n",
        "lr = LogisticRegression(solver='liblinear')\n",
        "\n",
        "# Pipeline definition\n",
        "pipeline = Pipeline([('tfidf', tfidf), ('lr', lr)])\n",
        "\n",
        "# Model training on labelled reviews dataset\n",
        "pipeline.fit(labelled_reviews['review_text'], labelled_reviews['Sentiment'])\n",
        "\n",
        "# Model testing on customer reviews dataset\n",
        "preds = pipeline.predict(customer_reviews['review_text'])\n",
        "\n"
      ]
    },
    {
      "cell_type": "markdown",
      "metadata": {
        "id": "bQ921pgkYr9h"
      },
      "source": [
        "I  check for the number of reviews per class(the results of the classification task)."
      ]
    },
    {
      "cell_type": "code",
      "execution_count": null,
      "metadata": {
        "id": "plG3GznCKHXO"
      },
      "outputs": [],
      "source": [
        "values, counts = np.unique(preds, return_counts=True)\n"
      ]
    },
    {
      "cell_type": "markdown",
      "metadata": {
        "id": "P7NO_Nc2YoF9"
      },
      "source": [
        "I evaluate the classification activity of the model on the customers dataset\n",
        "I  use a donut plot in order to visualize the distribution of the predictions"
      ]
    },
    {
      "cell_type": "code",
      "execution_count": null,
      "metadata": {
        "colab": {
          "base_uri": "https://localhost:8080/",
          "height": 630
        },
        "id": "QvEVqVrPY0mV",
        "outputId": "f71fad1c-2e2c-4c9d-bfdc-bdf2cad502f7"
      },
      "outputs": [
        {
          "data": {
            "image/png": "[encoded data removed]",
            "text/plain": [
              "<Figure size 640x480 with 1 Axes>"
            ]
          },
          "metadata": {},
          "output_type": "display_data"
        }
      ],
      "source": [
        "# Class Labels\n",
        "lab=['Negative','Neutral','Positive']\n",
        "\n",
        "# Donut Plot\n",
        "fig, ax = plt.subplots()\n",
        "ax.pie(counts, labels=lab, autopct='%1.1f%%', startangle=90, wedgeprops={'edgecolor': 'white'})\n",
        "\n",
        "# Adding a white circl at the center of the pie in order to create the donut\n",
        "centre_circle = plt.Circle((0, 0), 0.7, fc='white')\n",
        "fig.gca().add_artist(centre_circle)\n",
        "\n",
        "# Avoiding that the plot seems like an ellips\n",
        "ax.axis('equal')\n",
        "\n",
        "# Title\n",
        "plt.title(\"Customers sentiment\")\n",
        "\n",
        "# Margins\n",
        "plt.subplots_adjust(top=1.3)\n",
        "\n",
        "# Visualization\n",
        "plt.show()\n"
      ]
    },
    {
      "cell_type": "markdown",
      "metadata": {
        "id": "-aGJJZd5ZU0T"
      },
      "source": [
        "As we can note from  the plot, most of the reviews made by the customers concern a positive sentiment(71.2%) while the minority of the reviews express a negative sentiment."
      ]
    }
  ],
  "metadata": {
    "accelerator": "GPU",
    "colab": {
      "gpuType": "T4",
      "provenance": []
    },
    "kernelspec": {
      "display_name": "Python 3",
      "name": "python3"
    },
    "language_info": {
      "name": "python"
    }
  },
  "nbformat": 4,
  "nbformat_minor": 0
}
